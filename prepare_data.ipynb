{
 "cells": [
  {
   "cell_type": "code",
   "execution_count": 1,
   "metadata": {},
   "outputs": [],
   "source": [
    "import requests\n",
    "import pandas as pd\n",
    "import numpy as np\n",
    "import matplotlib.pyplot as plt\n",
    "import seaborn as sns"
   ]
  },
  {
   "cell_type": "code",
   "execution_count": 2,
   "metadata": {},
   "outputs": [
    {
     "data": {
      "text/plain": [
       "(113810, 113810)"
      ]
     },
     "execution_count": 2,
     "metadata": {},
     "output_type": "execute_result"
    }
   ],
   "source": [
    "train_df = pd.read_csv('data/SnapUGC/train_out.txt', sep='\\t') # remember to remove the quotation at line 342 for train_out.txt\n",
    "test_df = pd.read_csv('data/SnapUGC/train_out.txt', sep='\\t')\n",
    "\n",
    "len(train_df), len(test_df)"
   ]
  },
  {
   "cell_type": "code",
   "execution_count": 3,
   "metadata": {},
   "outputs": [
    {
     "data": {
      "text/plain": [
       "(Id                object\n",
       " Video_len        float64\n",
       " order of ECR       int64\n",
       " order of NAWP      int64\n",
       " Title             object\n",
       " Description       object\n",
       " Link              object\n",
       " dtype: object,\n",
       " Id                object\n",
       " Video_len        float64\n",
       " order of ECR       int64\n",
       " order of NAWP      int64\n",
       " Title             object\n",
       " Description       object\n",
       " Link              object\n",
       " dtype: object)"
      ]
     },
     "execution_count": 3,
     "metadata": {},
     "output_type": "execute_result"
    }
   ],
   "source": [
    "train_df.dtypes, test_df.dtypes"
   ]
  },
  {
   "cell_type": "code",
   "execution_count": 4,
   "metadata": {},
   "outputs": [],
   "source": [
    "import asyncio\n",
    "import aiohttp\n",
    "from aiohttp import ClientSession\n",
    "from tqdm import tqdm\n",
    "import os\n",
    "\n",
    "# Download a single video\n",
    "async def download_video(session: ClientSession, url: str, save_dir: str, name: str):\n",
    "    try:\n",
    "        async with session.get(url) as response:\n",
    "            if response.status == 200:\n",
    "                # Save the video with a unique filename\n",
    "                filename = os.path.join(save_dir, f\"{name}.mp4\")\n",
    "                with open(filename, \"wb\") as f:\n",
    "                    f.write(await response.read())\n",
    "                return None  # No error\n",
    "            else:\n",
    "                return f\"Failed to download {url}, status: {response.status}\"\n",
    "    except Exception as e:\n",
    "        return f\"Error downloading {url}: {e}\"\n",
    "\n",
    "# Main function to download all videos\n",
    "async def download_all_videos(urls, ids, save_dir, error_log_file):\n",
    "    async with aiohttp.ClientSession() as session:\n",
    "        tasks = []\n",
    "        for url, id in zip(urls, ids):\n",
    "            tasks.append(download_video(session, url, save_dir, id))\n",
    "        \n",
    "        # Use tqdm for progress visualization\n",
    "        with open(error_log_file, \"w\") as log_file:\n",
    "            for task in tqdm(asyncio.as_completed(tasks), total=len(tasks), desc=\"Downloading videos\"):\n",
    "                result = await task\n",
    "                if result:  # Log only errors\n",
    "                    log_file.write(result + \"\\n\")"
   ]
  },
  {
   "cell_type": "code",
   "execution_count": null,
   "metadata": {},
   "outputs": [
    {
     "name": "stderr",
     "output_type": "stream",
     "text": [
      "Downloading videos: 100%|██████████| 113810/113810 [05:27<00:00, 347.88it/s]  \n",
      "Downloading videos: 100%|██████████| 113810/113810 [05:28<00:00, 346.50it/s]  \n"
     ]
    }
   ],
   "source": [
    "# Directory to save videos\n",
    "TRAIN_VIDEOS_DIR = \"/mnt/d/Thesis/Data/Video/Train\"\n",
    "TEST_VIDEOS_DIR = \"/mnt/d/Thesis/Data/Video/Test\"\n",
    "os.makedirs(TRAIN_VIDEOS_DIR, exist_ok=False)\n",
    "os.makedirs(TEST_VIDEOS_DIR, exist_ok=False)\n",
    "\n",
    "await download_all_videos(train_df['Link'], train_df['Id'], TRAIN_VIDEOS_DIR, 'data/SnapUGC/train_download_log.txt')\n",
    "await download_all_videos(test_df['Link'], train_df['Id'], TEST_VIDEOS_DIR, 'data/SnapUGC/test_download_log.txt')"
   ]
  }
 ],
 "metadata": {
  "kernelspec": {
   "display_name": "thesis",
   "language": "python",
   "name": "python3"
  },
  "language_info": {
   "codemirror_mode": {
    "name": "ipython",
    "version": 3
   },
   "file_extension": ".py",
   "mimetype": "text/x-python",
   "name": "python",
   "nbconvert_exporter": "python",
   "pygments_lexer": "ipython3",
   "version": "3.13.0"
  }
 },
 "nbformat": 4,
 "nbformat_minor": 2
}
