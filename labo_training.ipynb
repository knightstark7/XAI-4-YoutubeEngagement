{
  "cells": [
    {
      "cell_type": "markdown",
      "metadata": {
        "id": "WZF1z7ulpLsK"
      },
      "source": [
        "# Setup"
      ]
    },
    {
      "cell_type": "code",
      "execution_count": 1,
      "metadata": {},
      "outputs": [],
      "source": [
        "# !pip install transformers accelerate opencv-python torchlibrosa pydub ffmpeg-python vit-pytorch"
      ]
    },
    {
      "cell_type": "code",
      "execution_count": 2,
      "metadata": {
        "id": "RrY32okPpLsN"
      },
      "outputs": [],
      "source": [
        "import pandas as pd\n",
        "import numpy as np\n",
        "import matplotlib.pyplot as plt\n",
        "import seaborn as sns\n",
        "import re\n",
        "import os\n",
        "import glob\n",
        "from tqdm import tqdm\n",
        "from sklearn.preprocessing import MinMaxScaler\n",
        "import multiprocessing as mp\n",
        "import cv2\n",
        "from scipy.signal import resample\n",
        "import wave\n",
        "from sklearn.model_selection import train_test_split\n",
        "import ffmpeg\n",
        "# import librosa\n",
        "from pydub import AudioSegment\n",
        "import io"
      ]
    },
    {
      "cell_type": "code",
      "execution_count": 3,
      "metadata": {
        "colab": {
          "base_uri": "https://localhost:8080/"
        },
        "id": "yH3GoRWVqVCK",
        "outputId": "19ff7dc7-0ad5-449a-beaa-d04ab093327a"
      },
      "outputs": [],
      "source": [
        "# from google.colab import drive\n",
        "# drive.mount('/content/drive')\n",
        "\n",
        "import variables as var"
      ]
    },
    {
      "cell_type": "code",
      "execution_count": 4,
      "metadata": {
        "colab": {
          "base_uri": "https://localhost:8080/"
        },
        "id": "kZxhmcK_pLsP",
        "outputId": "5178a0ff-81e2-4f72-9a41-7bd903a34787"
      },
      "outputs": [],
      "source": [
        "# var.TO_PATH = \"/content/drive/MyDrive/Thesis/PREP/sub_data\""
      ]
    },
    {
      "cell_type": "code",
      "execution_count": 5,
      "metadata": {
        "colab": {
          "base_uri": "https://localhost:8080/",
          "height": 649
        },
        "id": "5netdR01pLsP",
        "outputId": "72f7aa07-c5b5-43d4-dbcd-2fd403fe78ec"
      },
      "outputs": [
        {
          "data": {
            "text/html": [
              "<div>\n",
              "<style scoped>\n",
              "    .dataframe tbody tr th:only-of-type {\n",
              "        vertical-align: middle;\n",
              "    }\n",
              "\n",
              "    .dataframe tbody tr th {\n",
              "        vertical-align: top;\n",
              "    }\n",
              "\n",
              "    .dataframe thead th {\n",
              "        text-align: right;\n",
              "    }\n",
              "</style>\n",
              "<table border=\"1\" class=\"dataframe\">\n",
              "  <thead>\n",
              "    <tr style=\"text-align: right;\">\n",
              "      <th></th>\n",
              "      <th>Id</th>\n",
              "      <th>Video_len</th>\n",
              "      <th>order of ECR</th>\n",
              "      <th>order of NAWP</th>\n",
              "      <th>Set</th>\n",
              "      <th>ECR</th>\n",
              "      <th>NAWP</th>\n",
              "    </tr>\n",
              "  </thead>\n",
              "  <tbody>\n",
              "    <tr>\n",
              "      <th>0</th>\n",
              "      <td>5902367b4d7d4c38fe4638593ddea7ee</td>\n",
              "      <td>42.400000</td>\n",
              "      <td>0</td>\n",
              "      <td>0</td>\n",
              "      <td>train</td>\n",
              "      <td>0.000000</td>\n",
              "      <td>0.000000</td>\n",
              "    </tr>\n",
              "    <tr>\n",
              "      <th>1</th>\n",
              "      <td>9be2d4d5e8d4bfd1f5ce59f51d7d96dd</td>\n",
              "      <td>15.582233</td>\n",
              "      <td>0</td>\n",
              "      <td>0</td>\n",
              "      <td>train</td>\n",
              "      <td>0.000000</td>\n",
              "      <td>0.000000</td>\n",
              "    </tr>\n",
              "    <tr>\n",
              "      <th>2</th>\n",
              "      <td>1d5a6586d42b5b0d69f48a7ba87fccfe</td>\n",
              "      <td>18.300000</td>\n",
              "      <td>0</td>\n",
              "      <td>0</td>\n",
              "      <td>train</td>\n",
              "      <td>0.000000</td>\n",
              "      <td>0.000000</td>\n",
              "    </tr>\n",
              "    <tr>\n",
              "      <th>3</th>\n",
              "      <td>1e9b26ba367a8ed559916599294bbfc1</td>\n",
              "      <td>45.866667</td>\n",
              "      <td>0</td>\n",
              "      <td>0</td>\n",
              "      <td>train</td>\n",
              "      <td>0.000000</td>\n",
              "      <td>0.000000</td>\n",
              "    </tr>\n",
              "    <tr>\n",
              "      <th>4</th>\n",
              "      <td>e86dbca9869239fcf2d04373f9efd38e</td>\n",
              "      <td>29.880000</td>\n",
              "      <td>0</td>\n",
              "      <td>0</td>\n",
              "      <td>train</td>\n",
              "      <td>0.000000</td>\n",
              "      <td>0.000000</td>\n",
              "    </tr>\n",
              "    <tr>\n",
              "      <th>...</th>\n",
              "      <td>...</td>\n",
              "      <td>...</td>\n",
              "      <td>...</td>\n",
              "      <td>...</td>\n",
              "      <td>...</td>\n",
              "      <td>...</td>\n",
              "      <td>...</td>\n",
              "    </tr>\n",
              "    <tr>\n",
              "      <th>57833</th>\n",
              "      <td>58ec27987a35909f4006f136118c6940</td>\n",
              "      <td>21.033333</td>\n",
              "      <td>34494</td>\n",
              "      <td>131030</td>\n",
              "      <td>test</td>\n",
              "      <td>0.269961</td>\n",
              "      <td>0.999466</td>\n",
              "    </tr>\n",
              "    <tr>\n",
              "      <th>57834</th>\n",
              "      <td>26e446b86f92faa89d88a58d03ea24bb</td>\n",
              "      <td>10.700000</td>\n",
              "      <td>47428</td>\n",
              "      <td>131047</td>\n",
              "      <td>test</td>\n",
              "      <td>0.371187</td>\n",
              "      <td>0.999596</td>\n",
              "    </tr>\n",
              "    <tr>\n",
              "      <th>57835</th>\n",
              "      <td>72ae9bac4dd52c9e6befc90d9bae710c</td>\n",
              "      <td>12.900000</td>\n",
              "      <td>35188</td>\n",
              "      <td>131086</td>\n",
              "      <td>test</td>\n",
              "      <td>0.275392</td>\n",
              "      <td>0.999893</td>\n",
              "    </tr>\n",
              "    <tr>\n",
              "      <th>57836</th>\n",
              "      <td>f548dd1f4b64e5ca3f2c7780871a08c5</td>\n",
              "      <td>10.000000</td>\n",
              "      <td>1592</td>\n",
              "      <td>131090</td>\n",
              "      <td>test</td>\n",
              "      <td>0.012459</td>\n",
              "      <td>0.999924</td>\n",
              "    </tr>\n",
              "    <tr>\n",
              "      <th>57837</th>\n",
              "      <td>5f3908c3e4298ea00a6e3f33bea23a46</td>\n",
              "      <td>14.933333</td>\n",
              "      <td>2139</td>\n",
              "      <td>131097</td>\n",
              "      <td>test</td>\n",
              "      <td>0.016740</td>\n",
              "      <td>0.999977</td>\n",
              "    </tr>\n",
              "  </tbody>\n",
              "</table>\n",
              "<p>57838 rows × 7 columns</p>\n",
              "</div>"
            ],
            "text/plain": [
              "                                     Id  Video_len  order of ECR  \\\n",
              "0      5902367b4d7d4c38fe4638593ddea7ee  42.400000             0   \n",
              "1      9be2d4d5e8d4bfd1f5ce59f51d7d96dd  15.582233             0   \n",
              "2      1d5a6586d42b5b0d69f48a7ba87fccfe  18.300000             0   \n",
              "3      1e9b26ba367a8ed559916599294bbfc1  45.866667             0   \n",
              "4      e86dbca9869239fcf2d04373f9efd38e  29.880000             0   \n",
              "...                                 ...        ...           ...   \n",
              "57833  58ec27987a35909f4006f136118c6940  21.033333         34494   \n",
              "57834  26e446b86f92faa89d88a58d03ea24bb  10.700000         47428   \n",
              "57835  72ae9bac4dd52c9e6befc90d9bae710c  12.900000         35188   \n",
              "57836  f548dd1f4b64e5ca3f2c7780871a08c5  10.000000          1592   \n",
              "57837  5f3908c3e4298ea00a6e3f33bea23a46  14.933333          2139   \n",
              "\n",
              "       order of NAWP    Set       ECR      NAWP  \n",
              "0                  0  train  0.000000  0.000000  \n",
              "1                  0  train  0.000000  0.000000  \n",
              "2                  0  train  0.000000  0.000000  \n",
              "3                  0  train  0.000000  0.000000  \n",
              "4                  0  train  0.000000  0.000000  \n",
              "...              ...    ...       ...       ...  \n",
              "57833         131030   test  0.269961  0.999466  \n",
              "57834         131047   test  0.371187  0.999596  \n",
              "57835         131086   test  0.275392  0.999893  \n",
              "57836         131090   test  0.012459  0.999924  \n",
              "57837         131097   test  0.016740  0.999977  \n",
              "\n",
              "[57838 rows x 7 columns]"
            ]
          },
          "execution_count": 5,
          "metadata": {},
          "output_type": "execute_result"
        }
      ],
      "source": [
        "# prep_df = pd.read_csv(\"/content/drive/MyDrive/Thesis/PREP/prepped_df.csv\")\n",
        "prep_df = pd.read_csv(\"data/SnapUGC/prepped_df.csv\")\n",
        "\n",
        "# remove unused columns\n",
        "prep_df.drop(columns=[\"Title\", \"Description\"], inplace=True)\n",
        "\n",
        "prep_df\n",
        "\n",
        "prep_df"
      ]
    },
    {
      "cell_type": "code",
      "execution_count": 6,
      "metadata": {},
      "outputs": [
        {
          "data": {
            "text/html": [
              "<div>\n",
              "<style scoped>\n",
              "    .dataframe tbody tr th:only-of-type {\n",
              "        vertical-align: middle;\n",
              "    }\n",
              "\n",
              "    .dataframe tbody tr th {\n",
              "        vertical-align: top;\n",
              "    }\n",
              "\n",
              "    .dataframe thead th {\n",
              "        text-align: right;\n",
              "    }\n",
              "</style>\n",
              "<table border=\"1\" class=\"dataframe\">\n",
              "  <thead>\n",
              "    <tr style=\"text-align: right;\">\n",
              "      <th></th>\n",
              "      <th>Id</th>\n",
              "      <th>Video_len</th>\n",
              "      <th>order of ECR</th>\n",
              "      <th>order of NAWP</th>\n",
              "      <th>Set</th>\n",
              "      <th>ECR</th>\n",
              "      <th>NAWP</th>\n",
              "    </tr>\n",
              "  </thead>\n",
              "  <tbody>\n",
              "    <tr>\n",
              "      <th>0</th>\n",
              "      <td>5902367b4d7d4c38fe4638593ddea7ee</td>\n",
              "      <td>42.400000</td>\n",
              "      <td>0</td>\n",
              "      <td>0</td>\n",
              "      <td>train</td>\n",
              "      <td>0.000000</td>\n",
              "      <td>0.000000</td>\n",
              "    </tr>\n",
              "    <tr>\n",
              "      <th>1</th>\n",
              "      <td>9be2d4d5e8d4bfd1f5ce59f51d7d96dd</td>\n",
              "      <td>15.582233</td>\n",
              "      <td>0</td>\n",
              "      <td>0</td>\n",
              "      <td>train</td>\n",
              "      <td>0.000000</td>\n",
              "      <td>0.000000</td>\n",
              "    </tr>\n",
              "    <tr>\n",
              "      <th>2</th>\n",
              "      <td>1d5a6586d42b5b0d69f48a7ba87fccfe</td>\n",
              "      <td>18.300000</td>\n",
              "      <td>0</td>\n",
              "      <td>0</td>\n",
              "      <td>train</td>\n",
              "      <td>0.000000</td>\n",
              "      <td>0.000000</td>\n",
              "    </tr>\n",
              "    <tr>\n",
              "      <th>3</th>\n",
              "      <td>1e9b26ba367a8ed559916599294bbfc1</td>\n",
              "      <td>45.866667</td>\n",
              "      <td>0</td>\n",
              "      <td>0</td>\n",
              "      <td>train</td>\n",
              "      <td>0.000000</td>\n",
              "      <td>0.000000</td>\n",
              "    </tr>\n",
              "    <tr>\n",
              "      <th>4</th>\n",
              "      <td>e86dbca9869239fcf2d04373f9efd38e</td>\n",
              "      <td>29.880000</td>\n",
              "      <td>0</td>\n",
              "      <td>0</td>\n",
              "      <td>train</td>\n",
              "      <td>0.000000</td>\n",
              "      <td>0.000000</td>\n",
              "    </tr>\n",
              "    <tr>\n",
              "      <th>...</th>\n",
              "      <td>...</td>\n",
              "      <td>...</td>\n",
              "      <td>...</td>\n",
              "      <td>...</td>\n",
              "      <td>...</td>\n",
              "      <td>...</td>\n",
              "      <td>...</td>\n",
              "    </tr>\n",
              "    <tr>\n",
              "      <th>57833</th>\n",
              "      <td>58ec27987a35909f4006f136118c6940</td>\n",
              "      <td>21.033333</td>\n",
              "      <td>34494</td>\n",
              "      <td>131030</td>\n",
              "      <td>test</td>\n",
              "      <td>0.269961</td>\n",
              "      <td>0.999466</td>\n",
              "    </tr>\n",
              "    <tr>\n",
              "      <th>57834</th>\n",
              "      <td>26e446b86f92faa89d88a58d03ea24bb</td>\n",
              "      <td>10.700000</td>\n",
              "      <td>47428</td>\n",
              "      <td>131047</td>\n",
              "      <td>test</td>\n",
              "      <td>0.371187</td>\n",
              "      <td>0.999596</td>\n",
              "    </tr>\n",
              "    <tr>\n",
              "      <th>57835</th>\n",
              "      <td>72ae9bac4dd52c9e6befc90d9bae710c</td>\n",
              "      <td>12.900000</td>\n",
              "      <td>35188</td>\n",
              "      <td>131086</td>\n",
              "      <td>test</td>\n",
              "      <td>0.275392</td>\n",
              "      <td>0.999893</td>\n",
              "    </tr>\n",
              "    <tr>\n",
              "      <th>57836</th>\n",
              "      <td>f548dd1f4b64e5ca3f2c7780871a08c5</td>\n",
              "      <td>10.000000</td>\n",
              "      <td>1592</td>\n",
              "      <td>131090</td>\n",
              "      <td>test</td>\n",
              "      <td>0.012459</td>\n",
              "      <td>0.999924</td>\n",
              "    </tr>\n",
              "    <tr>\n",
              "      <th>57837</th>\n",
              "      <td>5f3908c3e4298ea00a6e3f33bea23a46</td>\n",
              "      <td>14.933333</td>\n",
              "      <td>2139</td>\n",
              "      <td>131097</td>\n",
              "      <td>test</td>\n",
              "      <td>0.016740</td>\n",
              "      <td>0.999977</td>\n",
              "    </tr>\n",
              "  </tbody>\n",
              "</table>\n",
              "<p>57838 rows × 7 columns</p>\n",
              "</div>"
            ],
            "text/plain": [
              "                                     Id  Video_len  order of ECR  \\\n",
              "0      5902367b4d7d4c38fe4638593ddea7ee  42.400000             0   \n",
              "1      9be2d4d5e8d4bfd1f5ce59f51d7d96dd  15.582233             0   \n",
              "2      1d5a6586d42b5b0d69f48a7ba87fccfe  18.300000             0   \n",
              "3      1e9b26ba367a8ed559916599294bbfc1  45.866667             0   \n",
              "4      e86dbca9869239fcf2d04373f9efd38e  29.880000             0   \n",
              "...                                 ...        ...           ...   \n",
              "57833  58ec27987a35909f4006f136118c6940  21.033333         34494   \n",
              "57834  26e446b86f92faa89d88a58d03ea24bb  10.700000         47428   \n",
              "57835  72ae9bac4dd52c9e6befc90d9bae710c  12.900000         35188   \n",
              "57836  f548dd1f4b64e5ca3f2c7780871a08c5  10.000000          1592   \n",
              "57837  5f3908c3e4298ea00a6e3f33bea23a46  14.933333          2139   \n",
              "\n",
              "       order of NAWP    Set       ECR      NAWP  \n",
              "0                  0  train  0.000000  0.000000  \n",
              "1                  0  train  0.000000  0.000000  \n",
              "2                  0  train  0.000000  0.000000  \n",
              "3                  0  train  0.000000  0.000000  \n",
              "4                  0  train  0.000000  0.000000  \n",
              "...              ...    ...       ...       ...  \n",
              "57833         131030   test  0.269961  0.999466  \n",
              "57834         131047   test  0.371187  0.999596  \n",
              "57835         131086   test  0.275392  0.999893  \n",
              "57836         131090   test  0.012459  0.999924  \n",
              "57837         131097   test  0.016740  0.999977  \n",
              "\n",
              "[57838 rows x 7 columns]"
            ]
          },
          "execution_count": 6,
          "metadata": {},
          "output_type": "execute_result"
        }
      ],
      "source": [
        "downloaded_videos = os.listdir(var.DOWNLOAD_PATH + \"/train\")\n",
        "downloaded_videos += os.listdir(var.DOWNLOAD_PATH + \"/test\")\n",
        "downloaded_videos = [s.removesuffix(\".mp4\") for s in downloaded_videos]\n",
        "\n",
        "prep_df = prep_df[prep_df[\"Id\"].isin(downloaded_videos)]\n",
        "prep_df"
      ]
    },
    {
      "cell_type": "code",
      "execution_count": 7,
      "metadata": {
        "colab": {
          "base_uri": "https://localhost:8080/"
        },
        "id": "ieftqMmVpLsP",
        "outputId": "3ede46f2-0b2c-4e55-ab72-c2124c9015de"
      },
      "outputs": [],
      "source": [
        "# def find_matching_ids(directory):\n",
        "#     npz_ids = set()\n",
        "#     wav_ids = set()\n",
        "\n",
        "#     for file in os.listdir(directory):\n",
        "#         if file.endswith(\".npz\"):\n",
        "#             npz_ids.add(file[:-4])  # Remove .npz\n",
        "#         elif file.endswith(\".wav\"):\n",
        "#             wav_ids.add(file[:-4])  # Remove .wav\n",
        "\n",
        "#     common_ids = npz_ids & wav_ids  # Find IDs present in both sets\n",
        "#     return sorted(common_ids)\n",
        "\n",
        "# existed_ids_train = find_matching_ids(var.TO_PATH + \"/train\")\n",
        "# existed_ids_test = find_matching_ids(var.TO_PATH + \"/test\")\n",
        "\n",
        "# prep_df = prep_df[prep_df[\"Id\"].isin(existed_ids_train) | prep_df[\"Id\"].isin(existed_ids_test)]\n",
        "# prep_df.reset_index(drop=True, inplace=True)\n",
        "# len(prep_df)"
      ]
    },
    {
      "cell_type": "code",
      "execution_count": 8,
      "metadata": {
        "colab": {
          "base_uri": "https://localhost:8080/",
          "height": 467
        },
        "id": "kGWAIyYIpLsQ",
        "outputId": "715aad2b-3517-4742-da3a-6b8ee5fb7e12"
      },
      "outputs": [
        {
          "data": {
            "text/html": [
              "<div>\n",
              "<style scoped>\n",
              "    .dataframe tbody tr th:only-of-type {\n",
              "        vertical-align: middle;\n",
              "    }\n",
              "\n",
              "    .dataframe tbody tr th {\n",
              "        vertical-align: top;\n",
              "    }\n",
              "\n",
              "    .dataframe thead th {\n",
              "        text-align: right;\n",
              "    }\n",
              "</style>\n",
              "<table border=\"1\" class=\"dataframe\">\n",
              "  <thead>\n",
              "    <tr style=\"text-align: right;\">\n",
              "      <th></th>\n",
              "      <th>Id</th>\n",
              "      <th>Video_len</th>\n",
              "      <th>order of ECR</th>\n",
              "      <th>order of NAWP</th>\n",
              "      <th>Set</th>\n",
              "      <th>ECR</th>\n",
              "      <th>NAWP</th>\n",
              "    </tr>\n",
              "  </thead>\n",
              "  <tbody>\n",
              "    <tr>\n",
              "      <th>56450</th>\n",
              "      <td>63e340b9d82e8704ce2fa0fd4946f983</td>\n",
              "      <td>46.033333</td>\n",
              "      <td>110600</td>\n",
              "      <td>115735</td>\n",
              "      <td>test</td>\n",
              "      <td>0.865591</td>\n",
              "      <td>0.882799</td>\n",
              "    </tr>\n",
              "    <tr>\n",
              "      <th>39398</th>\n",
              "      <td>08ce04a4f8a77ffcc77016754d7c636c</td>\n",
              "      <td>28.100000</td>\n",
              "      <td>95069</td>\n",
              "      <td>113506</td>\n",
              "      <td>train</td>\n",
              "      <td>0.744040</td>\n",
              "      <td>0.865797</td>\n",
              "    </tr>\n",
              "    <tr>\n",
              "      <th>45096</th>\n",
              "      <td>e24f8795446741b341865092182accf7</td>\n",
              "      <td>19.433333</td>\n",
              "      <td>126990</td>\n",
              "      <td>122865</td>\n",
              "      <td>train</td>\n",
              "      <td>0.993864</td>\n",
              "      <td>0.937185</td>\n",
              "    </tr>\n",
              "    <tr>\n",
              "      <th>16337</th>\n",
              "      <td>28b7c0972fc67c5daf75205c64585ee2</td>\n",
              "      <td>20.000000</td>\n",
              "      <td>45891</td>\n",
              "      <td>33799</td>\n",
              "      <td>train</td>\n",
              "      <td>0.359158</td>\n",
              "      <td>0.257811</td>\n",
              "    </tr>\n",
              "    <tr>\n",
              "      <th>50253</th>\n",
              "      <td>2ce6461cdb2bd7f94bdc33fa163c8ab2</td>\n",
              "      <td>33.666667</td>\n",
              "      <td>125422</td>\n",
              "      <td>129875</td>\n",
              "      <td>train</td>\n",
              "      <td>0.981592</td>\n",
              "      <td>0.990656</td>\n",
              "    </tr>\n",
              "    <tr>\n",
              "      <th>6316</th>\n",
              "      <td>20b06816d60e18f2e49f2b5a166a409b</td>\n",
              "      <td>17.880798</td>\n",
              "      <td>17187</td>\n",
              "      <td>10393</td>\n",
              "      <td>train</td>\n",
              "      <td>0.134511</td>\n",
              "      <td>0.079275</td>\n",
              "    </tr>\n",
              "    <tr>\n",
              "      <th>55235</th>\n",
              "      <td>fa020fc6f32e470c5c9d094c0bc786b1</td>\n",
              "      <td>16.266667</td>\n",
              "      <td>91275</td>\n",
              "      <td>94172</td>\n",
              "      <td>test</td>\n",
              "      <td>0.714347</td>\n",
              "      <td>0.718322</td>\n",
              "    </tr>\n",
              "    <tr>\n",
              "      <th>13133</th>\n",
              "      <td>1fca593d0a40ee756b4d78448b510374</td>\n",
              "      <td>10.166667</td>\n",
              "      <td>16453</td>\n",
              "      <td>25252</td>\n",
              "      <td>train</td>\n",
              "      <td>0.128766</td>\n",
              "      <td>0.192616</td>\n",
              "    </tr>\n",
              "    <tr>\n",
              "      <th>18454</th>\n",
              "      <td>ba607c88a35c23f049f97be859ba6b7f</td>\n",
              "      <td>10.000000</td>\n",
              "      <td>44874</td>\n",
              "      <td>41158</td>\n",
              "      <td>train</td>\n",
              "      <td>0.351198</td>\n",
              "      <td>0.313944</td>\n",
              "    </tr>\n",
              "    <tr>\n",
              "      <th>51081</th>\n",
              "      <td>f7d093fca2600bb465e02814a639ddb2</td>\n",
              "      <td>18.441667</td>\n",
              "      <td>6220</td>\n",
              "      <td>2011</td>\n",
              "      <td>test</td>\n",
              "      <td>0.048680</td>\n",
              "      <td>0.015339</td>\n",
              "    </tr>\n",
              "  </tbody>\n",
              "</table>\n",
              "</div>"
            ],
            "text/plain": [
              "                                     Id  Video_len  order of ECR  \\\n",
              "56450  63e340b9d82e8704ce2fa0fd4946f983  46.033333        110600   \n",
              "39398  08ce04a4f8a77ffcc77016754d7c636c  28.100000         95069   \n",
              "45096  e24f8795446741b341865092182accf7  19.433333        126990   \n",
              "16337  28b7c0972fc67c5daf75205c64585ee2  20.000000         45891   \n",
              "50253  2ce6461cdb2bd7f94bdc33fa163c8ab2  33.666667        125422   \n",
              "6316   20b06816d60e18f2e49f2b5a166a409b  17.880798         17187   \n",
              "55235  fa020fc6f32e470c5c9d094c0bc786b1  16.266667         91275   \n",
              "13133  1fca593d0a40ee756b4d78448b510374  10.166667         16453   \n",
              "18454  ba607c88a35c23f049f97be859ba6b7f  10.000000         44874   \n",
              "51081  f7d093fca2600bb465e02814a639ddb2  18.441667          6220   \n",
              "\n",
              "       order of NAWP    Set       ECR      NAWP  \n",
              "56450         115735   test  0.865591  0.882799  \n",
              "39398         113506  train  0.744040  0.865797  \n",
              "45096         122865  train  0.993864  0.937185  \n",
              "16337          33799  train  0.359158  0.257811  \n",
              "50253         129875  train  0.981592  0.990656  \n",
              "6316           10393  train  0.134511  0.079275  \n",
              "55235          94172   test  0.714347  0.718322  \n",
              "13133          25252  train  0.128766  0.192616  \n",
              "18454          41158  train  0.351198  0.313944  \n",
              "51081           2011   test  0.048680  0.015339  "
            ]
          },
          "execution_count": 8,
          "metadata": {},
          "output_type": "execute_result"
        }
      ],
      "source": [
        "prep_df.sample(10)"
      ]
    },
    {
      "cell_type": "markdown",
      "metadata": {
        "id": "f0hOJmqwpLsQ"
      },
      "source": [
        "# Check distribution"
      ]
    },
    {
      "cell_type": "code",
      "execution_count": 9,
      "metadata": {
        "colab": {
          "base_uri": "https://localhost:8080/",
          "height": 430
        },
        "id": "MCkwFzmHpLsQ",
        "outputId": "ee9fe039-0585-4145-8e82-99785d3929e9"
      },
      "outputs": [
        {
          "data": {
            "image/png": "[encoded data removed]",
            "text/plain": [
              "<Figure size 640x480 with 1 Axes>"
            ]
          },
          "metadata": {},
          "output_type": "display_data"
        }
      ],
      "source": [
        "plt.hist(prep_df['Video_len'])\n",
        "plt.show()"
      ]
    },
    {
      "cell_type": "code",
      "execution_count": 10,
      "metadata": {
        "colab": {
          "base_uri": "https://localhost:8080/",
          "height": 430
        },
        "id": "XmxZR-4zpLsQ",
        "outputId": "0f5b0f4c-8fa6-4162-a89e-42debd818857"
      },
      "outputs": [
        {
          "data": {
            "image/png": "[encoded data removed]",
            "text/plain": [
              "<Figure size 640x480 with 1 Axes>"
            ]
          },
          "metadata": {},
          "output_type": "display_data"
        }
      ],
      "source": [
        "plt.hist(prep_df['NAWP'], density=True, histtype='step', label='NAWP')\n",
        "plt.hist(prep_df['ECR'], density=True, histtype='step', label='ECR')\n",
        "plt.legend()\n",
        "plt.show()"
      ]
    },
    {
      "cell_type": "code",
      "execution_count": 11,
      "metadata": {
        "colab": {
          "base_uri": "https://localhost:8080/",
          "height": 430
        },
        "id": "Vj0A5TvppLsR",
        "outputId": "ee93e5dc-4467-4202-9f1d-30f337ae7390"
      },
      "outputs": [
        {
          "data": {
            "image/png": "[encoded data removed]",
            "text/plain": [
              "<Figure size 640x480 with 1 Axes>"
            ]
          },
          "metadata": {},
          "output_type": "display_data"
        }
      ],
      "source": [
        "plt.hist(prep_df[prep_df['Video_len'] <= var.MAX_SECONDS]['NAWP'], density=True, histtype='step', label='NAWP')\n",
        "plt.hist(prep_df[prep_df['Video_len'] <= var.MAX_SECONDS]['ECR'], density=True, histtype='step', label='ECR')\n",
        "plt.legend()\n",
        "plt.show()"
      ]
    },
    {
      "cell_type": "code",
      "execution_count": 12,
      "metadata": {
        "id": "GpsaSyMlg0qy"
      },
      "outputs": [],
      "source": [
        "prep_df = prep_df[prep_df['Video_len'] <= var.MAX_SECONDS]"
      ]
    },
    {
      "cell_type": "code",
      "execution_count": 13,
      "metadata": {
        "colab": {
          "base_uri": "https://localhost:8080/"
        },
        "id": "NNU03XovpLsR",
        "outputId": "ba82d094-c641-4a2e-bb08-c0ce18743b64"
      },
      "outputs": [
        {
          "data": {
            "text/plain": [
              "(np.float64(0.0),\n",
              " np.float64(0.9999771167048056),\n",
              " np.float64(0.0),\n",
              " np.float64(1.0))"
            ]
          },
          "execution_count": 13,
          "metadata": {},
          "output_type": "execute_result"
        }
      ],
      "source": [
        "prep_df['NAWP'].min(), prep_df['NAWP'].max(), prep_df['ECR'].min(), prep_df['ECR'].max()"
      ]
    },
    {
      "cell_type": "markdown",
      "metadata": {
        "id": "xvx6kvOupLsR"
      },
      "source": [
        "# Load data"
      ]
    },
    {
      "cell_type": "code",
      "execution_count": 14,
      "metadata": {
        "colab": {
          "base_uri": "https://localhost:8080/",
          "height": 36
        },
        "id": "rubigiSaYacl",
        "outputId": "29e93872-bb74-4a44-e693-59aaaeb49c4b"
      },
      "outputs": [
        {
          "data": {
            "text/plain": [
              "Id               cbae1be2f8e79a3221c7a83c048d82a6\n",
              "Video_len                                 13.3133\n",
              "order of ECR                               116690\n",
              "order of NAWP                              113281\n",
              "Set                                         train\n",
              "ECR                                      0.913253\n",
              "NAWP                                     0.864081\n",
              "Name: 39271, dtype: object"
            ]
          },
          "execution_count": 14,
          "metadata": {},
          "output_type": "execute_result"
        }
      ],
      "source": [
        "sample_video = prep_df.sample(1).iloc[0]\n",
        "sample_video"
      ]
    },
    {
      "cell_type": "code",
      "execution_count": 15,
      "metadata": {
        "colab": {
          "base_uri": "https://localhost:8080/",
          "height": 486
        },
        "id": "ojk1Qo2_pLsR",
        "outputId": "f8a65277-86f2-4bdc-a8aa-77bd1d8c9f9f"
      },
      "outputs": [
        {
          "name": "stdout",
          "output_type": "stream",
          "text": [
            "Sample ID: cbae1be2f8e79a3221c7a83c048d82a6\n",
            "Loaded Video Shape: (67, 224, 128, 3)\n",
            "Loaded Audio Shape: (213252,)\n"
          ]
        },
        {
          "data": {
            "image/png": "[encoded data removed]",
            "text/plain": [
              "<Figure size 640x480 with 1 Axes>"
            ]
          },
          "metadata": {},
          "output_type": "display_data"
        }
      ],
      "source": [
        "def load_video_audio(video_path, \n",
        "                    target_height=var.TARGET_FRAME_SIZE[0], target_width=var.TARGET_FRAME_SIZE[1], target_fps=var.VIDEO_FPS, \n",
        "                    target_sample_rate=var.AUDIO_FPS,\n",
        "                    start=0, end=None):\n",
        "    \"\"\"\n",
        "    Extracts video frames and audio from a video file between start and end seconds, with resizing and downsampling.\n",
        "    \"\"\"\n",
        "    # ---- Extract Video Frames with Fixed FPS ----\n",
        "    cap = cv2.VideoCapture(video_path)\n",
        "    original_fps = cap.get(cv2.CAP_PROP_FPS)\n",
        "    total_frames = int(cap.get(cv2.CAP_PROP_FRAME_COUNT))\n",
        "    duration = total_frames / original_fps\n",
        "\n",
        "    if end is None or end > duration:\n",
        "        end = duration\n",
        "\n",
        "    start_frame = int(start * original_fps)\n",
        "    end_frame = int(end * original_fps)\n",
        "    frame_interval = original_fps / target_fps if target_fps is not None else 1\n",
        "\n",
        "    frames = []\n",
        "    frame_idx = 0\n",
        "\n",
        "    cap.set(cv2.CAP_PROP_POS_FRAMES, start_frame)\n",
        "\n",
        "    while cap.isOpened():\n",
        "        current_pos = cap.get(cv2.CAP_PROP_POS_FRAMES)\n",
        "        if current_pos >= end_frame:\n",
        "            break\n",
        "\n",
        "        ret, frame = cap.read()\n",
        "        if not ret:\n",
        "            break\n",
        "\n",
        "        if frame_idx % round(frame_interval) == 0:\n",
        "            h, w, _ = frame.shape\n",
        "\n",
        "            # Resize with padding\n",
        "            scale = min(target_width / w, target_height / h)\n",
        "            new_w, new_h = int(w * scale), int(h * scale)\n",
        "            resized_frame = cv2.resize(frame, (new_w, new_h))\n",
        "            resized_frame = cv2.cvtColor(resized_frame, cv2.COLOR_BGR2RGB)\n",
        "\n",
        "            padded_frame = np.zeros((target_height, target_width, 3), dtype=np.uint8)\n",
        "            pad_top = (target_height - new_h) // 2\n",
        "            pad_left = (target_width - new_w) // 2\n",
        "            padded_frame[pad_top:pad_top+new_h, pad_left:pad_left+new_w] = resized_frame\n",
        "\n",
        "            frames.append(padded_frame)\n",
        "\n",
        "        frame_idx += 1\n",
        "\n",
        "    cap.release()\n",
        "    video_array = np.array(frames, dtype=np.uint8)\n",
        "\n",
        "    # ---- Extract and Downsample Audio (Trimmed) ----\n",
        "    ffmpeg_args = {\n",
        "        'format': 'wav',\n",
        "        'ar': target_sample_rate,\n",
        "        'ac': 1\n",
        "    }\n",
        "\n",
        "    input_args = {}\n",
        "    if start != 0 and end is not None:\n",
        "        input_args['ss'] = start\n",
        "        input_args['to'] = end\n",
        "\n",
        "    out, _ = (\n",
        "        ffmpeg\n",
        "        .input(video_path, **input_args)\n",
        "        .output(\"pipe:\", **ffmpeg_args)\n",
        "        .run(capture_stdout=True, capture_stderr=True)\n",
        "    )\n",
        "\n",
        "    audio = AudioSegment.from_file(io.BytesIO(out), format=\"wav\")\n",
        "    samples = np.array(audio.get_array_of_samples(), dtype=np.int16)\n",
        "\n",
        "    return video_array, samples\n",
        "\n",
        "\n",
        "\n",
        "print(f\"Sample ID: {sample_video['Id']}\")\n",
        "\n",
        "video_loaded, audio_loaded = load_video_audio(os.path.join(var.DOWNLOAD_PATH, sample_video['Set'], sample_video['Id'] + \".mp4\"),\n",
        "                                              start=0, end=None)\n",
        "print(f\"Loaded Video Shape: {video_loaded.shape}\")  # (num_frames, height, width, 3)\n",
        "print(f\"Loaded Audio Shape: {audio_loaded.shape}\")\n",
        "\n",
        "plt.imshow(video_loaded[0])\n",
        "plt.show()"
      ]
    },
    {
      "cell_type": "markdown",
      "metadata": {
        "id": "wRidvVIopLsS"
      },
      "source": [
        "# Create dataset"
      ]
    },
    {
      "cell_type": "markdown",
      "metadata": {},
      "source": [
        "Numeric to label"
      ]
    },
    {
      "cell_type": "code",
      "execution_count": 16,
      "metadata": {},
      "outputs": [
        {
          "data": {
            "text/html": [
              "<div>\n",
              "<style scoped>\n",
              "    .dataframe tbody tr th:only-of-type {\n",
              "        vertical-align: middle;\n",
              "    }\n",
              "\n",
              "    .dataframe tbody tr th {\n",
              "        vertical-align: top;\n",
              "    }\n",
              "\n",
              "    .dataframe thead th {\n",
              "        text-align: right;\n",
              "    }\n",
              "</style>\n",
              "<table border=\"1\" class=\"dataframe\">\n",
              "  <thead>\n",
              "    <tr style=\"text-align: right;\">\n",
              "      <th></th>\n",
              "      <th>Id</th>\n",
              "      <th>Video_len</th>\n",
              "      <th>order of ECR</th>\n",
              "      <th>order of NAWP</th>\n",
              "      <th>Set</th>\n",
              "      <th>ECR</th>\n",
              "      <th>NAWP</th>\n",
              "      <th>Target</th>\n",
              "    </tr>\n",
              "  </thead>\n",
              "  <tbody>\n",
              "    <tr>\n",
              "      <th>0</th>\n",
              "      <td>5902367b4d7d4c38fe4638593ddea7ee</td>\n",
              "      <td>42.400000</td>\n",
              "      <td>0</td>\n",
              "      <td>0</td>\n",
              "      <td>train</td>\n",
              "      <td>0.000000</td>\n",
              "      <td>0.000000</td>\n",
              "      <td>0</td>\n",
              "    </tr>\n",
              "    <tr>\n",
              "      <th>1</th>\n",
              "      <td>9be2d4d5e8d4bfd1f5ce59f51d7d96dd</td>\n",
              "      <td>15.582233</td>\n",
              "      <td>0</td>\n",
              "      <td>0</td>\n",
              "      <td>train</td>\n",
              "      <td>0.000000</td>\n",
              "      <td>0.000000</td>\n",
              "      <td>0</td>\n",
              "    </tr>\n",
              "    <tr>\n",
              "      <th>2</th>\n",
              "      <td>1d5a6586d42b5b0d69f48a7ba87fccfe</td>\n",
              "      <td>18.300000</td>\n",
              "      <td>0</td>\n",
              "      <td>0</td>\n",
              "      <td>train</td>\n",
              "      <td>0.000000</td>\n",
              "      <td>0.000000</td>\n",
              "      <td>0</td>\n",
              "    </tr>\n",
              "    <tr>\n",
              "      <th>3</th>\n",
              "      <td>1e9b26ba367a8ed559916599294bbfc1</td>\n",
              "      <td>45.866667</td>\n",
              "      <td>0</td>\n",
              "      <td>0</td>\n",
              "      <td>train</td>\n",
              "      <td>0.000000</td>\n",
              "      <td>0.000000</td>\n",
              "      <td>0</td>\n",
              "    </tr>\n",
              "    <tr>\n",
              "      <th>4</th>\n",
              "      <td>e86dbca9869239fcf2d04373f9efd38e</td>\n",
              "      <td>29.880000</td>\n",
              "      <td>0</td>\n",
              "      <td>0</td>\n",
              "      <td>train</td>\n",
              "      <td>0.000000</td>\n",
              "      <td>0.000000</td>\n",
              "      <td>0</td>\n",
              "    </tr>\n",
              "    <tr>\n",
              "      <th>...</th>\n",
              "      <td>...</td>\n",
              "      <td>...</td>\n",
              "      <td>...</td>\n",
              "      <td>...</td>\n",
              "      <td>...</td>\n",
              "      <td>...</td>\n",
              "      <td>...</td>\n",
              "      <td>...</td>\n",
              "    </tr>\n",
              "    <tr>\n",
              "      <th>57833</th>\n",
              "      <td>58ec27987a35909f4006f136118c6940</td>\n",
              "      <td>21.033333</td>\n",
              "      <td>34494</td>\n",
              "      <td>131030</td>\n",
              "      <td>test</td>\n",
              "      <td>0.269961</td>\n",
              "      <td>0.999466</td>\n",
              "      <td>2</td>\n",
              "    </tr>\n",
              "    <tr>\n",
              "      <th>57834</th>\n",
              "      <td>26e446b86f92faa89d88a58d03ea24bb</td>\n",
              "      <td>10.700000</td>\n",
              "      <td>47428</td>\n",
              "      <td>131047</td>\n",
              "      <td>test</td>\n",
              "      <td>0.371187</td>\n",
              "      <td>0.999596</td>\n",
              "      <td>2</td>\n",
              "    </tr>\n",
              "    <tr>\n",
              "      <th>57835</th>\n",
              "      <td>72ae9bac4dd52c9e6befc90d9bae710c</td>\n",
              "      <td>12.900000</td>\n",
              "      <td>35188</td>\n",
              "      <td>131086</td>\n",
              "      <td>test</td>\n",
              "      <td>0.275392</td>\n",
              "      <td>0.999893</td>\n",
              "      <td>2</td>\n",
              "    </tr>\n",
              "    <tr>\n",
              "      <th>57836</th>\n",
              "      <td>f548dd1f4b64e5ca3f2c7780871a08c5</td>\n",
              "      <td>10.000000</td>\n",
              "      <td>1592</td>\n",
              "      <td>131090</td>\n",
              "      <td>test</td>\n",
              "      <td>0.012459</td>\n",
              "      <td>0.999924</td>\n",
              "      <td>2</td>\n",
              "    </tr>\n",
              "    <tr>\n",
              "      <th>57837</th>\n",
              "      <td>5f3908c3e4298ea00a6e3f33bea23a46</td>\n",
              "      <td>14.933333</td>\n",
              "      <td>2139</td>\n",
              "      <td>131097</td>\n",
              "      <td>test</td>\n",
              "      <td>0.016740</td>\n",
              "      <td>0.999977</td>\n",
              "      <td>2</td>\n",
              "    </tr>\n",
              "  </tbody>\n",
              "</table>\n",
              "<p>57838 rows × 8 columns</p>\n",
              "</div>"
            ],
            "text/plain": [
              "                                     Id  Video_len  order of ECR  \\\n",
              "0      5902367b4d7d4c38fe4638593ddea7ee  42.400000             0   \n",
              "1      9be2d4d5e8d4bfd1f5ce59f51d7d96dd  15.582233             0   \n",
              "2      1d5a6586d42b5b0d69f48a7ba87fccfe  18.300000             0   \n",
              "3      1e9b26ba367a8ed559916599294bbfc1  45.866667             0   \n",
              "4      e86dbca9869239fcf2d04373f9efd38e  29.880000             0   \n",
              "...                                 ...        ...           ...   \n",
              "57833  58ec27987a35909f4006f136118c6940  21.033333         34494   \n",
              "57834  26e446b86f92faa89d88a58d03ea24bb  10.700000         47428   \n",
              "57835  72ae9bac4dd52c9e6befc90d9bae710c  12.900000         35188   \n",
              "57836  f548dd1f4b64e5ca3f2c7780871a08c5  10.000000          1592   \n",
              "57837  5f3908c3e4298ea00a6e3f33bea23a46  14.933333          2139   \n",
              "\n",
              "       order of NAWP    Set       ECR      NAWP  Target  \n",
              "0                  0  train  0.000000  0.000000       0  \n",
              "1                  0  train  0.000000  0.000000       0  \n",
              "2                  0  train  0.000000  0.000000       0  \n",
              "3                  0  train  0.000000  0.000000       0  \n",
              "4                  0  train  0.000000  0.000000       0  \n",
              "...              ...    ...       ...       ...     ...  \n",
              "57833         131030   test  0.269961  0.999466       2  \n",
              "57834         131047   test  0.371187  0.999596       2  \n",
              "57835         131086   test  0.275392  0.999893       2  \n",
              "57836         131090   test  0.012459  0.999924       2  \n",
              "57837         131097   test  0.016740  0.999977       2  \n",
              "\n",
              "[57838 rows x 8 columns]"
            ]
          },
          "execution_count": 16,
          "metadata": {},
          "output_type": "execute_result"
        }
      ],
      "source": [
        "THRESHOLD = [0.3, 0.7]\n",
        "\n",
        "def get_label(x):\n",
        "    if x < THRESHOLD[0]:\n",
        "        return 0\n",
        "    elif x > THRESHOLD[1]:\n",
        "        return 2\n",
        "    else:\n",
        "        return 1\n",
        "\n",
        "prep_df['Target'] = prep_df['NAWP'].apply(get_label) # small ECR is positive\n",
        "prep_df"
      ]
    },
    {
      "cell_type": "code",
      "execution_count": 17,
      "metadata": {},
      "outputs": [],
      "source": [
        "def to_num_frames(video_array, target_frame):\n",
        "    num_frames = video_array.shape[0]\n",
        "\n",
        "    if num_frames == target_frame:\n",
        "        return video_array\n",
        "    elif num_frames < target_frame:\n",
        "        # Pad with zeros if fewer frames than target\n",
        "        padding = np.zeros((target_frame - num_frames, video_array.shape[1], video_array.shape[2], video_array.shape[3]), dtype=np.uint8)\n",
        "        return np.concatenate((video_array, padding), axis=0)\n",
        "\n",
        "    indices = np.linspace(0, num_frames - 1, target_frame).astype(int)\n",
        "    return video_array[indices]"
      ]
    },
    {
      "cell_type": "code",
      "execution_count": 18,
      "metadata": {
        "id": "Sby9GbKApLsS"
      },
      "outputs": [],
      "source": [
        "import torch\n",
        "from torch.utils.data import Dataset, DataLoader\n",
        "import numpy as np\n",
        "import wave\n",
        "import os\n",
        "\n",
        "config = {\n",
        "    'frame_size': 224,\n",
        "    'video_fps': None,\n",
        "    'num_frames': 32,\n",
        "    'audio_hz': 16000,\n",
        "    'max_seconds': 60\n",
        "}\n",
        "\n",
        "class VideoAudioDataset(Dataset):\n",
        "    def __init__(self, df):\n",
        "        self.df = df\n",
        "\n",
        "    def __len__(self):\n",
        "        return len(self.df)\n",
        "\n",
        "    def __getitem__(self, idx):\n",
        "        sample = self.df.iloc[idx]\n",
        "        sample_id = sample[\"Id\"]\n",
        "\n",
        "        video_array, audio_array = load_video_audio(os.path.join(var.DOWNLOAD_PATH, sample[\"Set\"], sample_id + \".mp4\"),\n",
        "                                                    target_height=var.TARGET_FRAME_SIZE[0],\n",
        "                                                    target_width=var.TARGET_FRAME_SIZE[1],\n",
        "                                                    target_fps=config['video_fps'],\n",
        "                                                    target_sample_rate=config['audio_hz'],\n",
        "                                                    start=0, end=config['max_seconds'])\n",
        "\n",
        "        video_array = to_num_frames(video_array, target_frame=config['num_frames'])\n",
        "\n",
        "        # plt.imshow(video_array[0])\n",
        "        # plt.show()\n",
        "        # input()\n",
        "\n",
        "        # Normalize video frames\n",
        "        # video_array = video_array.astype(np.float32) / 255.0\n",
        "        \n",
        "        # # Normalize audio samples to [-1, 1]\n",
        "        # audio_array = audio_array.astype(np.float32) / 32768.0\n",
        "        # audio_array = audio_array - np.mean(audio_array)\n",
        "        # audio_array = audio_array / np.max(np.abs(audio_array))\n",
        "\n",
        "        # Convert to tensors\n",
        "        video_tensor = torch.tensor(video_array, dtype=torch.float32)\n",
        "        audio_tensor = torch.tensor(audio_array, dtype=torch.float32)\n",
        "        \n",
        "        \n",
        "        label =  sample['Target'] #  # [sample['ECR'], sample['NAWP']]\n",
        "        label_tensor = torch.tensor(label,  dtype=torch.long) # dtype=torch.long)\n",
        "\n",
        "        return {\n",
        "            \"id\": sample_id,\n",
        "            \"video\": video_tensor,\n",
        "            \"audio\": audio_tensor,\n",
        "            \"label\": label_tensor\n",
        "        }\n",
        "\n",
        "def collate_fn(batch, max_frames, max_audio_samples):\n",
        "    \"\"\"Custom collate function to pad frames and audio.\"\"\"\n",
        "\n",
        "    video_tensors = []\n",
        "    audio_tensors = []\n",
        "    labels = []\n",
        "    ids = []\n",
        "    sample_rates = []\n",
        "\n",
        "    for sample in batch:\n",
        "        video = sample[\"video\"]\n",
        "        audio = sample[\"audio\"]\n",
        "        num_frames = video.shape[0]\n",
        "        num_audio_samples = audio.shape[0]\n",
        "\n",
        "        # # To fix num video frames\n",
        "        padded_video = video # to_num_frames(video)\n",
        "\n",
        "        # Pad audio samples\n",
        "        if num_audio_samples < max_audio_samples:\n",
        "            pad_audio = max_audio_samples - num_audio_samples\n",
        "            padded_audio = torch.cat([audio, torch.zeros(pad_audio)], dim=0)\n",
        "        else:\n",
        "            padded_audio = audio[:max_audio_samples]\n",
        "\n",
        "        video_tensors.append(padded_video)\n",
        "        audio_tensors.append(padded_audio)\n",
        "        labels.append(sample[\"label\"])\n",
        "        ids.append(sample[\"id\"])\n",
        "\n",
        "    return {\n",
        "        \"id\": ids,\n",
        "        \"video\": torch.stack(video_tensors),  # (batch_size, num_frames, C, H, W)\n",
        "        \"audio\": torch.stack(audio_tensors),  # (batch_size, audio_length)\n",
        "        \"label\": torch.stack(labels)  # (batch_size,)\n",
        "    }"
      ]
    },
    {
      "cell_type": "markdown",
      "metadata": {
        "id": "6DWgkATApLsT"
      },
      "source": [
        "# Split data"
      ]
    },
    {
      "cell_type": "code",
      "execution_count": 19,
      "metadata": {},
      "outputs": [],
      "source": [
        "# test with small subset\n",
        "prep_df = prep_df.sample(frac=0.1, random_state=42).reset_index(drop=True)"
      ]
    },
    {
      "cell_type": "code",
      "execution_count": 20,
      "metadata": {
        "colab": {
          "base_uri": "https://localhost:8080/"
        },
        "id": "U-sL3UgdpLsT",
        "outputId": "f1e4cbb0-0813-4ae4-af8c-22a9a412c18b"
      },
      "outputs": [
        {
          "data": {
            "text/plain": [
              "(4065, 1017, 702)"
            ]
          },
          "execution_count": 20,
          "metadata": {},
          "output_type": "execute_result"
        }
      ],
      "source": [
        "train_df = prep_df[prep_df[\"Set\"] == \"train\"]\n",
        "\n",
        "train_df, val_df = train_test_split(train_df, test_size=0.2, random_state=42)\n",
        "\n",
        "test_df = prep_df[prep_df[\"Set\"] == \"test\"]\n",
        "\n",
        "len(train_df), len(val_df), len(test_df)"
      ]
    },
    {
      "cell_type": "code",
      "execution_count": 21,
      "metadata": {},
      "outputs": [],
      "source": [
        "BATCH_SIZE = 2"
      ]
    },
    {
      "cell_type": "code",
      "execution_count": 22,
      "metadata": {},
      "outputs": [],
      "source": [
        "trainset = VideoAudioDataset(train_df)\n",
        "valset = VideoAudioDataset(val_df)\n",
        "testset = VideoAudioDataset(test_df)\n",
        "\n",
        "train_loader = DataLoader(trainset, batch_size=BATCH_SIZE, shuffle=True,  num_workers=4,\n",
        "                          collate_fn=lambda x: collate_fn(x, max_frames=config['num_frames'], max_audio_samples=config['audio_hz'] * config['max_seconds']))\n",
        "\n",
        "val_loader = DataLoader(valset, batch_size=BATCH_SIZE, shuffle=False, num_workers=4,\n",
        "                          collate_fn=lambda x: collate_fn(x, max_frames=config['num_frames'], max_audio_samples=config['audio_hz'] * config['max_seconds']))\n",
        "\n",
        "test_loader = DataLoader(testset, batch_size=BATCH_SIZE, shuffle=False, num_workers=4,\n",
        "                          collate_fn=lambda x: collate_fn(x, max_frames=config['num_frames'], max_audio_samples=config['audio_hz'] * config['max_seconds']))\n"
      ]
    },
    {
      "cell_type": "code",
      "execution_count": 23,
      "metadata": {},
      "outputs": [],
      "source": [
        "# sample_batch = next(iter(train_loader))\n",
        "\n",
        "# sample_batch['id'], sample_batch['video'].shape, sample_batch['audio'].shape, sample_batch['label'].shape"
      ]
    },
    {
      "cell_type": "markdown",
      "metadata": {
        "id": "q2gWL6ZypLsT"
      },
      "source": [
        "# Define model"
      ]
    },
    {
      "cell_type": "markdown",
      "metadata": {},
      "source": [
        "## Video encoder"
      ]
    },
    {
      "cell_type": "code",
      "execution_count": 24,
      "metadata": {},
      "outputs": [],
      "source": [
        "import torch\n",
        "import torch.nn as nn\n",
        "from vit_pytorch.vivit import ViT\n",
        "\n",
        "class VideoEncoder3DViT(nn.Module):\n",
        "    def __init__(self, out_dim=512, dropout=0.3):\n",
        "        super().__init__()\n",
        "        self.vivit = ViT(\n",
        "            image_size = 224,          # image size\n",
        "            frames = config['num_frames'],               # number of frames\n",
        "            image_patch_size = 16,     # image patch size\n",
        "            frame_patch_size = 2,      # frame patch size\n",
        "            num_classes = out_dim,\n",
        "            dim = 1024,\n",
        "            spatial_depth = 6,         # depth of the spatial transformer\n",
        "            temporal_depth = 6,        # depth of the temporal transformer\n",
        "            heads = 8,\n",
        "            mlp_dim = 2048,\n",
        "            dropout = dropout,\n",
        "            variant = 'factorized_encoder', # or 'factorized_self_attention'\n",
        "        )\n",
        "        \n",
        "        self.lnorm = nn.LayerNorm(out_dim)\n",
        "\n",
        "    def forward(self, x):  # (B, T, H, W, 3)\n",
        "        x = x / 255.0  # Normalize to [0, 1]\n",
        "        x = x.permute(0, 4, 1, 2, 3)  # (B, C, T, H, W)\n",
        "        x = self.vivit(x)  # (B, dim)\n",
        "        x = self.lnorm(x)  # (B, dim)\n",
        "        return x\n",
        "\n",
        "class AudioEncoder(nn.Module):\n",
        "    def __init__(self, out_dim=512):\n",
        "        super(AudioEncoder, self).__init__()\n",
        "        self.cnn = nn.Sequential(\n",
        "            nn.Conv1d(1, 32, kernel_size=5, stride=2, padding=2),\n",
        "            nn.BatchNorm1d(32),\n",
        "            nn.ReLU(),\n",
        "            nn.Conv1d(32, 64, kernel_size=5, stride=2, padding=2),\n",
        "            nn.BatchNorm1d(64),\n",
        "            nn.ReLU(),\n",
        "            nn.Conv1d(64, 128, kernel_size=5, stride=2, padding=2),\n",
        "            nn.BatchNorm1d(128),\n",
        "            nn.ReLU(),\n",
        "            nn.Conv1d(128, 256, kernel_size=5, stride=2, padding=2),\n",
        "            nn.BatchNorm1d(256),\n",
        "            nn.ReLU(),\n",
        "            nn.AdaptiveAvgPool1d(1)\n",
        "        )\n",
        "        self.fc = nn.Linear(256, out_dim)\n",
        "        self.lnorm = nn.LayerNorm(out_dim)\n",
        "\n",
        "\n",
        "    def forward(self, x):  # x: (B, N)\n",
        "        x = torch.clamp(x / 32768.0, -1.0, 1.0)  # Normalize to [-1, 1] with clamping\n",
        "        x = x.unsqueeze(1)  # (B, 1, N)\n",
        "        x = self.cnn(x)  # (B, 128, 1)\n",
        "        x = x.view(x.size(0), -1)  # (B, 128)\n",
        "        x = self.fc(x)  # (B, out_dim)\n",
        "        x = self.lnorm(x)\n",
        "        return x\n",
        "\n",
        "class AudioVisualModel(nn.Module):\n",
        "    def __init__(self, fusion_dim=1024):\n",
        "        super(AudioVisualModel, self).__init__()\n",
        "        self.video_encoder = VideoEncoder3DViT(out_dim=512)\n",
        "        self.audio_encoder = AudioEncoder(out_dim=512)\n",
        "        self.fusion = nn.Sequential(\n",
        "            nn.Linear(1024, fusion_dim),\n",
        "            nn.ReLU(),\n",
        "            nn.LayerNorm(fusion_dim)\n",
        "        )\n",
        "\n",
        "    def forward(self, video_frames, audio_waveform):\n",
        "        # video_frames: (B, T, H, W, 3)\n",
        "        # audio_waveform: (B, N)\n",
        "        video_feat = self.video_encoder(video_frames)  # (B, 512)\n",
        "        audio_feat = self.audio_encoder(audio_waveform)  # (B, 512)\n",
        "        fused = torch.cat([video_feat, audio_feat], dim=-1)  # (B, 1024)\n",
        "        return self.fusion(fused)  # (B, 1024)"
      ]
    },
    {
      "cell_type": "code",
      "execution_count": 25,
      "metadata": {},
      "outputs": [],
      "source": [
        "# sample_batch = next(iter(train_loader))\n",
        "\n",
        "\n",
        "# device = 'cpu'\n",
        "# model = AudioVisualModel(fusion_dim=768).to(device)\n",
        "# model(sample_batch[\"video\"].to(device), sample_batch[\"audio\"].to(device)).shape"
      ]
    },
    {
      "cell_type": "markdown",
      "metadata": {},
      "source": [
        "## Text encoder"
      ]
    },
    {
      "cell_type": "code",
      "execution_count": 26,
      "metadata": {},
      "outputs": [
        {
          "name": "stdout",
          "output_type": "stream",
          "text": [
            "Loaded 130 total concepts.\n"
          ]
        }
      ],
      "source": [
        "import json\n",
        "\n",
        "json_path = 'data/SnapUGC/sample_concepts.json'\n",
        "\n",
        "# === Load Concepts ===\n",
        "with open(json_path, 'r') as f:\n",
        "    concept_dict = json.load(f)\n",
        "\n",
        "concepts = []\n",
        "concept2cls = []\n",
        "classnames = list(concept_dict.keys())\n",
        "for cls_idx, cls_name in enumerate(classnames):\n",
        "    for concept in concept_dict[cls_name]:\n",
        "        concepts.append(concept)\n",
        "        concept2cls.append(cls_idx)\n",
        "\n",
        "concept2cls = torch.tensor(concept2cls, dtype=torch.long)\n",
        "select_idx = torch.arange(len(concepts))\n",
        "\n",
        "\n",
        "print(f\"Loaded {len(concepts)} total concepts.\")"
      ]
    },
    {
      "cell_type": "code",
      "execution_count": 27,
      "metadata": {},
      "outputs": [
        {
          "name": "stdout",
          "output_type": "stream",
          "text": [
            "Concepts shape: torch.Size([130, 768])\n",
            "Concept2cls shape: torch.Size([130])\n",
            "Select_idx shape: torch.Size([130])\n"
          ]
        }
      ],
      "source": [
        "import torch\n",
        "from tqdm import tqdm\n",
        "from transformers import CLIPTokenizer, CLIPTextModel\n",
        "\n",
        "# === Config ===\n",
        "output_path = 'prepare'\n",
        "model_name = 'openai/clip-vit-large-patch14'\n",
        "device = 'cpu'\n",
        "\n",
        "os.makedirs(output_path, exist_ok=True)\n",
        "\n",
        "try:\n",
        "    concept_features = torch.tensor(np.load(f'{output_path}/concepts_feat.npy'))\n",
        "    \n",
        "except Exception as e:\n",
        "    print(f\"Error: {e}\\nRecreate concept features.\")\n",
        "\n",
        "    # === Load tokenizer and model ===\n",
        "    tokenizer = CLIPTokenizer.from_pretrained(model_name)\n",
        "    text_encoder = CLIPTextModel.from_pretrained(model_name).to(device)\n",
        "    text_encoder.eval()\n",
        "\n",
        "    # === Tokenize and Encode ===\n",
        "    batch_size = 32\n",
        "    concept_features = []\n",
        "\n",
        "    with torch.no_grad():\n",
        "        for i in tqdm(range(0, len(concepts), batch_size)):\n",
        "            batch = concepts[i:i+batch_size]\n",
        "            tokens = tokenizer(batch, return_tensors='pt', padding=True, truncation=True).to(device)\n",
        "            outputs = text_encoder(**tokens)\n",
        "            last_hidden_state = outputs.last_hidden_state  # shape: (B, 77, D)\n",
        "            text_embeds = last_hidden_state[:, 0, :]  # take CLS token (like CLIP does)\n",
        "            text_embeds = text_embeds / text_embeds.norm(dim=-1, keepdim=True)  # normalize\n",
        "            concept_features.append(text_embeds.cpu())\n",
        "\n",
        "    concept_features = torch.cat(concept_features, dim=0).clone().detach()\n",
        "\n",
        "    # === Save ===\n",
        "    np.save(f'{output_path}/concepts_feat.npy', concept_features)\n",
        "\n",
        "\n",
        "print(f\"Concepts shape: {concept_features.shape}\")\n",
        "print(f\"Concept2cls shape: {concept2cls.shape}\")\n",
        "print(f\"Select_idx shape: {select_idx.shape}\")"
      ]
    },
    {
      "cell_type": "code",
      "execution_count": 28,
      "metadata": {},
      "outputs": [],
      "source": [
        "# import torch\n",
        "# import numpy as np\n",
        "# from sklearn.manifold import TSNE\n",
        "# import plotly.express as px\n",
        "\n",
        "# # === Load embeddings and labels ===\n",
        "# concept_feats = concept_features\n",
        "# concept_raw = concepts\n",
        "\n",
        "\n",
        "# features_np = concept_feats.numpy()\n",
        "# labels_np = concept2cls.numpy()\n",
        "# concept_texts = np.array(concept_raw)\n",
        "\n",
        "# # === Run t-SNE ===\n",
        "# tsne = TSNE(n_components=2, random_state=42, perplexity=5)\n",
        "# reduced_feats = tsne.fit_transform(features_np)\n",
        "\n",
        "# # === Build dataframe for Plotly ===\n",
        "# import pandas as pd\n",
        "\n",
        "# df = pd.DataFrame({\n",
        "#     \"id\": select_idx,\n",
        "#     \"x\": reduced_feats[:, 0],\n",
        "#     \"y\": reduced_feats[:, 1],\n",
        "#     \"class\": [\"engaged\" if l == 0 else \"not_engaged\" for l in labels_np],\n",
        "#     \"concept\": concept_texts\n",
        "# })\n",
        "\n",
        "# # === Plot ===\n",
        "# fig = px.scatter(\n",
        "#     df, x=\"x\", y=\"y\", color=\"class\",\n",
        "#     title=\"t-SNE of CLIP Text Embeddings (Concepts)\",\n",
        "#     hover_data=[\"concept\", \"id\"],\n",
        "#     template=\"plotly_white\",\n",
        "# )\n",
        "\n",
        "# fig.update_traces(marker=dict(size=12, line=dict(width=1, color='DarkSlateGrey')))\n",
        "# fig.update_layout(title_font_size=20, legend_title_text='Class')\n",
        "# fig.show()\n"
      ]
    },
    {
      "cell_type": "markdown",
      "metadata": {},
      "source": [
        "## Asso opt model"
      ]
    },
    {
      "cell_type": "code",
      "execution_count": 29,
      "metadata": {},
      "outputs": [],
      "source": [
        "import torch\n",
        "import torch.nn.functional as F\n",
        "import torch.nn as nn\n",
        "\n",
        "class ClassificationHead(nn.Module):\n",
        "    def __init__(self, input_dim, num_classes):\n",
        "        super().__init__()\n",
        "        self.classifier = nn.Linear(input_dim, num_classes)\n",
        "        \n",
        "    def forward(self, x):\n",
        "        return self.classifier(x)\n",
        "\n",
        "class AssoOptModel(nn.Module):\n",
        "    def __init__(self, av_model, text_features, num_classes, num_concepts):\n",
        "        super().__init__()\n",
        "        self.av_model = av_model\n",
        "        self.text_features = text_features  # (num_concepts, D)\n",
        "        self.asso_mat = nn.Parameter(torch.zeros((num_classes, num_concepts), device=device), requires_grad=True)\n",
        "        \n",
        "        self.linear_head = ClassificationHead(input_dim=text_features.shape[1], num_classes=num_classes)\n",
        "\n",
        "    def forward(self, video, audio, cfg):\n",
        "        if cfg['stage'] == 1:\n",
        "            feat = self.av_model(video, audio)  # (B, D)\n",
        "            return self.linear_head(feat)\n",
        "        else:\n",
        "            with torch.no_grad():\n",
        "                feat = self.av_model(video, audio)  # (B, D)\n",
        "            # Compute class features from concept association\n",
        "            weight_mat = self.get_weight_mat(cfg) \n",
        "            \n",
        "            class_feat = weight_mat @ self.text_features  # (num_classes, D)\n",
        "            # class_feat = class_feat / class_feat.norm(dim=-1, keepdim=True)  # normalize class features\n",
        "\n",
        "            sim = feat @ class_feat.T  \n",
        "            pred = 100 * sim\n",
        "            return pred\n",
        "\n",
        "\n",
        "    def get_weight_mat(self, cfg):\n",
        "        if cfg[\"asso_act\"] == \"relu\":\n",
        "            return F.relu(self.asso_mat)\n",
        "        elif cfg[\"asso_act\"] == \"tanh\":\n",
        "            return torch.tanh(self.asso_mat)\n",
        "        elif cfg[\"asso_act\"] == \"softmax\":\n",
        "            return F.softmax(self.asso_mat, dim=-1)\n",
        "        return self.asso_mat\n"
      ]
    },
    {
      "cell_type": "markdown",
      "metadata": {},
      "source": [
        "# Train step"
      ]
    },
    {
      "cell_type": "code",
      "execution_count": 30,
      "metadata": {},
      "outputs": [],
      "source": [
        "def training_step(batch, model, optimizer, cfg):\n",
        "    model.train()\n",
        "    video = batch[\"video\"].cuda()       # (B, T, H, W, 3)\n",
        "    audio = batch[\"audio\"].cuda()       # (B, N)\n",
        "    label = batch[\"label\"].cuda()       # (B, 2)\n",
        "\n",
        "    # Forward pass\n",
        "    pred = model(video, audio, cfg)\n",
        "    # Classification loss\n",
        "    # pred = torch.sigmoid(pred)\n",
        "    # cls_loss = F.mse_loss(pred, label)\n",
        "        \n",
        "    cls_loss = F.cross_entropy(pred, label)\n",
        "\n",
        "    # Regularization\n",
        "    final_loss = cls_loss\n",
        "\n",
        "    if cfg['stage'] == 2:\n",
        "        if cfg[\"use_l1_loss\"]:\n",
        "            l1_reg = torch.linalg.vector_norm(model.asso_mat, ord=1, dim=-1).max()\n",
        "            final_loss += cfg[\"lambda_l1\"] * l1_reg\n",
        "\n",
        "        if cfg[\"use_div_loss\"]:\n",
        "            div = -torch.var(pred / 100, dim=0).mean() # pred / 100 = sim\n",
        "            final_loss += cfg[\"lambda_div\"] * div\n",
        "\n",
        "    # Backpropagation\n",
        "    optimizer.zero_grad()\n",
        "    final_loss.backward()\n",
        "    # print(f\"Gradient norm: {torch.norm(model.asso_mat.grad).item()}\")\n",
        "\n",
        "    optimizer.step()\n",
        "\n",
        "    return {\n",
        "        \"loss\": final_loss.item(),\n",
        "        \"pred\": pred.detach(),\n",
        "        \"label\": label.detach()\n",
        "    }\n",
        "\n",
        "@torch.no_grad()\n",
        "def validation_step(batch, model, cfg):\n",
        "    model.eval()\n",
        "    video = batch[\"video\"].cuda()       # (B, T, C, H, W)\n",
        "    audio = batch[\"audio\"].cuda()       # (B, N)\n",
        "    label = batch[\"label\"].cuda()       # (B, 2)\n",
        "\n",
        "    # Forward pass\n",
        "    pred = model(video, audio, cfg)\n",
        "        \n",
        "    # Classification loss (same as training)\n",
        "    cls_loss = F.cross_entropy(pred, label)\n",
        "\n",
        "    # Convert logits to probabilities and binary predictions (optional)\n",
        "    prob = torch.sigmoid(pred)\n",
        "\n",
        "    return {\n",
        "        \"loss\": cls_loss.item(),\n",
        "        \"pred\": pred.detach().cpu(),\n",
        "        \"prob\": prob.detach().cpu(),\n",
        "        \"label\": label.detach().cpu()\n",
        "    }"
      ]
    },
    {
      "cell_type": "markdown",
      "metadata": {
        "id": "Ze0uBRU0pLsU"
      },
      "source": [
        "# Training"
      ]
    },
    {
      "cell_type": "code",
      "execution_count": 31,
      "metadata": {},
      "outputs": [],
      "source": [
        "from torch.utils.data import DataLoader\n",
        "from tqdm import tqdm\n",
        "import torch.optim as optim\n",
        "\n",
        "# === Config ===\n",
        "device = 'cuda' if torch.cuda.is_available() else 'cpu'\n",
        "\n",
        "\n",
        "# === Setup model ===\n",
        "text_features = concept_features.clone().detach().to(device)  # (num_concepts, D) from frozen CLIP text encoder\n",
        "num_classes = 3\n",
        "num_concepts = text_features.shape[0]\n",
        "\n",
        "# Normalize text features\n",
        "text_features /= text_features.norm(dim=-1, keepdim=True)  # (num_concepts, D)\n",
        "\n",
        "av_model = AudioVisualModel(fusion_dim=text_features.shape[1]).to(device)\n",
        "\n",
        "model = AssoOptModel(av_model, text_features, num_classes, num_concepts).to(device)"
      ]
    },
    {
      "cell_type": "code",
      "execution_count": 32,
      "metadata": {},
      "outputs": [],
      "source": [
        "checkpoints_path = \"checkpoints\"\n",
        "os.makedirs(checkpoints_path, exist_ok=True)"
      ]
    },
    {
      "cell_type": "code",
      "execution_count": 33,
      "metadata": {},
      "outputs": [
        {
          "data": {
            "text/plain": [
              "<All keys matched successfully>"
            ]
          },
          "execution_count": 33,
          "metadata": {},
          "output_type": "execute_result"
        }
      ],
      "source": [
        "model.load_state_dict(torch.load(f\"small_checkpoints/snap_stage_1_best.pth\"))"
      ]
    },
    {
      "cell_type": "markdown",
      "metadata": {},
      "source": [
        "## Stage 1"
      ]
    },
    {
      "cell_type": "code",
      "execution_count": 34,
      "metadata": {},
      "outputs": [],
      "source": [
        "cfg = {\n",
        "    'stage': 1,\n",
        "    \"asso_act\": \"relu\",       # \"relu\", \"tanh\", \"softmax\", or None\n",
        "    \"use_l1_loss\": False,\n",
        "    \"lambda_l1\": 0.01,\n",
        "    \"use_div_loss\": False,\n",
        "    \"lambda_div\": 0.005\n",
        "}"
      ]
    },
    {
      "cell_type": "code",
      "execution_count": 35,
      "metadata": {},
      "outputs": [],
      "source": [
        "# # === Training Loop ===\n",
        "# num_epochs = 5\n",
        "\n",
        "# start_from_epoch = 0\n",
        "\n",
        "# optimizer = optim.Adam(model.parameters(), lr=0.0001)\n",
        "\n",
        "# # First train only the AV model\n",
        "# cfg['stage'] = 1\n",
        "\n",
        "# best_val_acc = 0.0  # Track best validation accuracy\n",
        "\n",
        "# for epoch in range(num_epochs):\n",
        "#     if epoch < start_from_epoch:    \n",
        "#         continue\n",
        "    \n",
        "#     # TRAINING\n",
        "#     model.train()\n",
        "#     total_loss = 0\n",
        "#     cc = 0\n",
        "#     correct = 0\n",
        "#     total = 0\n",
        "#     pbar = tqdm(train_loader, desc=f\"Epoch {epoch+1}\")\n",
        "    \n",
        "#     for batch in pbar:\n",
        "#         batch = {k: v.to(device) if isinstance(v, torch.Tensor) else v for k, v in batch.items()}\n",
        "#         metrics = training_step(batch, model, optimizer, cfg)\n",
        "        \n",
        "#         # Accumulate loss\n",
        "#         total_loss += metrics[\"loss\"]\n",
        "        \n",
        "#         # Calculate accuracy\n",
        "#         pred_classes = torch.argmax(metrics[\"pred\"], dim=1)\n",
        "#         correct += (pred_classes == metrics[\"label\"]).sum().item()\n",
        "#         total += metrics[\"label\"].size(0)\n",
        "#         train_acc = 100 * correct / total if total > 0 else 0\n",
        "        \n",
        "#         # Logging\n",
        "#         if cc % 100 == 0:\n",
        "#             normalized_pred = torch.softmax(metrics[\"pred\"], dim=-1)\n",
        "#             pbar.write(f\"\\tProb: {normalized_pred}\")\n",
        "#             pbar.write(f\"\\tPred: {pred_classes}, Label: {metrics['label']}\")\n",
        "#             pbar.write(f\"\\tLoss: {metrics['loss']:.4f}\")\n",
        "        \n",
        "#             # pbar.write(f\"\\tPred: {metrics[\"pred\"]}, Label: {metrics['label']}\")\n",
        "#             # pbar.write(f\"\\tLoss: {metrics['loss']:.4f}\")\n",
        "        \n",
        "#         cc += 1\n",
        "        \n",
        "#         # Update progress bar\n",
        "#         pbar.set_postfix({\n",
        "#             \"Avg Loss\": f\"{total_loss / cc:.4f}\",\n",
        "#             \"Acc\": f\"{train_acc:.2f}%\"\n",
        "#         })\n",
        "    \n",
        "#     # Final training metrics for this epoch\n",
        "#     train_loss = total_loss / len(train_loader)\n",
        "#     train_acc = 100 * correct / total if total > 0 else 0\n",
        "    \n",
        "#     # VALIDATION\n",
        "#     model.eval()\n",
        "#     val_loss = 0\n",
        "#     val_correct = 0\n",
        "#     val_total = 0\n",
        "#     val_pbar = tqdm(val_loader, desc=f\"Validation\")\n",
        "    \n",
        "#     with torch.no_grad():\n",
        "#         for batch in val_pbar:\n",
        "#             batch = {k: v.to(device) if isinstance(v, torch.Tensor) else v for k, v in batch.items()}\n",
        "#             metrics = validation_step(batch, model, cfg)\n",
        "            \n",
        "#             # Accumulate loss\n",
        "#             val_loss += metrics[\"loss\"]\n",
        "            \n",
        "#             # Calculate accuracy\n",
        "#             val_pred_classes = torch.argmax(metrics[\"pred\"], dim=1)\n",
        "#             val_correct += (val_pred_classes == metrics[\"label\"]).sum().item()\n",
        "#             val_total += metrics[\"label\"].size(0)\n",
        "#             val_acc = 100 * val_correct / val_total if val_total > 0 else 0\n",
        "            \n",
        "#             # Update progress bar\n",
        "#             val_pbar.set_postfix({\n",
        "#                 \"Avg Loss\": f\"{val_loss / (val_pbar.n + 1):.4f}\",\n",
        "#                 \"Acc\": f\"{val_acc:.2f}%\"\n",
        "#             })\n",
        "    \n",
        "#     # Final validation metrics\n",
        "#     val_loss = val_loss / len(val_loader)\n",
        "#     val_acc = 100 * val_correct / val_total if val_total > 0 else 0\n",
        "    \n",
        "#     # Save model if it's the best so far\n",
        "#     if val_acc > best_val_acc:\n",
        "#         best_val_acc = val_acc\n",
        "#         torch.save(model.state_dict(), f\"{checkpoints_path}/snap_stage_1_best.pth\")\n",
        "#         print(f\"New best model saved with accuracy: {val_acc:.2f}%\")\n",
        "        \n",
        "#     # Always save epoch checkpoint\n",
        "#     torch.save(model.state_dict(), f\"{checkpoints_path}/snap_stage_1_epoch_{epoch + 1}.pth\")\n",
        "\n",
        "#     # Print epoch summary\n",
        "#     print(f\"Epoch {epoch+1} - Train Loss: {train_loss:.4f}, Train Acc: {train_acc:.2f}% - Val Loss: {val_loss:.4f}, Val Acc: {val_acc:.2f}%\")"
      ]
    },
    {
      "cell_type": "markdown",
      "metadata": {},
      "source": [
        "## Stage 2"
      ]
    },
    {
      "cell_type": "code",
      "execution_count": 36,
      "metadata": {},
      "outputs": [],
      "source": [
        "cfg = {\n",
        "    \"asso_act\": \"relu\",       # \"relu\", \"tanh\", \"softmax\", or None\n",
        "    \"use_l1_loss\": False,\n",
        "    \"lambda_l1\": 0.01,\n",
        "    \"use_div_loss\": False,\n",
        "    \"lambda_div\": 0.005\n",
        "}\n",
        "\n",
        "cfg['stage'] = 2"
      ]
    },
    {
      "cell_type": "code",
      "execution_count": null,
      "metadata": {},
      "outputs": [
        {
          "name": "stderr",
          "output_type": "stream",
          "text": [
            "Epoch 1:   0%|          | 0/2033 [00:00<?, ?it/s]"
          ]
        },
        {
          "name": "stdout",
          "output_type": "stream",
          "text": [
            "[[ 0.8969874  -0.51515055]\n",
            " [ 2.5677238  -0.32475477]]\n"
          ]
        },
        {
          "name": "stderr",
          "output_type": "stream",
          "text": [
            "Epoch 1:   0%|          | 1/2033 [00:07<4:21:06,  7.71s/it, Avg Loss=306.2260, Acc=0.00%]"
          ]
        },
        {
          "name": "stdout",
          "output_type": "stream",
          "text": [
            "\tProb: [[0. 1. 0.]\n",
            " [0. 1. 0.]]\n",
            "\tPred: tensor([1, 1], device='cuda:0'), Label: tensor([0, 0], device='cuda:0')\n",
            "\tLoss: 306.2260\n",
            "[[ 0.8959874  -0.51515055]\n",
            " [ 2.5687237  -0.32475477]]\n"
          ]
        },
        {
          "name": "stderr",
          "output_type": "stream",
          "text": [
            "Epoch 1:   0%|          | 2/2033 [00:07<1:52:38,  3.33s/it, Avg Loss=319.2762, Acc=0.00%]"
          ]
        },
        {
          "name": "stdout",
          "output_type": "stream",
          "text": [
            "[[ 0.8953173  -0.51515055]\n",
            " [ 2.5697193  -0.32475477]]\n"
          ]
        },
        {
          "name": "stderr",
          "output_type": "stream",
          "text": [
            "Epoch 1:   0%|          | 3/2033 [00:08<1:05:07,  1.93s/it, Avg Loss=280.5373, Acc=16.67%]"
          ]
        },
        {
          "name": "stdout",
          "output_type": "stream",
          "text": [
            "[[ 0.8945301  -0.51515055]\n",
            " [ 2.5706942  -0.32475477]]\n"
          ]
        },
        {
          "name": "stderr",
          "output_type": "stream",
          "text": [
            "Epoch 1:   0%|          | 4/2033 [00:08<42:54,  1.27s/it, Avg Loss=365.7966, Acc=12.50%]  "
          ]
        }
      ],
      "source": [
        "# === Training Loop ===\n",
        "\n",
        "model.asso_mat = nn.Parameter(torch.randn((num_classes, num_concepts), device=device), requires_grad=True)\n",
        "\n",
        "num_epochs = 5\n",
        "start_from_epoch = 0\n",
        "optimizer = optim.Adam(model.parameters(), lr=0.001)\n",
        "\n",
        "best_val_acc = 0.0  # Track best validation accuracy\n",
        "\n",
        "for epoch in range(num_epochs):\n",
        "    if epoch < start_from_epoch:    \n",
        "        continue\n",
        "    \n",
        "    # TRAINING\n",
        "    model.train()\n",
        "    model.av_model = model.av_model.eval()\n",
        "    for param in model.av_model.parameters():\n",
        "        param.requires_grad = False\n",
        "\n",
        "    # Make sure association matrix is trainable\n",
        "    model.asso_mat.requires_grad = True\n",
        "    \n",
        "    total_loss = 0\n",
        "    cc = 0\n",
        "    correct = 0\n",
        "    total = 0\n",
        "    pbar = tqdm(train_loader, desc=f\"Epoch {epoch+1}\")\n",
        "    \n",
        "    for batch in pbar:\n",
        "        # print(model.asso_mat.cpu().detach().numpy()[:2, :2])\n",
        "        batch = {k: v.to(device) if isinstance(v, torch.Tensor) else v for k, v in batch.items()}\n",
        "        metrics = training_step(batch, model, optimizer, cfg)\n",
        "        \n",
        "        # Accumulate loss\n",
        "        total_loss += metrics[\"loss\"]\n",
        "        \n",
        "        # Calculate accuracy\n",
        "        pred_classes = torch.argmax(metrics[\"pred\"], dim=1)\n",
        "        correct += (pred_classes == metrics[\"label\"]).sum().item()\n",
        "        total += metrics[\"label\"].size(0)\n",
        "        train_acc = 100 * correct / total if total > 0 else 0\n",
        "        \n",
        "        # Logging\n",
        "        if cc % 100 == 0:\n",
        "            normalized_pred = torch.softmax(metrics[\"pred\"], dim=-1)\n",
        "            pbar.write(f\"\\tProb: {normalized_pred.cpu().numpy()}\")\n",
        "            pbar.write(f\"\\tPred: {pred_classes}, Label: {metrics['label']}\")\n",
        "            pbar.write(f\"\\tLoss: {metrics['loss']:.4f}\")\n",
        "        \n",
        "            # pbar.write(f\"\\tPred: {metrics[\"pred\"]}, Label: {metrics['label']}\")\n",
        "            # pbar.write(f\"\\tLoss: {metrics['loss']:.4f}\")\n",
        "        \n",
        "        cc += 1\n",
        "        \n",
        "        # Update progress bar\n",
        "        pbar.set_postfix({\n",
        "            \"Avg Loss\": f\"{total_loss / cc:.4f}\",\n",
        "            \"Acc\": f\"{train_acc:.2f}%\"\n",
        "        })\n",
        "    \n",
        "    # Final training metrics for this epoch\n",
        "    train_loss = total_loss / len(train_loader)\n",
        "    train_acc = 100 * correct / total if total > 0 else 0\n",
        "    \n",
        "    # VALIDATION\n",
        "    model.eval()\n",
        "    val_loss = 0\n",
        "    val_correct = 0\n",
        "    val_total = 0\n",
        "    val_pbar = tqdm(val_loader, desc=f\"Validation\")\n",
        "    \n",
        "    with torch.no_grad():\n",
        "        for batch in val_pbar:\n",
        "            batch = {k: v.to(device) if isinstance(v, torch.Tensor) else v for k, v in batch.items()}\n",
        "            metrics = validation_step(batch, model, cfg)\n",
        "            \n",
        "            # Accumulate loss\n",
        "            val_loss += metrics[\"loss\"]\n",
        "            \n",
        "            # Calculate accuracy\n",
        "            val_pred_classes = torch.argmax(metrics[\"pred\"], dim=1)\n",
        "            val_correct += (val_pred_classes == metrics[\"label\"]).sum().item()\n",
        "            val_total += metrics[\"label\"].size(0)\n",
        "            val_acc = 100 * val_correct / val_total if val_total > 0 else 0\n",
        "            \n",
        "            # Update progress bar\n",
        "            val_pbar.set_postfix({\n",
        "                \"Avg Loss\": f\"{val_loss / (val_pbar.n + 1):.4f}\",\n",
        "                \"Acc\": f\"{val_acc:.2f}%\"\n",
        "            })\n",
        "    \n",
        "    # Final validation metrics\n",
        "    val_loss = val_loss / len(val_loader)\n",
        "    val_acc = 100 * val_correct / val_total if val_total > 0 else 0\n",
        "    \n",
        "    # Save model if it's the best so far\n",
        "    if val_acc > best_val_acc:\n",
        "        best_val_acc = val_acc\n",
        "        torch.save(model.state_dict(), f\"{checkpoints_path}/snap_stage_{cfg['stage']}_best.pth\")\n",
        "        print(f\"New best model saved with accuracy: {val_acc:.2f}%\")\n",
        "        \n",
        "    # Always save epoch checkpoint\n",
        "    torch.save(model.state_dict(), f\"{checkpoints_path}/snap_stage_{cfg['stage']}_epoch_{epoch + 1}.pth\")\n",
        "\n",
        "    # Print epoch summary\n",
        "    print(f\"Epoch {epoch+1} - Train Loss: {train_loss:.4f}, Train Acc: {train_acc:.2f}% - Val Loss: {val_loss:.4f}, Val Acc: {val_acc:.2f}%\")"
      ]
    },
    {
      "cell_type": "markdown",
      "metadata": {
        "id": "ShS_zWTrpLsV"
      },
      "source": [
        "# Evaluate"
      ]
    },
    {
      "cell_type": "code",
      "execution_count": null,
      "metadata": {},
      "outputs": [],
      "source": [
        "assert"
      ]
    },
    {
      "cell_type": "code",
      "execution_count": null,
      "metadata": {},
      "outputs": [],
      "source": [
        "# Test step\n",
        "all_results = []\n",
        "\n",
        "test_loss = 0\n",
        "test_cc = 0\n",
        "test_pbar = tqdm(test_loader, desc=f\"Testing\")\n",
        "for batch in test_pbar:\n",
        "    batch = {k: v.to(device) if isinstance(v, torch.Tensor) else v for k, v in batch.items()}\n",
        "    metrics = validation_step(batch, model, cfg)\n",
        "    test_loss += metrics[\"loss\"]\n",
        "    all_results.append(metrics)\n",
        "    test_cc += 1\n",
        "    test_pbar.set_postfix({\n",
        "        \"Avg Loss\": f\"{test_loss / test_cc:.4f}\",\n",
        "    })"
      ]
    },
    {
      "cell_type": "code",
      "execution_count": null,
      "metadata": {},
      "outputs": [],
      "source": [
        "all_results"
      ]
    },
    {
      "cell_type": "code",
      "execution_count": null,
      "metadata": {},
      "outputs": [],
      "source": [
        "loss_list = [entry['loss'] for entry in all_results]"
      ]
    },
    {
      "cell_type": "code",
      "execution_count": null,
      "metadata": {},
      "outputs": [],
      "source": [
        "plt.plot(loss_list)"
      ]
    },
    {
      "cell_type": "code",
      "execution_count": null,
      "metadata": {},
      "outputs": [],
      "source": [
        "all_probs = []\n",
        "all_labels = []\n",
        "\n",
        "for entry in all_results:\n",
        "    all_probs.extend([row for row in entry['prob']])\n",
        "    all_labels.extend([row for row in entry['label']])\n",
        "\n",
        "len(all_probs), len(all_labels)"
      ]
    },
    {
      "cell_type": "code",
      "execution_count": null,
      "metadata": {},
      "outputs": [],
      "source": [
        "plt.hist([el[0] for el in all_probs], range=[0,1], bins=50, alpha=0.5, label='ECR')"
      ]
    },
    {
      "cell_type": "code",
      "execution_count": null,
      "metadata": {},
      "outputs": [],
      "source": [
        "plt.hist([el[0] for el in all_labels], range=[0,1], bins=50, alpha=0.5, label='ECR')"
      ]
    },
    {
      "cell_type": "code",
      "execution_count": null,
      "metadata": {
        "id": "K5JzXJQwpLsV"
      },
      "outputs": [],
      "source": [
        "@torch.no_grad()\n",
        "def inference_step_with_interpretability(batch, model, cfg, concept_names=None, top_k=5):\n",
        "    model.eval()\n",
        "    video = batch[\"video\"].cuda()\n",
        "    audio = batch[\"audio\"].cuda()\n",
        "\n",
        "    # Forward pass\n",
        "    img_feat, cls_feat = model(video, audio, cfg)  # (B, D), (num_classes, D)\n",
        "    sim = img_feat @ cls_feat.T                    # (B, num_classes)\n",
        "    pred = 100 * sim                               # logits\n",
        "    prob = torch.sigmoid(pred)                    # (B, num_classes)\n",
        "\n",
        "    results = []\n",
        "\n",
        "    # For each sample in batch\n",
        "    for i in range(video.size(0)):\n",
        "        sample_result = {\n",
        "            \"prob\": prob[i].cpu(),\n",
        "            \"logits\": pred[i].cpu(),\n",
        "            \"concept_scores_per_class\": {}\n",
        "        }\n",
        "\n",
        "        # Get normalized concept features\n",
        "        text_feat = model.text_features / model.text_features.norm(dim=-1, keepdim=True)  # (num_concepts, D)\n",
        "        weight_mat = model.get_weight_mat(cfg)  # (num_classes, num_concepts)\n",
        "\n",
        "        # For each class, compute weighted contribution of each concept\n",
        "        for cls_idx in range(weight_mat.shape[0]):\n",
        "            weights = weight_mat[cls_idx]  # (num_concepts,)\n",
        "            concept_contrib = weights @ text_feat  # (D,)\n",
        "            concept_score = F.cosine_similarity(img_feat[i], concept_contrib, dim=0).item()\n",
        "\n",
        "            # Top contributing concepts\n",
        "            topk_weights, topk_idx = torch.topk(weights, k=top_k)\n",
        "            concept_info = []\n",
        "            for j in range(top_k):\n",
        "                concept_name = concept_names[topk_idx[j].item()] if concept_names else f\"concept_{topk_idx[j].item()}\"\n",
        "                concept_info.append({\n",
        "                    \"concept\": concept_name,\n",
        "                    \"weight\": topk_weights[j].item()\n",
        "                })\n",
        "\n",
        "            sample_result[\"concept_scores_per_class\"][f\"class_{cls_idx}\"] = {\n",
        "                \"similarity\": concept_score,\n",
        "                \"top_concepts\": concept_info\n",
        "            }\n",
        "\n",
        "        results.append(sample_result)\n",
        "\n",
        "    return results\n"
      ]
    },
    {
      "cell_type": "markdown",
      "metadata": {
        "id": "-k9PRPl14reM"
      },
      "source": [
        "# Infer"
      ]
    }
  ],
  "metadata": {
    "accelerator": "GPU",
    "colab": {
      "gpuType": "T4",
      "provenance": [],
      "toc_visible": true
    },
    "kernelspec": {
      "display_name": ".venv",
      "language": "python",
      "name": "python3"
    },
    "language_info": {
      "codemirror_mode": {
        "name": "ipython",
        "version": 3
      },
      "file_extension": ".py",
      "mimetype": "text/x-python",
      "name": "python",
      "nbconvert_exporter": "python",
      "pygments_lexer": "ipython3",
      "version": "3.12.2"
    }
  },
  "nbformat": 4,
  "nbformat_minor": 0
}
