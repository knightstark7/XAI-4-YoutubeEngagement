{
 "cells": [
  {
   "cell_type": "code",
   "execution_count": null,
   "metadata": {},
   "outputs": [],
   "source": [
    "import pandas as pd\n",
    "import numpy as np\n",
    "import matplotlib.pyplot as plt\n",
    "import seaborn as sns\n",
    "import yt_dlp\n",
    "import matplotlib.pyplot as plt\n",
    "import variables as var\n",
    "from tqdm import tqdm\n",
    "import os\n",
    "import re\n",
    "import glob"
   ]
  },
  {
   "cell_type": "code",
   "execution_count": null,
   "metadata": {},
   "outputs": [],
   "source": [
    "!export OPENSSL_CONF=/etc/ssl"
   ]
  },
  {
   "cell_type": "code",
   "execution_count": null,
   "metadata": {},
   "outputs": [],
   "source": [
    "# Load the data\n",
    "DATASET_PATH = '/mnt/d/Thesis/Data/EnTube/Entube.csv'\n",
    "df = pd.read_csv(DATASET_PATH)\n",
    "df"
   ]
  },
  {
   "cell_type": "code",
   "execution_count": null,
   "metadata": {},
   "outputs": [],
   "source": [
    "# due to available memory, we will only download 40% of the data\n",
    "df = df.sample(frac=0.4, random_state=1)\n",
    "df"
   ]
  },
  {
   "cell_type": "code",
   "execution_count": null,
   "metadata": {},
   "outputs": [],
   "source": [
    "import yt_dlp\n",
    "import logging\n",
    "import os\n",
    "from tqdm import tqdm\n",
    "from concurrent.futures import ThreadPoolExecutor\n",
    "\n",
    "# Setup logging\n",
    "LOG_FILE = \"download_log.txt\"\n",
    "logger = logging.getLogger(\"yt_dlp\")\n",
    "logger.setLevel(logging.INFO)\n",
    "\n",
    "file_handler = logging.FileHandler(LOG_FILE)\n",
    "file_handler.setFormatter(logging.Formatter(\"%(asctime)s - %(levelname)s - %(message)s\", datefmt=\"%Y-%m-%d %H:%M:%S\"))\n",
    "logger.addHandler(file_handler)\n",
    "\n",
    "def download_video(url, ydl_opts):\n",
    "    \"\"\"Download a single video using yt-dlp with logging.\"\"\"\n",
    "    try:\n",
    "        with yt_dlp.YoutubeDL(ydl_opts) as ydl:\n",
    "            ydl.download([url])\n",
    "        logger.info(f\"Successfully downloaded: {url}\")\n",
    "    except Exception as e:\n",
    "        logger.error(f\"Failed to download {url}: {e}\")\n",
    "\n",
    "def download_videos(urls, output_path, max_workers=4):\n",
    "    \"\"\"Download multiple videos in parallel, logging all events.\"\"\"\n",
    "    ydl_opts = {\n",
    "        'format': 'bestvideo[height<=480]+bestaudio/best[height<=480]',\n",
    "        'outtmpl': f\"{output_path}/%(id)s\",\n",
    "        'merge_output_format': 'mp4',\n",
    "        \n",
    "        'logger': logger,  # Use the logger instance\n",
    "        'no_warnings': True,   # Suppress warning messages\n",
    "        'ignoreerrors': True,  # Continue downloading on errors\n",
    "        \n",
    "        'writesubtitles': True,  # Download subtitles if available\n",
    "        'subtitleslangs': ['vi', 'en'],  # Only download Vietnamese and English subtitles\n",
    "    }\n",
    "\n",
    "    logger.info(f\"Starting download of {len(urls)} videos...\")\n",
    "\n",
    "    with ThreadPoolExecutor(max_workers=max_workers) as executor:\n",
    "        list(tqdm(executor.map(lambda url: download_video(url, ydl_opts), urls), total=len(urls), desc=\"Downloading videos\", unit=\"video\"))\n",
    "\n",
    "    logger.info(\"Download process completed.\")\n",
    "\n",
    "# Example usage\n",
    "sample_df = df\n",
    "video_urls = sample_df['video_link'].tolist()\n",
    "download_videos(video_urls, var.DOWNLOADED_VIDEO_PATH)"
   ]
  },
  {
   "cell_type": "code",
   "execution_count": null,
   "metadata": {},
   "outputs": [],
   "source": [
    "def read_srt_file(file_path):\n",
    "    with open(file_path, \"r\", encoding=\"utf-8\") as f:\n",
    "        subtitles = f.read()\n",
    "    return subtitles\n",
    "\n",
    "# Example usage\n",
    "srt_file_path = f\"{var.DOWNLOADED_VIDEO_PATH}/G22G1k3G-kM.vi.vtt\"  # Replace with actual path\n",
    "print(read_srt_file(srt_file_path))"
   ]
  }
 ],
 "metadata": {
  "kernelspec": {
   "display_name": ".venv",
   "language": "python",
   "name": "python3"
  },
  "language_info": {
   "codemirror_mode": {
    "name": "ipython",
    "version": 3
   },
   "file_extension": ".py",
   "mimetype": "text/x-python",
   "name": "python",
   "nbconvert_exporter": "python",
   "pygments_lexer": "ipython3",
   "version": "3.12.2"
  }
 },
 "nbformat": 4,
 "nbformat_minor": 2
}
