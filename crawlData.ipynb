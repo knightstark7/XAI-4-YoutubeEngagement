{
 "cells": [
  {
   "cell_type": "markdown",
   "metadata": {},
   "source": [
    "# XAI FOR YOUTUBE ENGAGEMENT"
   ]
  },
  {
   "cell_type": "markdown",
   "metadata": {},
   "source": [
    "StudentID|Full Name\n",
    "-|-\n",
    "21127050|Tran Nguyen Huan \n",
    "21127240|Nguyen Phat Dat"
   ]
  },
  {
   "cell_type": "markdown",
   "metadata": {},
   "source": [
    "## Part 1: Crawl necessary data `Youtube` from file `Entube.csv`"
   ]
  },
  {
   "cell_type": "markdown",
   "metadata": {},
   "source": [
    "## Import necessary libraries"
   ]
  },
  {
   "cell_type": "code",
   "execution_count": null,
   "metadata": {},
   "outputs": [],
   "source": [
    "import pandas as pd\n",
    "import requests\n",
    "import yt_dlp"
   ]
  },
  {
   "cell_type": "markdown",
   "metadata": {},
   "source": [
    "### Crawl features `Title`, `Tags`, and `Thumbnail`"
   ]
  },
  {
   "cell_type": "code",
   "execution_count": null,
   "metadata": {},
   "outputs": [],
   "source": [
    "API_KEY = \"*\"\n",
    "YOUTUBE_API_URL = \"https://www.googleapis.com/youtube/v3/videos\""
   ]
  },
  {
   "cell_type": "code",
   "execution_count": null,
   "metadata": {},
   "outputs": [],
   "source": [
    "def get_video_metadata(video_id):\n",
    "    try:\n",
    "        params = {\n",
    "            \"part\": \"snippet\",\n",
    "            \"id\": video_id,\n",
    "            \"key\": API_KEY\n",
    "        }\n",
    "        response = requests.get(YOUTUBE_API_URL, params=params)\n",
    "        data = response.json()\n",
    "\n",
    "        if \"items\" in data and len(data[\"items\"]) > 0:\n",
    "            snippet = data[\"items\"][0][\"snippet\"]\n",
    "            return {\n",
    "                \"Title\": snippet[\"title\"],\n",
    "                \"Tags\": snippet.get(\"tags\", []),\n",
    "                \"Thumbnail\": snippet[\"thumbnails\"][\"high\"][\"url\"],\n",
    "            }\n",
    "        else:\n",
    "            print(f\"No data found for video ID: {video_id}\")\n",
    "            return {\"Title\": None, \"Tags\": None, \"Thumbnail\": None}\n",
    "\n",
    "    except Exception as e:\n",
    "        print(f\"Error processing video ID {video_id}: {e}\")\n",
    "        return {\"Title\": None, \"Tags\": None, \"Thumbnail\": None}"
   ]
  },
  {
   "cell_type": "code",
   "execution_count": null,
   "metadata": {},
   "outputs": [],
   "source": [
    "data = pd.read_csv(\"data/Entube.csv\")\n",
    "\n",
    "video_data = [get_video_metadata(row[\"video_id\"]) for _, row in data.iterrows()]\n",
    "\n",
    "crawled_df = pd.DataFrame(video_data)\n",
    "result_df = pd.concat([data, crawled_df], axis=1)\n",
    "result_df.to_csv(\"entube_with_metadata.csv\", index=False)\n",
    "print(\"Crawling completed and saved to entube_with_metadata.csv\")"
   ]
  },
  {
   "cell_type": "markdown",
   "metadata": {},
   "source": [
    "## Crawl feature `audio`"
   ]
  },
  {
   "cell_type": "code",
   "execution_count": null,
   "metadata": {},
   "outputs": [],
   "source": [
    "def download_audio(youtube_url, output_path='data/audio/'):\n",
    "    \"\"\"Download video and extract audio using yt-dlp.\"\"\"\n",
    "    ydl_opts = {\n",
    "        'outtmpl': output_path + '%(id)s.%(ext)s',  # Save with video ID as filename\n",
    "        'format': 'bestvideo+bestaudio/best',  # Best quality video and audio\n",
    "        'postprocessors': [{\n",
    "            'key': 'FFmpegExtractAudio',  # Extract audio in mp3 format\n",
    "            'preferredcodec': 'mp3',\n",
    "            'preferredquality': '192',\n",
    "        }],\n",
    "    }\n",
    "\n",
    "    try:\n",
    "        with yt_dlp.YoutubeDL(ydl_opts) as ydl:\n",
    "            ydl.download([youtube_url])\n",
    "        print(f\"Downloaded: {youtube_url}\")\n",
    "    except Exception as e:\n",
    "        print(f\"Error downloading {youtube_url}: {e}\")\n",
    "\n",
    "def download_audios_from_csv(csv_file, output_path='data/audio/'):\n",
    "    \"\"\"Download audio from all YouTube videos listed in the CSV file.\"\"\"\n",
    "    # Load the dataset from CSV file\n",
    "    dataset = pd.read_csv(csv_file)\n",
    "\n",
    "    for index, row in dataset.iterrows():\n",
    "        youtube_url = row['video_link']  # Assuming the URL is in the 'video_link' column\n",
    "        download_audio(youtube_url, output_path)"
   ]
  },
  {
   "cell_type": "code",
   "execution_count": null,
   "metadata": {},
   "outputs": [],
   "source": [
    "data = pd.read_csv(\"data/Entube.csv\")\n",
    "\n",
    "# Download audio for all videos in the dataset\n",
    "download_audios_from_csv(data)\n"
   ]
  },
  {
   "cell_type": "markdown",
   "metadata": {},
   "source": [
    "## Crawl feature `video content`"
   ]
  },
  {
   "cell_type": "code",
   "execution_count": null,
   "metadata": {},
   "outputs": [],
   "source": [
    "def download_video(youtube_url, output_path='data/video/'):\n",
    "    \"\"\"Download clip from YouTube.\"\"\"\n",
    "    ydl_opts = {\n",
    "        'format': 'mp4',\n",
    "        'outtmpl': output_path + '%(id)s.%(ext)s',\n",
    "    }\n",
    "    try:\n",
    "        with yt_dlp.YoutubeDL(ydl_opts) as ydl:\n",
    "            info = ydl.extract_info(youtube_url, download=True)\n",
    "            video_path = f\"{output_path}{info['id']}.mp4\"\n",
    "            print(f\"Video đã tải về: {video_path}\")\n",
    "            return video_path\n",
    "    except Exception as e:\n",
    "        print(f\"Error when downloading video: {e}\")\n",
    "        return None\n",
    "\n",
    "def download_videos_from_csv(csv_file, output_path='data/video/'):\n",
    "    \"\"\"Download audio from all YouTube videos listed in the CSV file.\"\"\"\n",
    "    dataset = pd.read_csv(csv_file)\n",
    "\n",
    "    for index, row in dataset.iterrows():\n",
    "        youtube_url = row['video_link'] \n",
    "        download_video(youtube_url, output_path)"
   ]
  },
  {
   "cell_type": "code",
   "execution_count": null,
   "metadata": {},
   "outputs": [],
   "source": [
    "data = 'data/EnTube.csv' \n",
    "\n",
    "download_videos_from_csv(data)"
   ]
  }
 ],
 "metadata": {
  "kernelspec": {
   "display_name": "py310",
   "language": "python",
   "name": "python3"
  },
  "language_info": {
   "codemirror_mode": {
    "name": "ipython",
    "version": 3
   },
   "file_extension": ".py",
   "mimetype": "text/x-python",
   "name": "python",
   "nbconvert_exporter": "python",
   "pygments_lexer": "ipython3",
   "version": "3.10.14"
  }
 },
 "nbformat": 4,
 "nbformat_minor": 2
}
