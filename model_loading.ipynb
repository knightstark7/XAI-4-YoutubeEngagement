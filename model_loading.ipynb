{
  "cells": [
    {
      "cell_type": "markdown",
      "metadata": {
        "id": "WZF1z7ulpLsK"
      },
      "source": [
        "# Setup"
      ]
    },
    {
      "cell_type": "code",
      "execution_count": 4,
      "metadata": {
        "id": "RrY32okPpLsN"
      },
      "outputs": [],
      "source": [
        "import pandas as pd\n",
        "import numpy as np\n",
        "import matplotlib.pyplot as plt\n",
        "import seaborn as sns\n",
        "import re\n",
        "import os\n",
        "import glob\n",
        "from tqdm import tqdm\n",
        "from sklearn.preprocessing import MinMaxScaler\n",
        "import multiprocessing as mp\n",
        "import cv2\n",
        "from scipy.signal import resample\n",
        "import wave\n",
        "from sklearn.model_selection import train_test_split"
      ]
    },
    {
      "cell_type": "code",
      "execution_count": 5,
      "metadata": {
        "colab": {
          "base_uri": "https://localhost:8080/"
        },
        "id": "yH3GoRWVqVCK",
        "outputId": "19ff7dc7-0ad5-449a-beaa-d04ab093327a"
      },
      "outputs": [],
      "source": [
        "# from google.colab import drive\n",
        "# drive.mount('/content/drive')\n",
        "\n",
        "import variables as var"
      ]
    },
    {
      "cell_type": "code",
      "execution_count": 6,
      "metadata": {
        "colab": {
          "base_uri": "https://localhost:8080/"
        },
        "id": "kZxhmcK_pLsP",
        "outputId": "5178a0ff-81e2-4f72-9a41-7bd903a34787"
      },
      "outputs": [],
      "source": [
        "# var.TO_PATH = \"/content/drive/MyDrive/Thesis/PREP/sub_data\""
      ]
    },
    {
      "cell_type": "code",
      "execution_count": 7,
      "metadata": {
        "colab": {
          "base_uri": "https://localhost:8080/",
          "height": 649
        },
        "id": "5netdR01pLsP",
        "outputId": "72f7aa07-c5b5-43d4-dbcd-2fd403fe78ec"
      },
      "outputs": [
        {
          "data": {
            "text/html": [
              "<div>\n",
              "<style scoped>\n",
              "    .dataframe tbody tr th:only-of-type {\n",
              "        vertical-align: middle;\n",
              "    }\n",
              "\n",
              "    .dataframe tbody tr th {\n",
              "        vertical-align: top;\n",
              "    }\n",
              "\n",
              "    .dataframe thead th {\n",
              "        text-align: right;\n",
              "    }\n",
              "</style>\n",
              "<table border=\"1\" class=\"dataframe\">\n",
              "  <thead>\n",
              "    <tr style=\"text-align: right;\">\n",
              "      <th></th>\n",
              "      <th>Id</th>\n",
              "      <th>Video_len</th>\n",
              "      <th>order of ECR</th>\n",
              "      <th>order of NAWP</th>\n",
              "      <th>Title</th>\n",
              "      <th>Description</th>\n",
              "      <th>Set</th>\n",
              "      <th>ECR</th>\n",
              "      <th>NAWP</th>\n",
              "    </tr>\n",
              "  </thead>\n",
              "  <tbody>\n",
              "    <tr>\n",
              "      <th>0</th>\n",
              "      <td>5902367b4d7d4c38fe4638593ddea7ee</td>\n",
              "      <td>42.400000</td>\n",
              "      <td>0</td>\n",
              "      <td>0</td>\n",
              "      <td>zanzibarisland  zanzibarbeach  zanzibarlifest...</td>\n",
              "      <td>NaN</td>\n",
              "      <td>train</td>\n",
              "      <td>0.000000</td>\n",
              "      <td>0.000000</td>\n",
              "    </tr>\n",
              "    <tr>\n",
              "      <th>1</th>\n",
              "      <td>9be2d4d5e8d4bfd1f5ce59f51d7d96dd</td>\n",
              "      <td>15.582233</td>\n",
              "      <td>0</td>\n",
              "      <td>0</td>\n",
              "      <td>NaN</td>\n",
              "      <td>NaN</td>\n",
              "      <td>train</td>\n",
              "      <td>0.000000</td>\n",
              "      <td>0.000000</td>\n",
              "    </tr>\n",
              "    <tr>\n",
              "      <th>2</th>\n",
              "      <td>1d5a6586d42b5b0d69f48a7ba87fccfe</td>\n",
              "      <td>18.300000</td>\n",
              "      <td>0</td>\n",
              "      <td>0</td>\n",
              "      <td>NaN</td>\n",
              "      <td>استخراج السائل هذا للبشره smiling face with he...</td>\n",
              "      <td>train</td>\n",
              "      <td>0.000000</td>\n",
              "      <td>0.000000</td>\n",
              "    </tr>\n",
              "    <tr>\n",
              "      <th>3</th>\n",
              "      <td>1e9b26ba367a8ed559916599294bbfc1</td>\n",
              "      <td>45.866667</td>\n",
              "      <td>0</td>\n",
              "      <td>0</td>\n",
              "      <td>NaN</td>\n",
              "      <td>skullskullskullskullHAHAHA</td>\n",
              "      <td>train</td>\n",
              "      <td>0.000000</td>\n",
              "      <td>0.000000</td>\n",
              "    </tr>\n",
              "    <tr>\n",
              "      <th>4</th>\n",
              "      <td>e86dbca9869239fcf2d04373f9efd38e</td>\n",
              "      <td>29.880000</td>\n",
              "      <td>0</td>\n",
              "      <td>0</td>\n",
              "      <td>spotlightviral  spotlight  lmao  viral  trending</td>\n",
              "      <td>NaN</td>\n",
              "      <td>train</td>\n",
              "      <td>0.000000</td>\n",
              "      <td>0.000000</td>\n",
              "    </tr>\n",
              "    <tr>\n",
              "      <th>...</th>\n",
              "      <td>...</td>\n",
              "      <td>...</td>\n",
              "      <td>...</td>\n",
              "      <td>...</td>\n",
              "      <td>...</td>\n",
              "      <td>...</td>\n",
              "      <td>...</td>\n",
              "      <td>...</td>\n",
              "      <td>...</td>\n",
              "    </tr>\n",
              "    <tr>\n",
              "      <th>57833</th>\n",
              "      <td>58ec27987a35909f4006f136118c6940</td>\n",
              "      <td>21.033333</td>\n",
              "      <td>34494</td>\n",
              "      <td>131030</td>\n",
              "      <td>sportscommentator  voiceover</td>\n",
              "      <td>NaN</td>\n",
              "      <td>test</td>\n",
              "      <td>0.269961</td>\n",
              "      <td>0.999466</td>\n",
              "    </tr>\n",
              "    <tr>\n",
              "      <th>57834</th>\n",
              "      <td>26e446b86f92faa89d88a58d03ea24bb</td>\n",
              "      <td>10.700000</td>\n",
              "      <td>47428</td>\n",
              "      <td>131047</td>\n",
              "      <td>12 Years or  snapmemories in 12 seconds</td>\n",
              "      <td>In 12 seconds | 12 years of Snap Memories</td>\n",
              "      <td>test</td>\n",
              "      <td>0.371187</td>\n",
              "      <td>0.999596</td>\n",
              "    </tr>\n",
              "    <tr>\n",
              "      <th>57835</th>\n",
              "      <td>72ae9bac4dd52c9e6befc90d9bae710c</td>\n",
              "      <td>12.900000</td>\n",
              "      <td>35188</td>\n",
              "      <td>131086</td>\n",
              "      <td>Finally it’s pumpkin season  psl  pumpkinspice...</td>\n",
              "      <td>It’s PSL season</td>\n",
              "      <td>test</td>\n",
              "      <td>0.275392</td>\n",
              "      <td>0.999893</td>\n",
              "    </tr>\n",
              "    <tr>\n",
              "      <th>57836</th>\n",
              "      <td>f548dd1f4b64e5ca3f2c7780871a08c5</td>\n",
              "      <td>10.000000</td>\n",
              "      <td>1592</td>\n",
              "      <td>131090</td>\n",
              "      <td>thick  thickgirls  curves  thickthighs  curvey</td>\n",
              "      <td>NaN</td>\n",
              "      <td>test</td>\n",
              "      <td>0.012459</td>\n",
              "      <td>0.999924</td>\n",
              "    </tr>\n",
              "    <tr>\n",
              "      <th>57837</th>\n",
              "      <td>5f3908c3e4298ea00a6e3f33bea23a46</td>\n",
              "      <td>14.933333</td>\n",
              "      <td>2139</td>\n",
              "      <td>131097</td>\n",
              "      <td>gothgirl  plussize  thickwomen  chubby  curvy...</td>\n",
              "      <td>NaN</td>\n",
              "      <td>test</td>\n",
              "      <td>0.016740</td>\n",
              "      <td>0.999977</td>\n",
              "    </tr>\n",
              "  </tbody>\n",
              "</table>\n",
              "<p>57838 rows × 9 columns</p>\n",
              "</div>"
            ],
            "text/plain": [
              "                                     Id  Video_len  order of ECR  \\\n",
              "0      5902367b4d7d4c38fe4638593ddea7ee  42.400000             0   \n",
              "1      9be2d4d5e8d4bfd1f5ce59f51d7d96dd  15.582233             0   \n",
              "2      1d5a6586d42b5b0d69f48a7ba87fccfe  18.300000             0   \n",
              "3      1e9b26ba367a8ed559916599294bbfc1  45.866667             0   \n",
              "4      e86dbca9869239fcf2d04373f9efd38e  29.880000             0   \n",
              "...                                 ...        ...           ...   \n",
              "57833  58ec27987a35909f4006f136118c6940  21.033333         34494   \n",
              "57834  26e446b86f92faa89d88a58d03ea24bb  10.700000         47428   \n",
              "57835  72ae9bac4dd52c9e6befc90d9bae710c  12.900000         35188   \n",
              "57836  f548dd1f4b64e5ca3f2c7780871a08c5  10.000000          1592   \n",
              "57837  5f3908c3e4298ea00a6e3f33bea23a46  14.933333          2139   \n",
              "\n",
              "       order of NAWP                                              Title  \\\n",
              "0                  0   zanzibarisland  zanzibarbeach  zanzibarlifest...   \n",
              "1                  0                                                NaN   \n",
              "2                  0                                                NaN   \n",
              "3                  0                                                NaN   \n",
              "4                  0   spotlightviral  spotlight  lmao  viral  trending   \n",
              "...              ...                                                ...   \n",
              "57833         131030                       sportscommentator  voiceover   \n",
              "57834         131047            12 Years or  snapmemories in 12 seconds   \n",
              "57835         131086  Finally it’s pumpkin season  psl  pumpkinspice...   \n",
              "57836         131090     thick  thickgirls  curves  thickthighs  curvey   \n",
              "57837         131097   gothgirl  plussize  thickwomen  chubby  curvy...   \n",
              "\n",
              "                                             Description    Set       ECR  \\\n",
              "0                                                    NaN  train  0.000000   \n",
              "1                                                    NaN  train  0.000000   \n",
              "2      استخراج السائل هذا للبشره smiling face with he...  train  0.000000   \n",
              "3                             skullskullskullskullHAHAHA  train  0.000000   \n",
              "4                                                    NaN  train  0.000000   \n",
              "...                                                  ...    ...       ...   \n",
              "57833                                                NaN   test  0.269961   \n",
              "57834          In 12 seconds | 12 years of Snap Memories   test  0.371187   \n",
              "57835                                   It’s PSL season    test  0.275392   \n",
              "57836                                                NaN   test  0.012459   \n",
              "57837                                                NaN   test  0.016740   \n",
              "\n",
              "           NAWP  \n",
              "0      0.000000  \n",
              "1      0.000000  \n",
              "2      0.000000  \n",
              "3      0.000000  \n",
              "4      0.000000  \n",
              "...         ...  \n",
              "57833  0.999466  \n",
              "57834  0.999596  \n",
              "57835  0.999893  \n",
              "57836  0.999924  \n",
              "57837  0.999977  \n",
              "\n",
              "[57838 rows x 9 columns]"
            ]
          },
          "execution_count": 7,
          "metadata": {},
          "output_type": "execute_result"
        }
      ],
      "source": [
        "# prep_df = pd.read_csv(\"/content/drive/MyDrive/Thesis/PREP/prepped_df.csv\")\n",
        "prep_df = pd.read_csv(\"prepped_df.csv\")\n",
        "prep_df"
      ]
    },
    {
      "cell_type": "code",
      "execution_count": 8,
      "metadata": {
        "colab": {
          "base_uri": "https://localhost:8080/"
        },
        "id": "ieftqMmVpLsP",
        "outputId": "3ede46f2-0b2c-4e55-ab72-c2124c9015de"
      },
      "outputs": [
        {
          "data": {
            "text/plain": [
              "0"
            ]
          },
          "execution_count": 8,
          "metadata": {},
          "output_type": "execute_result"
        }
      ],
      "source": [
        "def find_matching_ids(directory):\n",
        "    npz_ids = set()\n",
        "    wav_ids = set()\n",
        "\n",
        "    for file in os.listdir(directory):\n",
        "        if file.endswith(\".npz\"):\n",
        "            npz_ids.add(file[:-4])  # Remove .npz\n",
        "        elif file.endswith(\".wav\"):\n",
        "            wav_ids.add(file[:-4])  # Remove .wav\n",
        "\n",
        "    common_ids = npz_ids & wav_ids  # Find IDs present in both sets\n",
        "    return sorted(common_ids)\n",
        "\n",
        "existed_ids_train = find_matching_ids(var.TO_PATH + \"/train\")\n",
        "existed_ids_test = find_matching_ids(var.TO_PATH + \"/test\")\n",
        "\n",
        "prep_df = prep_df[prep_df[\"Id\"].isin(existed_ids_train) | prep_df[\"Id\"].isin(existed_ids_test)]\n",
        "prep_df = prep_df.reset_index(drop=True)\n",
        "len(prep_df)"
      ]
    },
    {
      "cell_type": "code",
      "execution_count": 9,
      "metadata": {
        "colab": {
          "base_uri": "https://localhost:8080/",
          "height": 467
        },
        "id": "kGWAIyYIpLsQ",
        "outputId": "715aad2b-3517-4742-da3a-6b8ee5fb7e12"
      },
      "outputs": [
        {
          "ename": "ValueError",
          "evalue": "a must be greater than 0 unless no samples are taken",
          "output_type": "error",
          "traceback": [
            "\u001b[31m---------------------------------------------------------------------------\u001b[39m",
            "\u001b[31mValueError\u001b[39m                                Traceback (most recent call last)",
            "\u001b[36mCell\u001b[39m\u001b[36m \u001b[39m\u001b[32mIn[9]\u001b[39m\u001b[32m, line 1\u001b[39m\n\u001b[32m----> \u001b[39m\u001b[32m1\u001b[39m \u001b[43mprep_df\u001b[49m\u001b[43m.\u001b[49m\u001b[43msample\u001b[49m\u001b[43m(\u001b[49m\u001b[32;43m10\u001b[39;49m\u001b[43m)\u001b[49m\n",
            "\u001b[36mFile \u001b[39m\u001b[32m~/XAI-4-YoutubeEngagement/.venv/lib/python3.12/site-packages/pandas/core/generic.py:6118\u001b[39m, in \u001b[36mNDFrame.sample\u001b[39m\u001b[34m(self, n, frac, replace, weights, random_state, axis, ignore_index)\u001b[39m\n\u001b[32m   6115\u001b[39m \u001b[38;5;28;01mif\u001b[39;00m weights \u001b[38;5;129;01mis\u001b[39;00m \u001b[38;5;129;01mnot\u001b[39;00m \u001b[38;5;28;01mNone\u001b[39;00m:\n\u001b[32m   6116\u001b[39m     weights = sample.preprocess_weights(\u001b[38;5;28mself\u001b[39m, weights, axis)\n\u001b[32m-> \u001b[39m\u001b[32m6118\u001b[39m sampled_indices = \u001b[43msample\u001b[49m\u001b[43m.\u001b[49m\u001b[43msample\u001b[49m\u001b[43m(\u001b[49m\u001b[43mobj_len\u001b[49m\u001b[43m,\u001b[49m\u001b[43m \u001b[49m\u001b[43msize\u001b[49m\u001b[43m,\u001b[49m\u001b[43m \u001b[49m\u001b[43mreplace\u001b[49m\u001b[43m,\u001b[49m\u001b[43m \u001b[49m\u001b[43mweights\u001b[49m\u001b[43m,\u001b[49m\u001b[43m \u001b[49m\u001b[43mrs\u001b[49m\u001b[43m)\u001b[49m\n\u001b[32m   6119\u001b[39m result = \u001b[38;5;28mself\u001b[39m.take(sampled_indices, axis=axis)\n\u001b[32m   6121\u001b[39m \u001b[38;5;28;01mif\u001b[39;00m ignore_index:\n",
            "\u001b[36mFile \u001b[39m\u001b[32m~/XAI-4-YoutubeEngagement/.venv/lib/python3.12/site-packages/pandas/core/sample.py:152\u001b[39m, in \u001b[36msample\u001b[39m\u001b[34m(obj_len, size, replace, weights, random_state)\u001b[39m\n\u001b[32m    149\u001b[39m     \u001b[38;5;28;01melse\u001b[39;00m:\n\u001b[32m    150\u001b[39m         \u001b[38;5;28;01mraise\u001b[39;00m \u001b[38;5;167;01mValueError\u001b[39;00m(\u001b[33m\"\u001b[39m\u001b[33mInvalid weights: weights sum to zero\u001b[39m\u001b[33m\"\u001b[39m)\n\u001b[32m--> \u001b[39m\u001b[32m152\u001b[39m \u001b[38;5;28;01mreturn\u001b[39;00m \u001b[43mrandom_state\u001b[49m\u001b[43m.\u001b[49m\u001b[43mchoice\u001b[49m\u001b[43m(\u001b[49m\u001b[43mobj_len\u001b[49m\u001b[43m,\u001b[49m\u001b[43m \u001b[49m\u001b[43msize\u001b[49m\u001b[43m=\u001b[49m\u001b[43msize\u001b[49m\u001b[43m,\u001b[49m\u001b[43m \u001b[49m\u001b[43mreplace\u001b[49m\u001b[43m=\u001b[49m\u001b[43mreplace\u001b[49m\u001b[43m,\u001b[49m\u001b[43m \u001b[49m\u001b[43mp\u001b[49m\u001b[43m=\u001b[49m\u001b[43mweights\u001b[49m\u001b[43m)\u001b[49m.astype(\n\u001b[32m    153\u001b[39m     np.intp, copy=\u001b[38;5;28;01mFalse\u001b[39;00m\n\u001b[32m    154\u001b[39m )\n",
            "\u001b[36mFile \u001b[39m\u001b[32mnumpy/random/mtrand.pyx:968\u001b[39m, in \u001b[36mnumpy.random.mtrand.RandomState.choice\u001b[39m\u001b[34m()\u001b[39m\n",
            "\u001b[31mValueError\u001b[39m: a must be greater than 0 unless no samples are taken"
          ]
        }
      ],
      "source": [
        "prep_df.sample(10)"
      ]
    },
    {
      "cell_type": "markdown",
      "metadata": {
        "id": "f0hOJmqwpLsQ"
      },
      "source": [
        "# Check distribution"
      ]
    },
    {
      "cell_type": "code",
      "execution_count": null,
      "metadata": {
        "colab": {
          "base_uri": "https://localhost:8080/",
          "height": 430
        },
        "id": "MCkwFzmHpLsQ",
        "outputId": "ee9fe039-0585-4145-8e82-99785d3929e9"
      },
      "outputs": [
        {
          "data": {
            "image/png": "[encoded data removed]",
            "text/plain": [
              "<Figure size 640x480 with 1 Axes>"
            ]
          },
          "metadata": {},
          "output_type": "display_data"
        }
      ],
      "source": [
        "plt.hist(prep_df['Video_len'])\n",
        "plt.show()"
      ]
    },
    {
      "cell_type": "code",
      "execution_count": null,
      "metadata": {
        "colab": {
          "base_uri": "https://localhost:8080/",
          "height": 430
        },
        "id": "XmxZR-4zpLsQ",
        "outputId": "0f5b0f4c-8fa6-4162-a89e-42debd818857"
      },
      "outputs": [
        {
          "data": {
            "image/png": "[encoded data removed]",
            "text/plain": [
              "<Figure size 640x480 with 1 Axes>"
            ]
          },
          "metadata": {},
          "output_type": "display_data"
        }
      ],
      "source": [
        "plt.hist(prep_df['NAWP'], density=True, histtype='step', label='NAWP')\n",
        "plt.hist(prep_df['ECR'], density=True, histtype='step', label='ECR')\n",
        "plt.legend()\n",
        "plt.show()"
      ]
    },
    {
      "cell_type": "code",
      "execution_count": null,
      "metadata": {
        "colab": {
          "base_uri": "https://localhost:8080/",
          "height": 430
        },
        "id": "Vj0A5TvppLsR",
        "outputId": "ee93e5dc-4467-4202-9f1d-30f337ae7390"
      },
      "outputs": [
        {
          "data": {
            "image/png": "[encoded data removed]",
            "text/plain": [
              "<Figure size 640x480 with 1 Axes>"
            ]
          },
          "metadata": {},
          "output_type": "display_data"
        }
      ],
      "source": [
        "plt.hist(prep_df[prep_df['Video_len'] <= var.MAX_SECONDS]['NAWP'], density=True, histtype='step', label='NAWP')\n",
        "plt.hist(prep_df[prep_df['Video_len'] <= var.MAX_SECONDS]['ECR'], density=True, histtype='step', label='ECR')\n",
        "plt.legend()\n",
        "plt.show()"
      ]
    },
    {
      "cell_type": "code",
      "execution_count": null,
      "metadata": {
        "id": "GpsaSyMlg0qy"
      },
      "outputs": [],
      "source": [
        "prep_df = prep_df[prep_df['Video_len'] <= var.MAX_SECONDS]"
      ]
    },
    {
      "cell_type": "code",
      "execution_count": null,
      "metadata": {
        "colab": {
          "base_uri": "https://localhost:8080/"
        },
        "id": "NNU03XovpLsR",
        "outputId": "ba82d094-c641-4a2e-bb08-c0ce18743b64"
      },
      "outputs": [
        {
          "data": {
            "text/plain": [
              "(np.float64(0.0),\n",
              " np.float64(0.9999771167048056),\n",
              " np.float64(0.0),\n",
              " np.float64(1.0))"
            ]
          },
          "execution_count": 11,
          "metadata": {},
          "output_type": "execute_result"
        }
      ],
      "source": [
        "prep_df['NAWP'].min(), prep_df['NAWP'].max(), prep_df['ECR'].min(), prep_df['ECR'].max()"
      ]
    },
    {
      "cell_type": "markdown",
      "metadata": {
        "id": "cIwoatVXWdv5"
      },
      "source": [
        "# Filter data"
      ]
    },
    {
      "cell_type": "markdown",
      "metadata": {
        "id": "xvx6kvOupLsR"
      },
      "source": [
        "# Load data"
      ]
    },
    {
      "cell_type": "code",
      "execution_count": null,
      "metadata": {
        "colab": {
          "base_uri": "https://localhost:8080/",
          "height": 36
        },
        "id": "rubigiSaYacl",
        "outputId": "29e93872-bb74-4a44-e693-59aaaeb49c4b"
      },
      "outputs": [
        {
          "data": {
            "text/plain": [
              "'train'"
            ]
          },
          "execution_count": 12,
          "metadata": {},
          "output_type": "execute_result"
        }
      ],
      "source": [
        "prep_df.sample(1)['Set'].values[0]"
      ]
    },
    {
      "cell_type": "code",
      "execution_count": null,
      "metadata": {
        "colab": {
          "base_uri": "https://localhost:8080/",
          "height": 486
        },
        "id": "ojk1Qo2_pLsR",
        "outputId": "f8a65277-86f2-4bdc-a8aa-77bd1d8c9f9f"
      },
      "outputs": [
        {
          "name": "stdout",
          "output_type": "stream",
          "text": [
            "Sample ID: 577f0d3b19d7ada4b044138789063c26\n",
            "Loaded Video Shape: (50, 224, 128, 3)\n",
            "Loaded Audio Shape: (166441,)\n"
          ]
        },
        {
          "data": {
            "image/png": "[encoded data removed]",
            "text/plain": [
              "<Figure size 640x480 with 1 Axes>"
            ]
          },
          "metadata": {},
          "output_type": "display_data"
        }
      ],
      "source": [
        "def load_video_audio(video_file, audio_file):\n",
        "    video_data = np.load(video_file)\n",
        "    video_array = video_data[\"video\"]\n",
        "\n",
        "    with wave.open(audio_file, 'r') as wf:\n",
        "        sample_rate = wf.getframerate()\n",
        "        audio_array = np.frombuffer(wf.readframes(wf.getnframes()), dtype=np.int16)\n",
        "\n",
        "    return video_array, audio_array\n",
        "\n",
        "sample = prep_df.sample(1)\n",
        "print(f\"Sample ID: {sample['Id'].values[0]}\")\n",
        "\n",
        "video_loaded, audio_loaded = load_video_audio(video_file=f\"{var.TO_PATH}/{sample['Set'].values[0]}/{sample['Id'].values[0]}.npz\",\n",
        "                                                         audio_file=f\"{var.TO_PATH}/{sample['Set'].values[0]}/{sample['Id'].values[0]}.wav\")\n",
        "print(f\"Loaded Video Shape: {video_loaded.shape}\")  # (num_frames, height, width, 3)\n",
        "print(f\"Loaded Audio Shape: {audio_loaded.shape}\")\n",
        "\n",
        "plt.imshow(video_loaded[0])\n",
        "plt.show()"
      ]
    },
    {
      "cell_type": "markdown",
      "metadata": {
        "id": "wRidvVIopLsS"
      },
      "source": [
        "# Create dataset"
      ]
    },
    {
      "cell_type": "code",
      "execution_count": null,
      "metadata": {
        "id": "Sby9GbKApLsS"
      },
      "outputs": [],
      "source": [
        "import torch\n",
        "import numpy as np\n",
        "import wave\n",
        "import os\n",
        "\n",
        "class VideoAudioDataset(torch.utils.data.Dataset):\n",
        "    def __init__(self, df, prep_path):\n",
        "        self.prep_path = prep_path\n",
        "        self.df = df\n",
        "\n",
        "    def __len__(self):\n",
        "        return len(self.df)\n",
        "\n",
        "    def __getitem__(self, idx):\n",
        "        sample = self.df.iloc[idx]\n",
        "        sample_id = sample[\"Id\"]\n",
        "        label = [sample[\"ECR\"], sample[\"NAWP\"]]\n",
        "\n",
        "        video_path = f\"{self.prep_path}/{self.df.iloc[idx]['Set']}/{sample_id}.npz\"\n",
        "        audio_path = f\"{self.prep_path}/{self.df.iloc[idx]['Set']}/{sample_id}.wav\"\n",
        "\n",
        "        video_array, audio_array = load_video_audio(video_path, audio_path)\n",
        "\n",
        "        # Convert to tensors\n",
        "        video_tensor = torch.tensor(video_array, dtype=torch.float32)\n",
        "        audio_tensor = torch.tensor(audio_array, dtype=torch.float32)\n",
        "        label_tensor = torch.tensor(label, dtype=torch.float32)\n",
        "\n",
        "        return {\n",
        "            \"id\": sample_id,\n",
        "            \"video\": video_tensor,\n",
        "            \"audio\": audio_tensor,\n",
        "            \"label\": label_tensor\n",
        "        }\n",
        "\n",
        "def collate_fn(batch, max_frames, max_audio_samples):\n",
        "    \"\"\"Custom collate function to pad frames and audio.\"\"\"\n",
        "\n",
        "    video_tensors = []\n",
        "    audio_tensors = []\n",
        "    labels = []\n",
        "    ids = []\n",
        "    sample_rates = []\n",
        "\n",
        "    for sample in batch:\n",
        "        video = sample[\"video\"]\n",
        "        audio = sample[\"audio\"]\n",
        "        num_frames = video.shape[0]\n",
        "        num_audio_samples = audio.shape[0]\n",
        "\n",
        "        # Pad video to 300 frames\n",
        "        if num_frames < max_frames:\n",
        "            pad_frames = max_frames - num_frames\n",
        "            padded_video = torch.cat([video, torch.zeros((pad_frames, *video.shape[1:]))], dim=0)\n",
        "        else:\n",
        "            padded_video = video[:max_frames]\n",
        "\n",
        "        # Pad audio to 960,000 samples\n",
        "        if num_audio_samples < max_audio_samples:\n",
        "            pad_audio = max_audio_samples - num_audio_samples\n",
        "            padded_audio = torch.cat([audio, torch.zeros(pad_audio)], dim=0)\n",
        "        else:\n",
        "            padded_audio = audio[:max_audio_samples]\n",
        "\n",
        "        video_tensors.append(padded_video)\n",
        "        audio_tensors.append(padded_audio)\n",
        "        labels.append(sample[\"label\"])\n",
        "        ids.append(sample[\"id\"])\n",
        "\n",
        "    return {\n",
        "        \"id\": ids,\n",
        "        \"video\": torch.stack(video_tensors),  # (batch_size, num_frames, C, H, W)\n",
        "        \"audio\": torch.stack(audio_tensors),  # (batch_size, audio_length)\n",
        "        \"label\": torch.stack(labels)  # (batch_size,)\n",
        "    }"
      ]
    },
    {
      "cell_type": "markdown",
      "metadata": {
        "id": "6DWgkATApLsT"
      },
      "source": [
        "# Split data"
      ]
    },
    {
      "cell_type": "code",
      "execution_count": null,
      "metadata": {
        "colab": {
          "base_uri": "https://localhost:8080/"
        },
        "id": "U-sL3UgdpLsT",
        "outputId": "f1e4cbb0-0813-4ae4-af8c-22a9a412c18b"
      },
      "outputs": [
        {
          "data": {
            "text/plain": [
              "(3343, 836, 5102)"
            ]
          },
          "execution_count": 15,
          "metadata": {},
          "output_type": "execute_result"
        }
      ],
      "source": [
        "train_df = prep_df[prep_df[\"Set\"] == \"train\"]\n",
        "\n",
        "train_df, val_df = train_test_split(train_df, test_size=0.2, random_state=42)\n",
        "\n",
        "test_df = prep_df[prep_df[\"Set\"] == \"test\"]\n",
        "\n",
        "len(train_df), len(val_df), len(test_df)"
      ]
    },
    {
      "cell_type": "markdown",
      "metadata": {
        "id": "q2gWL6ZypLsT"
      },
      "source": [
        "# Define model"
      ]
    },
    {
      "cell_type": "code",
      "execution_count": null,
      "metadata": {
        "colab": {
          "base_uri": "https://localhost:8080/"
        },
        "id": "E_tQmoe9lJZM",
        "outputId": "8d6a0e5f-5f99-4687-b4b1-0a8f75714ac6"
      },
      "outputs": [
        {
          "name": "stdout",
          "output_type": "stream",
          "text": [
            "Requirement already satisfied: vit-pytorch in ./.venv/lib/python3.12/site-packages (1.10.1)\n",
            "Requirement already satisfied: einops>=0.7.0 in ./.venv/lib/python3.12/site-packages (from vit-pytorch) (0.8.1)\n",
            "Requirement already satisfied: torch>=1.10 in ./.venv/lib/python3.12/site-packages (from vit-pytorch) (2.6.0)\n",
            "Requirement already satisfied: torchvision in ./.venv/lib/python3.12/site-packages (from vit-pytorch) (0.21.0)\n",
            "Requirement already satisfied: filelock in ./.venv/lib/python3.12/site-packages (from torch>=1.10->vit-pytorch) (3.17.0)\n",
            "Requirement already satisfied: typing-extensions>=4.10.0 in ./.venv/lib/python3.12/site-packages (from torch>=1.10->vit-pytorch) (4.12.2)\n",
            "Requirement already satisfied: networkx in ./.venv/lib/python3.12/site-packages (from torch>=1.10->vit-pytorch) (3.4.2)\n",
            "Requirement already satisfied: jinja2 in ./.venv/lib/python3.12/site-packages (from torch>=1.10->vit-pytorch) (3.1.5)\n",
            "Requirement already satisfied: fsspec in ./.venv/lib/python3.12/site-packages (from torch>=1.10->vit-pytorch) (2025.2.0)\n",
            "Requirement already satisfied: nvidia-cuda-nvrtc-cu12==12.4.127 in ./.venv/lib/python3.12/site-packages (from torch>=1.10->vit-pytorch) (12.4.127)\n",
            "Requirement already satisfied: nvidia-cuda-runtime-cu12==12.4.127 in ./.venv/lib/python3.12/site-packages (from torch>=1.10->vit-pytorch) (12.4.127)\n",
            "Requirement already satisfied: nvidia-cuda-cupti-cu12==12.4.127 in ./.venv/lib/python3.12/site-packages (from torch>=1.10->vit-pytorch) (12.4.127)\n",
            "Requirement already satisfied: nvidia-cudnn-cu12==9.1.0.70 in ./.venv/lib/python3.12/site-packages (from torch>=1.10->vit-pytorch) (9.1.0.70)\n",
            "Requirement already satisfied: nvidia-cublas-cu12==12.4.5.8 in ./.venv/lib/python3.12/site-packages (from torch>=1.10->vit-pytorch) (12.4.5.8)\n",
            "Requirement already satisfied: nvidia-cufft-cu12==11.2.1.3 in ./.venv/lib/python3.12/site-packages (from torch>=1.10->vit-pytorch) (11.2.1.3)\n",
            "Requirement already satisfied: nvidia-curand-cu12==10.3.5.147 in ./.venv/lib/python3.12/site-packages (from torch>=1.10->vit-pytorch) (10.3.5.147)\n",
            "Requirement already satisfied: nvidia-cusolver-cu12==11.6.1.9 in ./.venv/lib/python3.12/site-packages (from torch>=1.10->vit-pytorch) (11.6.1.9)\n",
            "Requirement already satisfied: nvidia-cusparse-cu12==12.3.1.170 in ./.venv/lib/python3.12/site-packages (from torch>=1.10->vit-pytorch) (12.3.1.170)\n",
            "Requirement already satisfied: nvidia-cusparselt-cu12==0.6.2 in ./.venv/lib/python3.12/site-packages (from torch>=1.10->vit-pytorch) (0.6.2)\n",
            "Requirement already satisfied: nvidia-nccl-cu12==2.21.5 in ./.venv/lib/python3.12/site-packages (from torch>=1.10->vit-pytorch) (2.21.5)\n",
            "Requirement already satisfied: nvidia-nvtx-cu12==12.4.127 in ./.venv/lib/python3.12/site-packages (from torch>=1.10->vit-pytorch) (12.4.127)\n",
            "Requirement already satisfied: nvidia-nvjitlink-cu12==12.4.127 in ./.venv/lib/python3.12/site-packages (from torch>=1.10->vit-pytorch) (12.4.127)\n",
            "Requirement already satisfied: triton==3.2.0 in ./.venv/lib/python3.12/site-packages (from torch>=1.10->vit-pytorch) (3.2.0)\n",
            "Requirement already satisfied: setuptools in ./.venv/lib/python3.12/site-packages (from torch>=1.10->vit-pytorch) (75.8.2)\n",
            "Requirement already satisfied: sympy==1.13.1 in ./.venv/lib/python3.12/site-packages (from torch>=1.10->vit-pytorch) (1.13.1)\n",
            "Requirement already satisfied: mpmath<1.4,>=1.1.0 in ./.venv/lib/python3.12/site-packages (from sympy==1.13.1->torch>=1.10->vit-pytorch) (1.3.0)\n",
            "Requirement already satisfied: numpy in ./.venv/lib/python3.12/site-packages (from torchvision->vit-pytorch) (2.1.3)\n",
            "Requirement already satisfied: pillow!=8.3.*,>=5.3.0 in ./.venv/lib/python3.12/site-packages (from torchvision->vit-pytorch) (10.4.0)\n",
            "Requirement already satisfied: MarkupSafe>=2.0 in ./.venv/lib/python3.12/site-packages (from jinja2->torch>=1.10->vit-pytorch) (3.0.2)\n"
          ]
        }
      ],
      "source": [
        "!pip install vit-pytorch"
      ]
    },
    {
      "cell_type": "code",
      "execution_count": null,
      "metadata": {
        "colab": {
          "base_uri": "https://localhost:8080/"
        },
        "id": "5yAETcOFpBTf",
        "outputId": "790a84ac-e92d-4a8c-e271-28d7bf6e3e75"
      },
      "outputs": [],
      "source": [
        "DEVICE = \"cpu\""
      ]
    },
    {
      "cell_type": "code",
      "execution_count": null,
      "metadata": {
        "id": "86tPLq6xpLsT"
      },
      "outputs": [
        {
          "ename": "",
          "evalue": "",
          "output_type": "error",
          "traceback": [
            "\u001b[1;31mThe Kernel crashed while executing code in the current cell or a previous cell. \n",
            "\u001b[1;31mPlease review the code in the cell(s) to identify a possible cause of the failure. \n",
            "\u001b[1;31mClick <a href='https://aka.ms/vscodeJupyterKernelCrash'>here</a> for more info. \n",
            "\u001b[1;31mView Jupyter <a href='command:jupyter.viewOutput'>log</a> for further details."
          ]
        }
      ],
      "source": [
        "import torch\n",
        "import torch.nn as nn\n",
        "from vit_pytorch.vivit import ViT\n",
        "from torch.hub import load_state_dict_from_url\n",
        "from torchaudio.models import wav2vec2_base\n",
        "\n",
        "class VideoAudioModel(nn.Module):\n",
        "    def __init__(self,\n",
        "                 video_shape=(var.TARGET_N_FRAME, var.TARGET_FRAME_SIZE[0], var.TARGET_FRAME_SIZE[1], 3),\n",
        "                 audio_length=var.TARGET_AUDIO_LENGTH,\n",
        "                 device=\"cuda\"):\n",
        "        super(VideoAudioModel, self).__init__()\n",
        "\n",
        "        self.device = device\n",
        "\n",
        "        # **Audio CNN (1D ConvNet)**\n",
        "        self.audio_model = wav2vec2_base().to(device)\n",
        "        self.audio_head = nn.Linear(768, 256)\n",
        "\n",
        "        # **3D ViT for Video Processing (ViViT)**\n",
        "        self.video_transformer = ViT(\n",
        "            image_size=video_shape[1],  # image size (height)\n",
        "            frames=video_shape[0],      # number of frames\n",
        "            image_patch_size=16,        # image patch size\n",
        "            frame_patch_size=2,         # frame patch size\n",
        "            num_classes=256,\n",
        "            dim=1024,\n",
        "            spatial_depth=6,            # depth of the spatial transformer\n",
        "            temporal_depth=6,           # depth of the temporal transformer\n",
        "            heads=8,\n",
        "            mlp_dim=2048,\n",
        "            variant='factorized_encoder'  # or 'factorized_self_attention'\n",
        "        ).to(device)\n",
        "\n",
        "        # **Fully Connected Classifier**\n",
        "        self.fc = nn.Sequential(\n",
        "            nn.Linear(256 + 256, 128),\n",
        "            nn.ReLU(),\n",
        "            nn.Dropout(0.3),\n",
        "            nn.Linear(128, 2)\n",
        "        )\n",
        "\n",
        "    def forward(self, video, audio):\n",
        "        batch_size = video.shape[0]\n",
        "\n",
        "        # **Process Video**\n",
        "        video = video.permute(0, 4, 1, 2, 3)  # (batch, frames, channels, H, W) -> (batch, channels, frames, H, W)\n",
        "        video_features = self.video_transformer(video)  # Output: (batch, 256)\n",
        "\n",
        "        # Process audio\n",
        "        audio_features, _ = self.audio_model.extract_features(audio)\n",
        "        # get last layer\n",
        "        audio_features = audio_features[-1]  # (batch, length audio, 768)\n",
        "        # mean\n",
        "        audio_features = torch.mean(audio_features, dim=1)  # (batch, 768)\n",
        "        audio_features = self.audio_head(audio_features)  # (batch, 768) -> (batch, 256)\n",
        "\n",
        "        # **Feature Fusion**\n",
        "        combined_features = torch.cat((video_features, audio_features), dim=1)  # (batch, 512)\n",
        "\n",
        "        # **Classification**\n",
        "        logits = self.fc(combined_features)\n",
        "        return logits\n"
      ]
    },
    {
      "cell_type": "code",
      "execution_count": null,
      "metadata": {
        "colab": {
          "base_uri": "https://localhost:8080/"
        },
        "id": "HpJZD9JgnJL_",
        "outputId": "893dd89a-ac9e-4020-cb06-2d0850965050"
      },
      "outputs": [],
      "source": [
        "model = VideoAudioModel(device=DEVICE)\n",
        "model.to(DEVICE)\n",
        "\n",
        "sample_audio = torch.randn(1, var.TARGET_AUDIO_LENGTH).to(DEVICE)\n",
        "sample_video = torch.randn(1, 10, var.TARGET_FRAME_SIZE[0], var.TARGET_FRAME_SIZE[1], 3).to(DEVICE)\n",
        "\n",
        "model(sample_video, sample_audio).shape"
      ]
    },
    {
      "cell_type": "code",
      "execution_count": null,
      "metadata": {
        "id": "ZEHAUZcxudwt"
      },
      "outputs": [],
      "source": [
        "import gc\n",
        "gc.collect()\n",
        "torch.cuda.empty_cache()\n",
        "\n",
        "del model, sample_audio, sample_video"
      ]
    },
    {
      "cell_type": "markdown",
      "metadata": {
        "id": "HY6OguB4seTr"
      },
      "source": [
        "# Train step"
      ]
    },
    {
      "cell_type": "code",
      "execution_count": null,
      "metadata": {
        "id": "V4SsiR3p1uBR"
      },
      "outputs": [],
      "source": [
        "import torch\n",
        "import torch.nn.functional as F\n",
        "\n",
        "# Function to compute cosine similarity between embeddings\n",
        "def compute_cosine_similarity(embeddings1, embeddings2):\n",
        "    \"\"\" Compute mean cosine similarity between two sets of embeddings \"\"\"\n",
        "    similarities = F.cosine_similarity(embeddings1, embeddings2, dim=1)\n",
        "    return similarities.mean().item()\n",
        "\n",
        "# Store embeddings from early training (e.g., after first epoch)\n",
        "initial_video_embeddings = None\n",
        "initial_audio_embeddings = None\n",
        "\n",
        "def compute_embedding_drift(model, video, audio, epoch):\n",
        "    global initial_video_embeddings, initial_audio_embeddings\n",
        "\n",
        "    # Get current embeddings\n",
        "    with torch.no_grad():\n",
        "        video = video.to(model.device)\n",
        "        audio = audio.to(model.device)\n",
        "\n",
        "        video = video.permute(0, 4, 1, 2, 3)  # Convert to expected shape\n",
        "        video_embeddings = model.video_transformer(video)  # (batch, 256)\n",
        "        audio_embeddings, _ = model.audio_model.extract_features(audio)\n",
        "        audio_embeddings = torch.mean(audio_embeddings[-1], dim=1)  # (batch, 256)\n",
        "        audio_embeddings = model.audio_head(audio_embeddings)  # (batch, 256)\n",
        "\n",
        "    if epoch == 1:\n",
        "        # Store initial embeddings\n",
        "        initial_video_embeddings = video_embeddings.clone().detach()\n",
        "        initial_audio_embeddings = audio_embeddings.clone().detach()\n",
        "        return None  # No comparison in first epoch\n",
        "\n",
        "    # Compute cosine similarity with first epoch\n",
        "    video_similarity = compute_cosine_similarity(initial_video_embeddings, video_embeddings)\n",
        "    audio_similarity = compute_cosine_similarity(initial_audio_embeddings, audio_embeddings)\n",
        "\n",
        "    print(f\"Epoch {epoch}: Video Embedding Similarity = {video_similarity:.4f}, Audio Embedding Similarity = {audio_similarity:.4f}\")\n",
        "    return video_similarity, audio_similarity"
      ]
    },
    {
      "cell_type": "code",
      "execution_count": null,
      "metadata": {
        "id": "sZNUQcJpwpvF"
      },
      "outputs": [],
      "source": [
        "def train_step(model, dataloader, criterion, optimizer, device):\n",
        "    model.train()\n",
        "    total_loss = 0\n",
        "\n",
        "    loop = tqdm(dataloader, desc=\"Training\", leave=False)  # Progress bar\n",
        "\n",
        "    ci = 0\n",
        "    for batch in loop:\n",
        "        video, audio, labels = batch[\"video\"].to(device), batch[\"audio\"].to(device), batch[\"label\"].to(device)\n",
        "\n",
        "        optimizer.zero_grad()\n",
        "        outputs = model(video, audio)\n",
        "        loss = criterion(outputs, labels)\n",
        "\n",
        "        loss.backward()\n",
        "        optimizer.step()\n",
        "\n",
        "        total_loss += loss.item()\n",
        "\n",
        "        loop.set_postfix(loss=loss.item())  # Update tqdm bar with current loss\n",
        "\n",
        "        ci += 1\n",
        "        if ci % 20 == 0:\n",
        "            print(f\"\\n\\tOutput: {outputs}\\n\\tLabel: {labels}\")\n",
        "\n",
        "    return total_loss / len(dataloader)  # Average loss\n",
        "\n",
        "def val_step(model, dataloader, criterion, device):\n",
        "    model.eval()\n",
        "    total_loss = 0\n",
        "\n",
        "    loop = tqdm(dataloader, desc=\"Validating\", leave=False)  # Progress bar\n",
        "\n",
        "    with torch.no_grad():\n",
        "        ci = 0\n",
        "        for batch in loop:\n",
        "            video, audio, labels = batch[\"video\"].to(device), batch[\"audio\"].to(device), batch[\"label\"].to(device)\n",
        "\n",
        "            outputs = model(video, audio)\n",
        "            loss = criterion(outputs, labels)\n",
        "            total_loss += loss.item()\n",
        "\n",
        "            loop.set_postfix(loss=loss.item())  # Update tqdm bar with current loss\n",
        "\n",
        "            ci += 1\n",
        "            if ci % 20 == 0:\n",
        "                print(f\"\\n\\tOutput: {outputs}\\n\\tLabel: {labels}\")\n",
        "\n",
        "    return total_loss / len(dataloader)  # Average loss\n",
        "\n",
        "def train(model, train_dataloader, val_dataloader, criterion, optimizer, num_epochs, device):\n",
        "    for epoch in range(num_epochs):\n",
        "        print(f\"\\nEpoch {epoch+1}/{num_epochs}\")\n",
        "        train_loss = train_step(model, train_dataloader, criterion, optimizer, device)\n",
        "        val_loss = val_step(model, val_dataloader, criterion, device)\n",
        "        print(f\"Epoch [{epoch+1}/{num_epochs}] - Training Loss: {train_loss:.4f}, Validation Loss: {val_loss:.4f}\")\n",
        "\n",
        "\n",
        "        video_similarity, audio_similarity = compute_embedding_drift(model, video, audio, epoch+1)\n",
        "        print(f\"Similarity: {video_similarity}, {audio_similarity}\")"
      ]
    },
    {
      "cell_type": "markdown",
      "metadata": {
        "id": "Ze0uBRU0pLsU"
      },
      "source": [
        "# Training"
      ]
    },
    {
      "cell_type": "code",
      "execution_count": null,
      "metadata": {
        "id": "os_V066etQU9"
      },
      "outputs": [],
      "source": [
        "# Create DataLoader with padding\n",
        "BATCH_SIZE = 1\n",
        "train_dataloader = torch.utils.data.DataLoader(\n",
        "    VideoAudioDataset(train_df.iloc[:40], var.TO_PATH),\n",
        "    batch_size=BATCH_SIZE,\n",
        "    shuffle=True,\n",
        "    collate_fn=lambda batch: collate_fn(batch, max_frames=var.TARGET_N_FRAME, max_audio_samples=var.TARGET_AUDIO_LENGTH)\n",
        ")\n",
        "\n",
        "val_dataloader = torch.utils.data.DataLoader(\n",
        "    VideoAudioDataset(val_df.iloc[:20], var.TO_PATH),\n",
        "    batch_size=BATCH_SIZE,\n",
        "    shuffle=False,\n",
        "    collate_fn=lambda batch: collate_fn(batch, max_frames=var.TARGET_N_FRAME, max_audio_samples=var.TARGET_AUDIO_LENGTH)\n",
        ")"
      ]
    },
    {
      "cell_type": "code",
      "execution_count": null,
      "metadata": {
        "id": "EwjG6grkpLsV"
      },
      "outputs": [],
      "source": [
        "# Create model and optimizer\n",
        "model = VideoAudioModel(device=DEVICE)\n",
        "model.to(DEVICE)\n",
        "\n",
        "optimizer = torch.optim.Adam(model.parameters(), lr=0.001)\n",
        "criterion = nn.BCEWithLogitsLoss()"
      ]
    },
    {
      "cell_type": "code",
      "execution_count": null,
      "metadata": {
        "colab": {
          "base_uri": "https://localhost:8080/",
          "height": 384
        },
        "id": "upeqqz19x1_2",
        "outputId": "32be1834-883e-4339-f467-15491f77871d"
      },
      "outputs": [
        {
          "name": "stdout",
          "output_type": "stream",
          "text": [
            "\n",
            "Epoch 1/2\n"
          ]
        },
        {
          "name": "stderr",
          "output_type": "stream",
          "text": [
            "Training:   5%|▌         | 1/20 [01:16<24:22, 76.99s/it, loss=0.61]Exception ignored in: <generator object tqdm.__iter__ at 0x7f0bec01af80>\n",
            "Traceback (most recent call last):\n",
            "  File \"/home/datlinux/XAI-4-YoutubeEngagement/.venv/lib/python3.12/site-packages/tqdm/std.py\", line 1196, in __iter__\n",
            "    self.close()\n",
            "  File \"/home/datlinux/XAI-4-YoutubeEngagement/.venv/lib/python3.12/site-packages/tqdm/std.py\", line 1265, in close\n",
            "    def close(self):\n",
            "\n",
            "KeyboardInterrupt: \n"
          ]
        },
        {
          "ename": "OutOfMemoryError",
          "evalue": "CUDA out of memory. Tried to allocate 36.00 MiB. GPU 0 has a total capacity of 4.00 GiB of which 0 bytes is free. Including non-PyTorch memory, this process has 17179869184.00 GiB memory in use. Of the allocated memory 10.51 GiB is allocated by PyTorch, and 294.01 MiB is reserved by PyTorch but unallocated. If reserved but unallocated memory is large try setting PYTORCH_CUDA_ALLOC_CONF=expandable_segments:True to avoid fragmentation.  See documentation for Memory Management  (https://pytorch.org/docs/stable/notes/cuda.html#environment-variables)",
          "output_type": "error",
          "traceback": [
            "\u001b[31m---------------------------------------------------------------------------\u001b[39m",
            "\u001b[31mOutOfMemoryError\u001b[39m                          Traceback (most recent call last)",
            "\u001b[36mCell\u001b[39m\u001b[36m \u001b[39m\u001b[32mIn[25]\u001b[39m\u001b[32m, line 1\u001b[39m\n\u001b[32m----> \u001b[39m\u001b[32m1\u001b[39m \u001b[43mtrain\u001b[49m\u001b[43m(\u001b[49m\u001b[43mmodel\u001b[49m\u001b[43m,\u001b[49m\u001b[43m \u001b[49m\u001b[43mtrain_dataloader\u001b[49m\u001b[43m,\u001b[49m\u001b[43m \u001b[49m\u001b[43mval_dataloader\u001b[49m\u001b[43m,\u001b[49m\u001b[43m \u001b[49m\u001b[43mcriterion\u001b[49m\u001b[43m,\u001b[49m\u001b[43m \u001b[49m\u001b[43moptimizer\u001b[49m\u001b[43m,\u001b[49m\u001b[43m \u001b[49m\u001b[43mnum_epochs\u001b[49m\u001b[43m=\u001b[49m\u001b[32;43m2\u001b[39;49m\u001b[43m,\u001b[49m\u001b[43m \u001b[49m\u001b[43mdevice\u001b[49m\u001b[43m=\u001b[49m\u001b[43mDEVICE\u001b[49m\u001b[43m)\u001b[49m\n",
            "\u001b[36mCell\u001b[39m\u001b[36m \u001b[39m\u001b[32mIn[22]\u001b[39m\u001b[32m, line 54\u001b[39m, in \u001b[36mtrain\u001b[39m\u001b[34m(model, train_dataloader, val_dataloader, criterion, optimizer, num_epochs, device)\u001b[39m\n\u001b[32m     52\u001b[39m \u001b[38;5;28;01mfor\u001b[39;00m epoch \u001b[38;5;129;01min\u001b[39;00m \u001b[38;5;28mrange\u001b[39m(num_epochs):\n\u001b[32m     53\u001b[39m     \u001b[38;5;28mprint\u001b[39m(\u001b[33mf\u001b[39m\u001b[33m\"\u001b[39m\u001b[38;5;130;01m\\n\u001b[39;00m\u001b[33mEpoch \u001b[39m\u001b[38;5;132;01m{\u001b[39;00mepoch+\u001b[32m1\u001b[39m\u001b[38;5;132;01m}\u001b[39;00m\u001b[33m/\u001b[39m\u001b[38;5;132;01m{\u001b[39;00mnum_epochs\u001b[38;5;132;01m}\u001b[39;00m\u001b[33m\"\u001b[39m)\n\u001b[32m---> \u001b[39m\u001b[32m54\u001b[39m     train_loss = \u001b[43mtrain_step\u001b[49m\u001b[43m(\u001b[49m\u001b[43mmodel\u001b[49m\u001b[43m,\u001b[49m\u001b[43m \u001b[49m\u001b[43mtrain_dataloader\u001b[49m\u001b[43m,\u001b[49m\u001b[43m \u001b[49m\u001b[43mcriterion\u001b[49m\u001b[43m,\u001b[49m\u001b[43m \u001b[49m\u001b[43moptimizer\u001b[49m\u001b[43m,\u001b[49m\u001b[43m \u001b[49m\u001b[43mdevice\u001b[49m\u001b[43m)\u001b[49m\n\u001b[32m     55\u001b[39m     val_loss = val_step(model, val_dataloader, criterion, device)\n\u001b[32m     56\u001b[39m     \u001b[38;5;28mprint\u001b[39m(\u001b[33mf\u001b[39m\u001b[33m\"\u001b[39m\u001b[33mEpoch [\u001b[39m\u001b[38;5;132;01m{\u001b[39;00mepoch+\u001b[32m1\u001b[39m\u001b[38;5;132;01m}\u001b[39;00m\u001b[33m/\u001b[39m\u001b[38;5;132;01m{\u001b[39;00mnum_epochs\u001b[38;5;132;01m}\u001b[39;00m\u001b[33m] - Training Loss: \u001b[39m\u001b[38;5;132;01m{\u001b[39;00mtrain_loss\u001b[38;5;132;01m:\u001b[39;00m\u001b[33m.4f\u001b[39m\u001b[38;5;132;01m}\u001b[39;00m\u001b[33m, Validation Loss: \u001b[39m\u001b[38;5;132;01m{\u001b[39;00mval_loss\u001b[38;5;132;01m:\u001b[39;00m\u001b[33m.4f\u001b[39m\u001b[38;5;132;01m}\u001b[39;00m\u001b[33m\"\u001b[39m)\n",
            "\u001b[36mCell\u001b[39m\u001b[36m \u001b[39m\u001b[32mIn[22]\u001b[39m\u001b[32m, line 12\u001b[39m, in \u001b[36mtrain_step\u001b[39m\u001b[34m(model, dataloader, criterion, optimizer, device)\u001b[39m\n\u001b[32m      9\u001b[39m video, audio, labels = batch[\u001b[33m\"\u001b[39m\u001b[33mvideo\u001b[39m\u001b[33m\"\u001b[39m].to(device), batch[\u001b[33m\"\u001b[39m\u001b[33maudio\u001b[39m\u001b[33m\"\u001b[39m].to(device), batch[\u001b[33m\"\u001b[39m\u001b[33mlabel\u001b[39m\u001b[33m\"\u001b[39m].to(device)\n\u001b[32m     11\u001b[39m optimizer.zero_grad()\n\u001b[32m---> \u001b[39m\u001b[32m12\u001b[39m outputs = \u001b[43mmodel\u001b[49m\u001b[43m(\u001b[49m\u001b[43mvideo\u001b[49m\u001b[43m,\u001b[49m\u001b[43m \u001b[49m\u001b[43maudio\u001b[49m\u001b[43m)\u001b[49m\n\u001b[32m     13\u001b[39m loss = criterion(outputs, labels)\n\u001b[32m     15\u001b[39m loss.backward()\n",
            "\u001b[36mFile \u001b[39m\u001b[32m~/XAI-4-YoutubeEngagement/.venv/lib/python3.12/site-packages/torch/nn/modules/module.py:1739\u001b[39m, in \u001b[36mModule._wrapped_call_impl\u001b[39m\u001b[34m(self, *args, **kwargs)\u001b[39m\n\u001b[32m   1737\u001b[39m     \u001b[38;5;28;01mreturn\u001b[39;00m \u001b[38;5;28mself\u001b[39m._compiled_call_impl(*args, **kwargs)  \u001b[38;5;66;03m# type: ignore[misc]\u001b[39;00m\n\u001b[32m   1738\u001b[39m \u001b[38;5;28;01melse\u001b[39;00m:\n\u001b[32m-> \u001b[39m\u001b[32m1739\u001b[39m     \u001b[38;5;28;01mreturn\u001b[39;00m \u001b[38;5;28;43mself\u001b[39;49m\u001b[43m.\u001b[49m\u001b[43m_call_impl\u001b[49m\u001b[43m(\u001b[49m\u001b[43m*\u001b[49m\u001b[43margs\u001b[49m\u001b[43m,\u001b[49m\u001b[43m \u001b[49m\u001b[43m*\u001b[49m\u001b[43m*\u001b[49m\u001b[43mkwargs\u001b[49m\u001b[43m)\u001b[49m\n",
            "\u001b[36mFile \u001b[39m\u001b[32m~/XAI-4-YoutubeEngagement/.venv/lib/python3.12/site-packages/torch/nn/modules/module.py:1750\u001b[39m, in \u001b[36mModule._call_impl\u001b[39m\u001b[34m(self, *args, **kwargs)\u001b[39m\n\u001b[32m   1745\u001b[39m \u001b[38;5;66;03m# If we don't have any hooks, we want to skip the rest of the logic in\u001b[39;00m\n\u001b[32m   1746\u001b[39m \u001b[38;5;66;03m# this function, and just call forward.\u001b[39;00m\n\u001b[32m   1747\u001b[39m \u001b[38;5;28;01mif\u001b[39;00m \u001b[38;5;129;01mnot\u001b[39;00m (\u001b[38;5;28mself\u001b[39m._backward_hooks \u001b[38;5;129;01mor\u001b[39;00m \u001b[38;5;28mself\u001b[39m._backward_pre_hooks \u001b[38;5;129;01mor\u001b[39;00m \u001b[38;5;28mself\u001b[39m._forward_hooks \u001b[38;5;129;01mor\u001b[39;00m \u001b[38;5;28mself\u001b[39m._forward_pre_hooks\n\u001b[32m   1748\u001b[39m         \u001b[38;5;129;01mor\u001b[39;00m _global_backward_pre_hooks \u001b[38;5;129;01mor\u001b[39;00m _global_backward_hooks\n\u001b[32m   1749\u001b[39m         \u001b[38;5;129;01mor\u001b[39;00m _global_forward_hooks \u001b[38;5;129;01mor\u001b[39;00m _global_forward_pre_hooks):\n\u001b[32m-> \u001b[39m\u001b[32m1750\u001b[39m     \u001b[38;5;28;01mreturn\u001b[39;00m \u001b[43mforward_call\u001b[49m\u001b[43m(\u001b[49m\u001b[43m*\u001b[49m\u001b[43margs\u001b[49m\u001b[43m,\u001b[49m\u001b[43m \u001b[49m\u001b[43m*\u001b[49m\u001b[43m*\u001b[49m\u001b[43mkwargs\u001b[49m\u001b[43m)\u001b[49m\n\u001b[32m   1752\u001b[39m result = \u001b[38;5;28;01mNone\u001b[39;00m\n\u001b[32m   1753\u001b[39m called_always_called_hooks = \u001b[38;5;28mset\u001b[39m()\n",
            "\u001b[36mCell\u001b[39m\u001b[36m \u001b[39m\u001b[32mIn[18]\u001b[39m\u001b[32m, line 51\u001b[39m, in \u001b[36mVideoAudioModel.forward\u001b[39m\u001b[34m(self, video, audio)\u001b[39m\n\u001b[32m     48\u001b[39m video_features = \u001b[38;5;28mself\u001b[39m.video_transformer(video)  \u001b[38;5;66;03m# Output: (batch, 256)\u001b[39;00m\n\u001b[32m     50\u001b[39m \u001b[38;5;66;03m# Process audio\u001b[39;00m\n\u001b[32m---> \u001b[39m\u001b[32m51\u001b[39m audio_features, _ = \u001b[38;5;28;43mself\u001b[39;49m\u001b[43m.\u001b[49m\u001b[43maudio_model\u001b[49m\u001b[43m.\u001b[49m\u001b[43mextract_features\u001b[49m\u001b[43m(\u001b[49m\u001b[43maudio\u001b[49m\u001b[43m)\u001b[49m\n\u001b[32m     52\u001b[39m \u001b[38;5;66;03m# get last layer\u001b[39;00m\n\u001b[32m     53\u001b[39m audio_features = audio_features[-\u001b[32m1\u001b[39m]  \u001b[38;5;66;03m# (batch, length audio, 768)\u001b[39;00m\n",
            "\u001b[36mFile \u001b[39m\u001b[32m~/XAI-4-YoutubeEngagement/.venv/lib/python3.12/site-packages/torchaudio/models/wav2vec2/model.py:84\u001b[39m, in \u001b[36mWav2Vec2Model.extract_features\u001b[39m\u001b[34m(self, waveforms, lengths, num_layers)\u001b[39m\n\u001b[32m     51\u001b[39m \u001b[38;5;250m\u001b[39m\u001b[33;03m\"\"\"Extract feature vectors from raw waveforms\u001b[39;00m\n\u001b[32m     52\u001b[39m \n\u001b[32m     53\u001b[39m \u001b[33;03mThis returns the list of outputs from the intermediate layers of\u001b[39;00m\n\u001b[32m   (...)\u001b[39m\u001b[32m     81\u001b[39m \u001b[33;03m        It indicates the valid length in time axis of each feature Tensor.\u001b[39;00m\n\u001b[32m     82\u001b[39m \u001b[33;03m\"\"\"\u001b[39;00m\n\u001b[32m     83\u001b[39m x, lengths = \u001b[38;5;28mself\u001b[39m.feature_extractor(waveforms, lengths)\n\u001b[32m---> \u001b[39m\u001b[32m84\u001b[39m x = \u001b[38;5;28;43mself\u001b[39;49m\u001b[43m.\u001b[49m\u001b[43mencoder\u001b[49m\u001b[43m.\u001b[49m\u001b[43mextract_features\u001b[49m\u001b[43m(\u001b[49m\u001b[43mx\u001b[49m\u001b[43m,\u001b[49m\u001b[43m \u001b[49m\u001b[43mlengths\u001b[49m\u001b[43m,\u001b[49m\u001b[43m \u001b[49m\u001b[43mnum_layers\u001b[49m\u001b[43m)\u001b[49m\n\u001b[32m     85\u001b[39m \u001b[38;5;28;01mreturn\u001b[39;00m x, lengths\n",
            "\u001b[36mFile \u001b[39m\u001b[32m~/XAI-4-YoutubeEngagement/.venv/lib/python3.12/site-packages/torchaudio/models/wav2vec2/components.py:510\u001b[39m, in \u001b[36mEncoder.extract_features\u001b[39m\u001b[34m(self, features, lengths, num_layers)\u001b[39m\n\u001b[32m    503\u001b[39m \u001b[38;5;28;01mdef\u001b[39;00m\u001b[38;5;250m \u001b[39m\u001b[34mextract_features\u001b[39m(\n\u001b[32m    504\u001b[39m     \u001b[38;5;28mself\u001b[39m,\n\u001b[32m    505\u001b[39m     features: Tensor,\n\u001b[32m    506\u001b[39m     lengths: Optional[Tensor] = \u001b[38;5;28;01mNone\u001b[39;00m,\n\u001b[32m    507\u001b[39m     num_layers: Optional[\u001b[38;5;28mint\u001b[39m] = \u001b[38;5;28;01mNone\u001b[39;00m,\n\u001b[32m    508\u001b[39m ) -> List[Tensor]:\n\u001b[32m    509\u001b[39m     x, masks = \u001b[38;5;28mself\u001b[39m._preprocess(features, lengths)\n\u001b[32m--> \u001b[39m\u001b[32m510\u001b[39m     \u001b[38;5;28;01mreturn\u001b[39;00m \u001b[38;5;28;43mself\u001b[39;49m\u001b[43m.\u001b[49m\u001b[43mtransformer\u001b[49m\u001b[43m.\u001b[49m\u001b[43mget_intermediate_outputs\u001b[49m\u001b[43m(\u001b[49m\u001b[43mx\u001b[49m\u001b[43m,\u001b[49m\u001b[43m \u001b[49m\u001b[43mattention_mask\u001b[49m\u001b[43m=\u001b[49m\u001b[43mmasks\u001b[49m\u001b[43m,\u001b[49m\u001b[43m \u001b[49m\u001b[43mnum_layers\u001b[49m\u001b[43m=\u001b[49m\u001b[43mnum_layers\u001b[49m\u001b[43m)\u001b[49m\n",
            "\u001b[36mFile \u001b[39m\u001b[32m~/XAI-4-YoutubeEngagement/.venv/lib/python3.12/site-packages/torchaudio/models/wav2vec2/components.py:459\u001b[39m, in \u001b[36mTransformer.get_intermediate_outputs\u001b[39m\u001b[34m(self, x, attention_mask, num_layers)\u001b[39m\n\u001b[32m    457\u001b[39m x = \u001b[38;5;28mself\u001b[39m._preprocess(x)\n\u001b[32m    458\u001b[39m \u001b[38;5;28;01mfor\u001b[39;00m layer \u001b[38;5;129;01min\u001b[39;00m \u001b[38;5;28mself\u001b[39m.layers:\n\u001b[32m--> \u001b[39m\u001b[32m459\u001b[39m     x, position_bias = \u001b[43mlayer\u001b[49m\u001b[43m(\u001b[49m\u001b[43mx\u001b[49m\u001b[43m,\u001b[49m\u001b[43m \u001b[49m\u001b[43mattention_mask\u001b[49m\u001b[43m,\u001b[49m\u001b[43m \u001b[49m\u001b[43mposition_bias\u001b[49m\u001b[43m=\u001b[49m\u001b[43mposition_bias\u001b[49m\u001b[43m)\u001b[49m\n\u001b[32m    460\u001b[39m     ret.append(x)\n\u001b[32m    461\u001b[39m     \u001b[38;5;28;01mif\u001b[39;00m num_layers \u001b[38;5;129;01mis\u001b[39;00m \u001b[38;5;129;01mnot\u001b[39;00m \u001b[38;5;28;01mNone\u001b[39;00m \u001b[38;5;129;01mand\u001b[39;00m \u001b[38;5;28mlen\u001b[39m(ret) >= num_layers:\n",
            "\u001b[36mFile \u001b[39m\u001b[32m~/XAI-4-YoutubeEngagement/.venv/lib/python3.12/site-packages/torch/nn/modules/module.py:1739\u001b[39m, in \u001b[36mModule._wrapped_call_impl\u001b[39m\u001b[34m(self, *args, **kwargs)\u001b[39m\n\u001b[32m   1737\u001b[39m     \u001b[38;5;28;01mreturn\u001b[39;00m \u001b[38;5;28mself\u001b[39m._compiled_call_impl(*args, **kwargs)  \u001b[38;5;66;03m# type: ignore[misc]\u001b[39;00m\n\u001b[32m   1738\u001b[39m \u001b[38;5;28;01melse\u001b[39;00m:\n\u001b[32m-> \u001b[39m\u001b[32m1739\u001b[39m     \u001b[38;5;28;01mreturn\u001b[39;00m \u001b[38;5;28;43mself\u001b[39;49m\u001b[43m.\u001b[49m\u001b[43m_call_impl\u001b[49m\u001b[43m(\u001b[49m\u001b[43m*\u001b[49m\u001b[43margs\u001b[49m\u001b[43m,\u001b[49m\u001b[43m \u001b[49m\u001b[43m*\u001b[49m\u001b[43m*\u001b[49m\u001b[43mkwargs\u001b[49m\u001b[43m)\u001b[49m\n",
            "\u001b[36mFile \u001b[39m\u001b[32m~/XAI-4-YoutubeEngagement/.venv/lib/python3.12/site-packages/torch/nn/modules/module.py:1750\u001b[39m, in \u001b[36mModule._call_impl\u001b[39m\u001b[34m(self, *args, **kwargs)\u001b[39m\n\u001b[32m   1745\u001b[39m \u001b[38;5;66;03m# If we don't have any hooks, we want to skip the rest of the logic in\u001b[39;00m\n\u001b[32m   1746\u001b[39m \u001b[38;5;66;03m# this function, and just call forward.\u001b[39;00m\n\u001b[32m   1747\u001b[39m \u001b[38;5;28;01mif\u001b[39;00m \u001b[38;5;129;01mnot\u001b[39;00m (\u001b[38;5;28mself\u001b[39m._backward_hooks \u001b[38;5;129;01mor\u001b[39;00m \u001b[38;5;28mself\u001b[39m._backward_pre_hooks \u001b[38;5;129;01mor\u001b[39;00m \u001b[38;5;28mself\u001b[39m._forward_hooks \u001b[38;5;129;01mor\u001b[39;00m \u001b[38;5;28mself\u001b[39m._forward_pre_hooks\n\u001b[32m   1748\u001b[39m         \u001b[38;5;129;01mor\u001b[39;00m _global_backward_pre_hooks \u001b[38;5;129;01mor\u001b[39;00m _global_backward_hooks\n\u001b[32m   1749\u001b[39m         \u001b[38;5;129;01mor\u001b[39;00m _global_forward_hooks \u001b[38;5;129;01mor\u001b[39;00m _global_forward_pre_hooks):\n\u001b[32m-> \u001b[39m\u001b[32m1750\u001b[39m     \u001b[38;5;28;01mreturn\u001b[39;00m \u001b[43mforward_call\u001b[49m\u001b[43m(\u001b[49m\u001b[43m*\u001b[49m\u001b[43margs\u001b[49m\u001b[43m,\u001b[49m\u001b[43m \u001b[49m\u001b[43m*\u001b[49m\u001b[43m*\u001b[49m\u001b[43mkwargs\u001b[49m\u001b[43m)\u001b[49m\n\u001b[32m   1752\u001b[39m result = \u001b[38;5;28;01mNone\u001b[39;00m\n\u001b[32m   1753\u001b[39m called_always_called_hooks = \u001b[38;5;28mset\u001b[39m()\n",
            "\u001b[36mFile \u001b[39m\u001b[32m~/XAI-4-YoutubeEngagement/.venv/lib/python3.12/site-packages/torchaudio/models/wav2vec2/components.py:400\u001b[39m, in \u001b[36mEncoderLayer.forward\u001b[39m\u001b[34m(self, x, attention_mask, position_bias, key_padding_mask)\u001b[39m\n\u001b[32m    398\u001b[39m \u001b[38;5;28;01melse\u001b[39;00m:\n\u001b[32m    399\u001b[39m     x = \u001b[38;5;28mself\u001b[39m.layer_norm(x)\n\u001b[32m--> \u001b[39m\u001b[32m400\u001b[39m     x = \u001b[38;5;28mself\u001b[39m.final_layer_norm(x + \u001b[38;5;28;43mself\u001b[39;49m\u001b[43m.\u001b[49m\u001b[43mfeed_forward\u001b[49m\u001b[43m(\u001b[49m\u001b[43mx\u001b[49m\u001b[43m)\u001b[49m)\n\u001b[32m    401\u001b[39m \u001b[38;5;28;01mreturn\u001b[39;00m x, position_bias\n",
            "\u001b[36mFile \u001b[39m\u001b[32m~/XAI-4-YoutubeEngagement/.venv/lib/python3.12/site-packages/torch/nn/modules/module.py:1739\u001b[39m, in \u001b[36mModule._wrapped_call_impl\u001b[39m\u001b[34m(self, *args, **kwargs)\u001b[39m\n\u001b[32m   1737\u001b[39m     \u001b[38;5;28;01mreturn\u001b[39;00m \u001b[38;5;28mself\u001b[39m._compiled_call_impl(*args, **kwargs)  \u001b[38;5;66;03m# type: ignore[misc]\u001b[39;00m\n\u001b[32m   1738\u001b[39m \u001b[38;5;28;01melse\u001b[39;00m:\n\u001b[32m-> \u001b[39m\u001b[32m1739\u001b[39m     \u001b[38;5;28;01mreturn\u001b[39;00m \u001b[38;5;28;43mself\u001b[39;49m\u001b[43m.\u001b[49m\u001b[43m_call_impl\u001b[49m\u001b[43m(\u001b[49m\u001b[43m*\u001b[49m\u001b[43margs\u001b[49m\u001b[43m,\u001b[49m\u001b[43m \u001b[49m\u001b[43m*\u001b[49m\u001b[43m*\u001b[49m\u001b[43mkwargs\u001b[49m\u001b[43m)\u001b[49m\n",
            "\u001b[36mFile \u001b[39m\u001b[32m~/XAI-4-YoutubeEngagement/.venv/lib/python3.12/site-packages/torch/nn/modules/module.py:1750\u001b[39m, in \u001b[36mModule._call_impl\u001b[39m\u001b[34m(self, *args, **kwargs)\u001b[39m\n\u001b[32m   1745\u001b[39m \u001b[38;5;66;03m# If we don't have any hooks, we want to skip the rest of the logic in\u001b[39;00m\n\u001b[32m   1746\u001b[39m \u001b[38;5;66;03m# this function, and just call forward.\u001b[39;00m\n\u001b[32m   1747\u001b[39m \u001b[38;5;28;01mif\u001b[39;00m \u001b[38;5;129;01mnot\u001b[39;00m (\u001b[38;5;28mself\u001b[39m._backward_hooks \u001b[38;5;129;01mor\u001b[39;00m \u001b[38;5;28mself\u001b[39m._backward_pre_hooks \u001b[38;5;129;01mor\u001b[39;00m \u001b[38;5;28mself\u001b[39m._forward_hooks \u001b[38;5;129;01mor\u001b[39;00m \u001b[38;5;28mself\u001b[39m._forward_pre_hooks\n\u001b[32m   1748\u001b[39m         \u001b[38;5;129;01mor\u001b[39;00m _global_backward_pre_hooks \u001b[38;5;129;01mor\u001b[39;00m _global_backward_hooks\n\u001b[32m   1749\u001b[39m         \u001b[38;5;129;01mor\u001b[39;00m _global_forward_hooks \u001b[38;5;129;01mor\u001b[39;00m _global_forward_pre_hooks):\n\u001b[32m-> \u001b[39m\u001b[32m1750\u001b[39m     \u001b[38;5;28;01mreturn\u001b[39;00m \u001b[43mforward_call\u001b[49m\u001b[43m(\u001b[49m\u001b[43m*\u001b[49m\u001b[43margs\u001b[49m\u001b[43m,\u001b[49m\u001b[43m \u001b[49m\u001b[43m*\u001b[49m\u001b[43m*\u001b[49m\u001b[43mkwargs\u001b[49m\u001b[43m)\u001b[49m\n\u001b[32m   1752\u001b[39m result = \u001b[38;5;28;01mNone\u001b[39;00m\n\u001b[32m   1753\u001b[39m called_always_called_hooks = \u001b[38;5;28mset\u001b[39m()\n",
            "\u001b[36mFile \u001b[39m\u001b[32m~/XAI-4-YoutubeEngagement/.venv/lib/python3.12/site-packages/torchaudio/models/wav2vec2/components.py:338\u001b[39m, in \u001b[36mFeedForward.forward\u001b[39m\u001b[34m(self, x)\u001b[39m\n\u001b[32m    336\u001b[39m x = \u001b[38;5;28mself\u001b[39m.intermediate_dense(x)\n\u001b[32m    337\u001b[39m x = torch.nn.functional.gelu(x)\n\u001b[32m--> \u001b[39m\u001b[32m338\u001b[39m x = \u001b[38;5;28;43mself\u001b[39;49m\u001b[43m.\u001b[49m\u001b[43mintermediate_dropout\u001b[49m\u001b[43m(\u001b[49m\u001b[43mx\u001b[49m\u001b[43m)\u001b[49m\n\u001b[32m    340\u001b[39m x = \u001b[38;5;28mself\u001b[39m.output_dense(x)\n\u001b[32m    341\u001b[39m x = \u001b[38;5;28mself\u001b[39m.output_dropout(x)\n",
            "\u001b[36mFile \u001b[39m\u001b[32m~/XAI-4-YoutubeEngagement/.venv/lib/python3.12/site-packages/torch/nn/modules/module.py:1739\u001b[39m, in \u001b[36mModule._wrapped_call_impl\u001b[39m\u001b[34m(self, *args, **kwargs)\u001b[39m\n\u001b[32m   1737\u001b[39m     \u001b[38;5;28;01mreturn\u001b[39;00m \u001b[38;5;28mself\u001b[39m._compiled_call_impl(*args, **kwargs)  \u001b[38;5;66;03m# type: ignore[misc]\u001b[39;00m\n\u001b[32m   1738\u001b[39m \u001b[38;5;28;01melse\u001b[39;00m:\n\u001b[32m-> \u001b[39m\u001b[32m1739\u001b[39m     \u001b[38;5;28;01mreturn\u001b[39;00m \u001b[38;5;28;43mself\u001b[39;49m\u001b[43m.\u001b[49m\u001b[43m_call_impl\u001b[49m\u001b[43m(\u001b[49m\u001b[43m*\u001b[49m\u001b[43margs\u001b[49m\u001b[43m,\u001b[49m\u001b[43m \u001b[49m\u001b[43m*\u001b[49m\u001b[43m*\u001b[49m\u001b[43mkwargs\u001b[49m\u001b[43m)\u001b[49m\n",
            "\u001b[36mFile \u001b[39m\u001b[32m~/XAI-4-YoutubeEngagement/.venv/lib/python3.12/site-packages/torch/nn/modules/module.py:1750\u001b[39m, in \u001b[36mModule._call_impl\u001b[39m\u001b[34m(self, *args, **kwargs)\u001b[39m\n\u001b[32m   1745\u001b[39m \u001b[38;5;66;03m# If we don't have any hooks, we want to skip the rest of the logic in\u001b[39;00m\n\u001b[32m   1746\u001b[39m \u001b[38;5;66;03m# this function, and just call forward.\u001b[39;00m\n\u001b[32m   1747\u001b[39m \u001b[38;5;28;01mif\u001b[39;00m \u001b[38;5;129;01mnot\u001b[39;00m (\u001b[38;5;28mself\u001b[39m._backward_hooks \u001b[38;5;129;01mor\u001b[39;00m \u001b[38;5;28mself\u001b[39m._backward_pre_hooks \u001b[38;5;129;01mor\u001b[39;00m \u001b[38;5;28mself\u001b[39m._forward_hooks \u001b[38;5;129;01mor\u001b[39;00m \u001b[38;5;28mself\u001b[39m._forward_pre_hooks\n\u001b[32m   1748\u001b[39m         \u001b[38;5;129;01mor\u001b[39;00m _global_backward_pre_hooks \u001b[38;5;129;01mor\u001b[39;00m _global_backward_hooks\n\u001b[32m   1749\u001b[39m         \u001b[38;5;129;01mor\u001b[39;00m _global_forward_hooks \u001b[38;5;129;01mor\u001b[39;00m _global_forward_pre_hooks):\n\u001b[32m-> \u001b[39m\u001b[32m1750\u001b[39m     \u001b[38;5;28;01mreturn\u001b[39;00m \u001b[43mforward_call\u001b[49m\u001b[43m(\u001b[49m\u001b[43m*\u001b[49m\u001b[43margs\u001b[49m\u001b[43m,\u001b[49m\u001b[43m \u001b[49m\u001b[43m*\u001b[49m\u001b[43m*\u001b[49m\u001b[43mkwargs\u001b[49m\u001b[43m)\u001b[49m\n\u001b[32m   1752\u001b[39m result = \u001b[38;5;28;01mNone\u001b[39;00m\n\u001b[32m   1753\u001b[39m called_always_called_hooks = \u001b[38;5;28mset\u001b[39m()\n",
            "\u001b[36mFile \u001b[39m\u001b[32m~/XAI-4-YoutubeEngagement/.venv/lib/python3.12/site-packages/torch/nn/modules/dropout.py:70\u001b[39m, in \u001b[36mDropout.forward\u001b[39m\u001b[34m(self, input)\u001b[39m\n\u001b[32m     69\u001b[39m \u001b[38;5;28;01mdef\u001b[39;00m\u001b[38;5;250m \u001b[39m\u001b[34mforward\u001b[39m(\u001b[38;5;28mself\u001b[39m, \u001b[38;5;28minput\u001b[39m: Tensor) -> Tensor:\n\u001b[32m---> \u001b[39m\u001b[32m70\u001b[39m     \u001b[38;5;28;01mreturn\u001b[39;00m \u001b[43mF\u001b[49m\u001b[43m.\u001b[49m\u001b[43mdropout\u001b[49m\u001b[43m(\u001b[49m\u001b[38;5;28;43minput\u001b[39;49m\u001b[43m,\u001b[49m\u001b[43m \u001b[49m\u001b[38;5;28;43mself\u001b[39;49m\u001b[43m.\u001b[49m\u001b[43mp\u001b[49m\u001b[43m,\u001b[49m\u001b[43m \u001b[49m\u001b[38;5;28;43mself\u001b[39;49m\u001b[43m.\u001b[49m\u001b[43mtraining\u001b[49m\u001b[43m,\u001b[49m\u001b[43m \u001b[49m\u001b[38;5;28;43mself\u001b[39;49m\u001b[43m.\u001b[49m\u001b[43minplace\u001b[49m\u001b[43m)\u001b[49m\n",
            "\u001b[36mFile \u001b[39m\u001b[32m~/XAI-4-YoutubeEngagement/.venv/lib/python3.12/site-packages/torch/nn/functional.py:1425\u001b[39m, in \u001b[36mdropout\u001b[39m\u001b[34m(input, p, training, inplace)\u001b[39m\n\u001b[32m   1422\u001b[39m \u001b[38;5;28;01mif\u001b[39;00m p < \u001b[32m0.0\u001b[39m \u001b[38;5;129;01mor\u001b[39;00m p > \u001b[32m1.0\u001b[39m:\n\u001b[32m   1423\u001b[39m     \u001b[38;5;28;01mraise\u001b[39;00m \u001b[38;5;167;01mValueError\u001b[39;00m(\u001b[33mf\u001b[39m\u001b[33m\"\u001b[39m\u001b[33mdropout probability has to be between 0 and 1, but got \u001b[39m\u001b[38;5;132;01m{\u001b[39;00mp\u001b[38;5;132;01m}\u001b[39;00m\u001b[33m\"\u001b[39m)\n\u001b[32m   1424\u001b[39m \u001b[38;5;28;01mreturn\u001b[39;00m (\n\u001b[32m-> \u001b[39m\u001b[32m1425\u001b[39m     _VF.dropout_(\u001b[38;5;28minput\u001b[39m, p, training) \u001b[38;5;28;01mif\u001b[39;00m inplace \u001b[38;5;28;01melse\u001b[39;00m \u001b[43m_VF\u001b[49m\u001b[43m.\u001b[49m\u001b[43mdropout\u001b[49m\u001b[43m(\u001b[49m\u001b[38;5;28;43minput\u001b[39;49m\u001b[43m,\u001b[49m\u001b[43m \u001b[49m\u001b[43mp\u001b[49m\u001b[43m,\u001b[49m\u001b[43m \u001b[49m\u001b[43mtraining\u001b[49m\u001b[43m)\u001b[49m\n\u001b[32m   1426\u001b[39m )\n",
            "\u001b[31mOutOfMemoryError\u001b[39m: CUDA out of memory. Tried to allocate 36.00 MiB. GPU 0 has a total capacity of 4.00 GiB of which 0 bytes is free. Including non-PyTorch memory, this process has 17179869184.00 GiB memory in use. Of the allocated memory 10.51 GiB is allocated by PyTorch, and 294.01 MiB is reserved by PyTorch but unallocated. If reserved but unallocated memory is large try setting PYTORCH_CUDA_ALLOC_CONF=expandable_segments:True to avoid fragmentation.  See documentation for Memory Management  (https://pytorch.org/docs/stable/notes/cuda.html#environment-variables)"
          ]
        }
      ],
      "source": [
        "train(model, train_dataloader, val_dataloader, criterion, optimizer, num_epochs=2, device=DEVICE)"
      ]
    },
    {
      "cell_type": "markdown",
      "metadata": {
        "id": "ShS_zWTrpLsV"
      },
      "source": [
        "# Evaluate"
      ]
    },
    {
      "cell_type": "code",
      "execution_count": null,
      "metadata": {
        "id": "K5JzXJQwpLsV"
      },
      "outputs": [],
      "source": []
    },
    {
      "cell_type": "markdown",
      "metadata": {
        "id": "-k9PRPl14reM"
      },
      "source": [
        "# Infer"
      ]
    },
    {
      "cell_type": "code",
      "execution_count": null,
      "metadata": {
        "id": "N7db4fYL74sG"
      },
      "outputs": [],
      "source": [
        "model.eval()\n",
        "\n",
        "loop = tqdm(val_dataloader, desc=\"Inferring\", leave=False)  # Progress bar\n",
        "\n",
        "ids = []\n",
        "preds = []\n",
        "\n",
        "with torch.no_grad():\n",
        "    for batch in loop:\n",
        "        video, audio, labels = batch[\"video\"].to(DEVICE), batch[\"audio\"].to(DEVICE), batch[\"label\"].to(DEVICE)\n",
        "        outputs = model(video, audio)\n",
        "        ids.extend(batch[\"id\"])\n",
        "        preds.extend(outputs.cpu())\n",
        "\n",
        "preds = np.array(preds)\n",
        "preds = torch.sigmoid(torch.tensor(preds)).numpy()\n",
        "preds.shape"
      ]
    },
    {
      "cell_type": "code",
      "execution_count": null,
      "metadata": {
        "id": "J4ruLkWo8OTT"
      },
      "outputs": [],
      "source": [
        "pred_df = pd.DataFrame({\"Id\": ids, \"Pred_ECR\": preds[:, 0], \"Pred_NAWP\": preds[:, 1],\n",
        "                        \"True_ECR\": val_df['ECR'], \"True_NAWP\": val_df['NAWP']})\n",
        "pred_df"
      ]
    },
    {
      "cell_type": "code",
      "execution_count": null,
      "metadata": {
        "id": "8NuNl_qY837Y"
      },
      "outputs": [],
      "source": [
        "fig, axes = plt.subplots(1, 2, figsize=(12, 6))\n",
        "\n",
        "axes[0].set_title(\"Target\")\n",
        "axes[0].hist(pred_df['True_ECR'], range=(0,1), histtype='step', label='ECR')\n",
        "axes[0].hist(pred_df['True_NAWP'], range=(0,1), histtype='step', label='NAWP')\n",
        "\n",
        "axes[1].set_title(\"Prediction\")\n",
        "axes[1].hist(pred_df['Pred_ECR'], range=(0,1), histtype='step', label='ECR')\n",
        "axes[1].hist(pred_df['Pred_NAWP'], range=(0,1), histtype='step', label='NAWP')\n",
        "\n",
        "plt.legend()\n",
        "plt.show()"
      ]
    },
    {
      "cell_type": "code",
      "execution_count": null,
      "metadata": {
        "id": "JBwe99Jz994y"
      },
      "outputs": [],
      "source": [
        "pred_df[pred_df['Pred_ECR'] == pred_df['Pred_ECR'].max()]"
      ]
    }
  ],
  "metadata": {
    "accelerator": "GPU",
    "colab": {
      "gpuType": "T4",
      "provenance": [],
      "toc_visible": true
    },
    "kernelspec": {
      "display_name": ".venv",
      "language": "python",
      "name": "python3"
    },
    "language_info": {
      "codemirror_mode": {
        "name": "ipython",
        "version": 3
      },
      "file_extension": ".py",
      "mimetype": "text/x-python",
      "name": "python",
      "nbconvert_exporter": "python",
      "pygments_lexer": "ipython3",
      "version": "3.12.2"
    }
  },
  "nbformat": 4,
  "nbformat_minor": 0
}
