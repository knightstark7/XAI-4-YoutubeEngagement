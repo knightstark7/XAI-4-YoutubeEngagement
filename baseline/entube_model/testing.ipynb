{
 "cells": [
  {
   "cell_type": "code",
   "execution_count": 1,
   "id": "e1da35f3",
   "metadata": {},
   "outputs": [
    {
     "name": "stderr",
     "output_type": "stream",
     "text": [
      "2025-05-05 07:39:19.633863: E external/local_xla/xla/stream_executor/cuda/cuda_fft.cc:467] Unable to register cuFFT factory: Attempting to register factory for plugin cuFFT when one has already been registered\n",
      "WARNING: All log messages before absl::InitializeLog() is called are written to STDERR\n",
      "E0000 00:00:1746430759.653110   11762 cuda_dnn.cc:8579] Unable to register cuDNN factory: Attempting to register factory for plugin cuDNN when one has already been registered\n",
      "E0000 00:00:1746430759.659194   11762 cuda_blas.cc:1407] Unable to register cuBLAS factory: Attempting to register factory for plugin cuBLAS when one has already been registered\n",
      "W0000 00:00:1746430759.677614   11762 computation_placer.cc:177] computation placer already registered. Please check linkage and avoid linking the same target more than once.\n",
      "W0000 00:00:1746430759.677635   11762 computation_placer.cc:177] computation placer already registered. Please check linkage and avoid linking the same target more than once.\n",
      "W0000 00:00:1746430759.677636   11762 computation_placer.cc:177] computation placer already registered. Please check linkage and avoid linking the same target more than once.\n",
      "W0000 00:00:1746430759.677637   11762 computation_placer.cc:177] computation placer already registered. Please check linkage and avoid linking the same target more than once.\n",
      "2025-05-05 07:39:19.682680: I tensorflow/core/platform/cpu_feature_guard.cc:210] This TensorFlow binary is optimized to use available CPU instructions in performance-critical operations.\n",
      "To enable the following instructions: AVX2 FMA, in other operations, rebuild TensorFlow with the appropriate compiler flags.\n"
     ]
    }
   ],
   "source": [
    "import os\n",
    "import math\n",
    "import numpy as np\n",
    "import pandas as pd\n",
    "import torch\n",
    "from torch import nn\n",
    "from torch import optim\n",
    "from torch.nn import functional as F\n",
    "from torch.utils.data import DataLoader, Dataset\n",
    "from torch.utils.tensorboard import SummaryWriter\n",
    "# func train\n",
    "from sklearn.metrics import f1_score, classification_report, accuracy_score\n",
    "from sklearn.model_selection import train_test_split\n",
    "from tqdm import tqdm\n",
    "# import built class\n",
    "from const import *\n",
    "from early_stopping import EarlyStopping\n",
    "from improved_model import ThesisEngagement"
   ]
  },
  {
   "cell_type": "code",
   "execution_count": 2,
   "id": "74130e8e",
   "metadata": {},
   "outputs": [],
   "source": [
    "class EntubeDataset(Dataset):\n",
    "  def __init__(self, df):\n",
    "        self.df = df\n",
    "\n",
    "  def __len__(self):\n",
    "    return len(self.df)\n",
    "\n",
    "  def __getitem__(self, idx):\n",
    "    row = self.df.iloc[idx]\n",
    "    embedding_data = np.load(os.path.join(EMBEDDED_DATA_DIR, 'agg', row['Id']) + '.npz', allow_pickle=True)\n",
    "    \n",
    "    # print((embedding_data['video_embedding'].shape, embedding_data['audio_embedding'].shape, embedding_data['title_embedding'].shape))\n",
    "\n",
    "    tensor_video = torch.tensor(np.array(list(map(lambda x: list(map(list, x)), embedding_data['video_embedding']))), \n",
    "                                dtype=torch.float)\n",
    "    \n",
    "    tensor_audio =  torch.tensor(np.array(list(map(list, embedding_data['audio_embedding']))), dtype=torch.float)\n",
    "        \n",
    "    tensor_title = torch.tensor(embedding_data['title_embedding'], dtype=torch.float)\n",
    "    lbl_tensor =  torch.tensor(row[SELECT_LABEL], dtype=torch.long)\n",
    "\n",
    "    res = ((tensor_title, tensor_video, tensor_audio), lbl_tensor)\n",
    "    return res"
   ]
  },
  {
   "cell_type": "code",
   "execution_count": 3,
   "id": "cd258a4d",
   "metadata": {},
   "outputs": [
    {
     "name": "stdout",
     "output_type": "stream",
     "text": [
      "Done load data, with (train 322, val 65, test 66)\n"
     ]
    }
   ],
   "source": [
    "#load data\n",
    "snapugc_df = pd.read_csv(os.path.join(ROOT_FOLDER, 'prepped_df.csv')) \n",
    "# create label\n",
    "THRESHOLD = 0.5 # [0.3, 0.7]\n",
    "def get_label(x):\n",
    "    if type(THRESHOLD) == list:\n",
    "        if x < THRESHOLD[0]:\n",
    "            return 0\n",
    "        elif x > THRESHOLD[1]:\n",
    "            return 2\n",
    "        else:\n",
    "            return 1\n",
    "    else:\n",
    "        if x <= THRESHOLD:\n",
    "            return 0\n",
    "        else:\n",
    "            return 1\n",
    "snapugc_df[SELECT_LABEL] = snapugc_df['NAWP'].apply(get_label) # small ECR is positive\n",
    "\n",
    "# split data\n",
    "# train_df = snapugc_df[snapugc_df['Set'] == 'train']\n",
    "# test_df = snapugc_df[snapugc_df['Set'] == 'test']\n",
    "# train_df, val_df = train_test_split(train_df, test_size=0.1, random_state=42, stratify=train_df[SELECT_LABEL])\n",
    "\n",
    "sub_df = pd.read_csv(os.path.join(ROOT_FOLDER, 'split_video_ids.csv')) \n",
    "\n",
    "train_df = snapugc_df[snapugc_df['Id'].isin(sub_df[sub_df['Set'] == 'train']['Id'])]\n",
    "val_df = snapugc_df[snapugc_df['Id'].isin(sub_df[sub_df['Set'] == 'val']['Id'])]\n",
    "test_df = snapugc_df[snapugc_df['Id'].isin(sub_df[sub_df['Set'] == 'test']['Id'])]\n",
    "\n",
    "print(f\"Done load data, with (train {len(train_df)}, val {len(val_df)}, test {len(test_df)})\")"
   ]
  },
  {
   "cell_type": "code",
   "execution_count": 4,
   "id": "baacb8ef",
   "metadata": {},
   "outputs": [],
   "source": [
    "train_dataset = EntubeDataset(train_df)\n",
    "train_loader = DataLoader(train_dataset, batch_size=BATCH_SIZE, shuffle=True, num_workers=4, drop_last=True)\n",
    "\n",
    "val_dataset = EntubeDataset(val_df)\n",
    "val_loader = DataLoader(val_dataset, batch_size=BATCH_SIZE, shuffle=False, num_workers=4, drop_last=True)\n",
    "\n",
    "test_dataset = EntubeDataset(test_df)\n",
    "test_loader = DataLoader(test_dataset, batch_size=BATCH_SIZE, shuffle=False, num_workers=0, drop_last=True)"
   ]
  },
  {
   "cell_type": "code",
   "execution_count": 5,
   "id": "3c1e9781",
   "metadata": {},
   "outputs": [
    {
     "data": {
      "text/plain": [
       "device(type='cuda')"
      ]
     },
     "execution_count": 5,
     "metadata": {},
     "output_type": "execute_result"
    }
   ],
   "source": [
    "#init to prepare train\n",
    "device = torch.device('cuda' if torch.cuda.is_available() else 'cpu')\n",
    "device"
   ]
  },
  {
   "cell_type": "code",
   "execution_count": 6,
   "id": "79dcc15f",
   "metadata": {},
   "outputs": [],
   "source": [
    "model = ThesisEngagement()\n",
    "model = model.to(device)\n",
    "\n",
    "loss_fn = nn.CrossEntropyLoss()"
   ]
  },
  {
   "cell_type": "code",
   "execution_count": 7,
   "id": "00c9bf81",
   "metadata": {},
   "outputs": [],
   "source": [
    "CHECKPOINT_DIR = '/mnt/d/Thesis/Prep/SnapUGC/checkpoints/model_main/label_2/sub_sample'"
   ]
  },
  {
   "cell_type": "code",
   "execution_count": 8,
   "id": "9326e386",
   "metadata": {},
   "outputs": [
    {
     "name": "stdout",
     "output_type": "stream",
     "text": [
      "Start testing...\n",
      "F1_score on test dataset of each epoch: \n",
      "Testing model:  /mnt/d/Thesis/Prep/SnapUGC/checkpoints/model_main/label_2/sub_sample/model_min_loss_val.pt\n"
     ]
    },
    {
     "name": "stderr",
     "output_type": "stream",
     "text": [
      "100%|██████████| 2/2 [00:03<00:00,  1.63s/it]"
     ]
    },
    {
     "name": "stdout",
     "output_type": "stream",
     "text": [
      "/mnt/d/Thesis/Prep/SnapUGC/checkpoints/model_main/label_2/sub_sample/model_min_loss_val.pt: F1: 0.6094, Acc: 0.6094\n",
      "Max f1 can get:  0.6094\n",
      "Max acc can get:  0.6094\n",
      "Done Testing\n"
     ]
    },
    {
     "name": "stderr",
     "output_type": "stream",
     "text": [
      "\n"
     ]
    }
   ],
   "source": [
    "print('Start testing...')\n",
    "print('F1_score on test dataset of each epoch: ')\n",
    "list_model = os.listdir(CHECKPOINT_DIR)\n",
    "list_model.sort()\n",
    "max_f1_test = 0\n",
    "max_acc_test = 0\n",
    "\n",
    "path = CHECKPOINT_DIR + '/model_min_loss_val.pt'\n",
    "\n",
    "print(\"Testing model: \", path)\n",
    "checkpoint = torch.load(os.path.join(CHECKPOINT_DIR, path))\n",
    "model = ThesisEngagement()\n",
    "model.load_state_dict(checkpoint['model_state_dict'])\n",
    "model = model.eval().to(device)\n",
    "pred_test = []\n",
    "lbl_test = []\n",
    "with torch.no_grad():\n",
    "    for embeds, labels in tqdm(val_loader, total=len(val_loader)):\n",
    "        embeds = tuple(embed.to(device) for embed in embeds)\n",
    "        labels = labels.to(device)\n",
    "        outputs = model(embeds)\n",
    "        lbl_test.append(labels.cpu())\n",
    "        _, predicts = torch.max(outputs, 1)\n",
    "        pred_test.append(predicts.cpu())\n",
    "        \n",
    "lbl_test = torch.cat(lbl_test, dim=0).numpy()\n",
    "pred_test = torch.cat(pred_test, dim=0).numpy()\n",
    "\n",
    "# metrics = classification_report(lbl_test, pred_test)\n",
    "#print(\"Done Testing. Classification_report for testing:\")\n",
    "f1 =  f1_score(lbl_test, pred_test, average='micro')\n",
    "acc_test = accuracy_score(lbl_test, pred_test)\n",
    "if f1 > max_f1_test:\n",
    "    max_f1_test = f1\n",
    "if acc_test > max_acc_test:\n",
    "    max_acc_test = acc_test\n",
    "print(f'{path}: F1: {round(f1,4)}, Acc: {round(acc_test,4)}')\n",
    "    \n",
    "print('Max f1 can get: ', round(max_f1_test,4))\n",
    "print('Max acc can get: ', round(max_acc_test,4))\n",
    "print('Done Testing')"
   ]
  },
  {
   "cell_type": "code",
   "execution_count": 9,
   "id": "14e4a996",
   "metadata": {},
   "outputs": [
    {
     "data": {
      "text/plain": [
       "array([0, 1, 0, 0, 0, 0, 0, 1, 0, 0, 1, 1, 0, 0, 0, 0, 0, 1, 0, 1, 1, 0,\n",
       "       1, 0, 0, 0, 1, 0, 1, 1, 1, 0, 0, 0, 1, 0, 0, 1, 1, 1, 0, 0, 1, 1,\n",
       "       0, 1, 1, 0, 0, 1, 1, 1, 0, 0, 0, 1, 0, 1, 1, 0, 1, 0, 1, 1])"
      ]
     },
     "execution_count": 9,
     "metadata": {},
     "output_type": "execute_result"
    }
   ],
   "source": [
    "pred_test"
   ]
  },
  {
   "cell_type": "code",
   "execution_count": 10,
   "id": "f4a71ced",
   "metadata": {},
   "outputs": [
    {
     "data": {
      "text/plain": [
       "<Axes: ylabel='Count'>"
      ]
     },
     "execution_count": 10,
     "metadata": {},
     "output_type": "execute_result"
    },
    {
     "data": {
      "image/png": "[encoded data removed]",
      "text/plain": [
       "<Figure size 640x480 with 1 Axes>"
      ]
     },
     "metadata": {},
     "output_type": "display_data"
    }
   ],
   "source": [
    "import seaborn as sns\n",
    "\n",
    "\n",
    "sns.histplot(pred_test)"
   ]
  }
 ],
 "metadata": {
  "kernelspec": {
   "display_name": ".venv_en",
   "language": "python",
   "name": "python3"
  },
  "language_info": {
   "codemirror_mode": {
    "name": "ipython",
    "version": 3
   },
   "file_extension": ".py",
   "mimetype": "text/x-python",
   "name": "python",
   "nbconvert_exporter": "python",
   "pygments_lexer": "ipython3",
   "version": "3.12.2"
  }
 },
 "nbformat": 4,
 "nbformat_minor": 5
}
